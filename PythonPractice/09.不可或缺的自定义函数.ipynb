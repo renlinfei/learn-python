{
 "cells": [
  {
   "cell_type": "code",
   "execution_count": 1,
   "id": "a4c60dbc-06ce-47c3-87bc-0fffa5fbe839",
   "metadata": {},
   "outputs": [
    {
     "name": "stdout",
     "output_type": "stream",
     "text": [
      "8\n"
     ]
    }
   ],
   "source": [
    "def my_sum(a, b):\n",
    "    return a + b\n",
    "\n",
    "result = my_sum(3, 5)\n",
    "print(result)"
   ]
  },
  {
   "cell_type": "code",
   "execution_count": 2,
   "id": "40699e4b-deca-4c08-b3ef-4c56329ac52c",
   "metadata": {},
   "outputs": [
    {
     "name": "stdout",
     "output_type": "stream",
     "text": [
      "largest element is: 8\n"
     ]
    }
   ],
   "source": [
    "def find_largest_element(l):\n",
    "    if not isinstance(l, list):\n",
    "        print('input is not type of list')\n",
    "        return\n",
    "    if len(l) == 0:\n",
    "        print('empty input')\n",
    "    largest_element = l[0]\n",
    "    for item in l:\n",
    "        if item > largest_element:\n",
    "            largest_element = item\n",
    "    print('largest element is: {}'.format(largest_element))\n",
    "\n",
    "find_largest_element([8, 1, -3, 2, 0])"
   ]
  },
  {
   "cell_type": "markdown",
   "id": "fada1621-5c34-47d9-b29e-dacf7d3a7826",
   "metadata": {},
   "source": [
    "* 注意，主程序调用函数时，必须保证这个函数此前已经定义过，不然就会报错，比如："
   ]
  },
  {
   "cell_type": "code",
   "execution_count": 3,
   "id": "65d5736a-aa60-49e7-bec0-8c54b061cad4",
   "metadata": {},
   "outputs": [
    {
     "ename": "NameError",
     "evalue": "name 'my_func2' is not defined",
     "output_type": "error",
     "traceback": [
      "\u001b[0;31m---------------------------------------------------------------------------\u001b[0m",
      "\u001b[0;31mNameError\u001b[0m                                 Traceback (most recent call last)",
      "Input \u001b[0;32mIn [3]\u001b[0m, in \u001b[0;36m<cell line: 1>\u001b[0;34m()\u001b[0m\n\u001b[0;32m----> 1\u001b[0m \u001b[43mmy_func2\u001b[49m(\u001b[38;5;124m'\u001b[39m\u001b[38;5;124mhello world\u001b[39m\u001b[38;5;124m'\u001b[39m)\n\u001b[1;32m      2\u001b[0m \u001b[38;5;28;01mdef\u001b[39;00m \u001b[38;5;21mmy_func2\u001b[39m(message):\n\u001b[1;32m      3\u001b[0m     \u001b[38;5;28mprint\u001b[39m(\u001b[38;5;124m'\u001b[39m\u001b[38;5;124mGot a message: \u001b[39m\u001b[38;5;132;01m{}\u001b[39;00m\u001b[38;5;124m'\u001b[39m\u001b[38;5;241m.\u001b[39mformat(message))\n",
      "\u001b[0;31mNameError\u001b[0m: name 'my_func2' is not defined"
     ]
    }
   ],
   "source": [
    "my_func2('hello world')\n",
    "def my_func2(message):\n",
    "    print('Got a message: {}'.format(message))"
   ]
  },
  {
   "cell_type": "code",
   "execution_count": 4,
   "id": "846b7e00-24e5-48c9-81c8-5b397654f9b0",
   "metadata": {},
   "outputs": [
    {
     "name": "stdout",
     "output_type": "stream",
     "text": [
      "[1, 2, 3, 4]\n"
     ]
    }
   ],
   "source": [
    "print(my_sum([1, 2], [3, 4]))"
   ]
  },
  {
   "cell_type": "code",
   "execution_count": 5,
   "id": "9260b425-11a5-452e-a25c-e01794f7dcb3",
   "metadata": {},
   "outputs": [
    {
     "data": {
      "text/plain": [
       "(1, 2, 3, 4)"
      ]
     },
     "execution_count": 5,
     "metadata": {},
     "output_type": "execute_result"
    }
   ],
   "source": [
    "(1, 2) + (3, 4)"
   ]
  },
  {
   "cell_type": "code",
   "execution_count": 6,
   "id": "aead65ac-80ed-4127-93dd-b7ce3820a534",
   "metadata": {},
   "outputs": [
    {
     "name": "stdout",
     "output_type": "stream",
     "text": [
      "helloworld\n"
     ]
    }
   ],
   "source": [
    "print(my_sum('hello', 'world'))"
   ]
  },
  {
   "cell_type": "code",
   "execution_count": 7,
   "id": "2d908d34-1c00-4e8d-bfa2-593ef11bb4b4",
   "metadata": {},
   "outputs": [
    {
     "ename": "TypeError",
     "evalue": "can only concatenate list (not \"str\") to list",
     "output_type": "error",
     "traceback": [
      "\u001b[0;31m---------------------------------------------------------------------------\u001b[0m",
      "\u001b[0;31mTypeError\u001b[0m                                 Traceback (most recent call last)",
      "Input \u001b[0;32mIn [7]\u001b[0m, in \u001b[0;36m<cell line: 1>\u001b[0;34m()\u001b[0m\n\u001b[0;32m----> 1\u001b[0m \u001b[38;5;28mprint\u001b[39m(\u001b[43mmy_sum\u001b[49m\u001b[43m(\u001b[49m\u001b[43m[\u001b[49m\u001b[38;5;241;43m1\u001b[39;49m\u001b[43m,\u001b[49m\u001b[43m \u001b[49m\u001b[38;5;241;43m2\u001b[39;49m\u001b[43m]\u001b[49m\u001b[43m,\u001b[49m\u001b[43m \u001b[49m\u001b[38;5;124;43m'\u001b[39;49m\u001b[38;5;124;43mhello\u001b[39;49m\u001b[38;5;124;43m'\u001b[39;49m\u001b[43m)\u001b[49m)\n",
      "Input \u001b[0;32mIn [1]\u001b[0m, in \u001b[0;36mmy_sum\u001b[0;34m(a, b)\u001b[0m\n\u001b[1;32m      1\u001b[0m \u001b[38;5;28;01mdef\u001b[39;00m \u001b[38;5;21mmy_sum\u001b[39m(a, b):\n\u001b[0;32m----> 2\u001b[0m     \u001b[38;5;28;01mreturn\u001b[39;00m \u001b[43ma\u001b[49m\u001b[43m \u001b[49m\u001b[38;5;241;43m+\u001b[39;49m\u001b[43m \u001b[49m\u001b[43mb\u001b[49m\n",
      "\u001b[0;31mTypeError\u001b[0m: can only concatenate list (not \"str\") to list"
     ]
    }
   ],
   "source": [
    "print(my_sum([1, 2], 'hello'))"
   ]
  },
  {
   "cell_type": "markdown",
   "id": "df83bc14-6f3f-4421-bb2c-2dd14ba919f5",
   "metadata": {},
   "source": [
    "* 函数嵌套"
   ]
  },
  {
   "cell_type": "code",
   "execution_count": 8,
   "id": "3f37db29-336f-43eb-bdf4-a292c2f8838d",
   "metadata": {},
   "outputs": [
    {
     "name": "stdout",
     "output_type": "stream",
     "text": [
      "hello\n",
      "world\n"
     ]
    }
   ],
   "source": [
    "def f1():\n",
    "    print('hello')\n",
    "    def f2():\n",
    "        print('world')\n",
    "    f2()\n",
    "f1()"
   ]
  },
  {
   "cell_type": "code",
   "execution_count": 10,
   "id": "a68d5ad4-bf1d-4bef-a5b3-7b236f89ebe8",
   "metadata": {},
   "outputs": [],
   "source": [
    "MIN_VALUE = 1\n",
    "MAX_VALUE = 10\n",
    "def validation_check(value):\n",
    "    # global MIN_VALUE\n",
    "    MIN_VALUE += 1\n",
    "validation_check(5)"
   ]
  },
  {
   "cell_type": "code",
   "execution_count": 12,
   "id": "df2a18d3-0141-47d5-a7be-e89f46e32aa0",
   "metadata": {},
   "outputs": [
    {
     "name": "stdout",
     "output_type": "stream",
     "text": [
      "inner: nonlocal\n",
      "outer: nonlocal\n"
     ]
    }
   ],
   "source": [
    "def outer():\n",
    "    x = \"local\"\n",
    "    def inner():\n",
    "        nonlocal x # nonlocal关键字表示这里的x就是外部函数outer定义的变量x\n",
    "        x = 'nonlocal'\n",
    "        print(\"inner:\", x)\n",
    "    inner()\n",
    "    print(\"outer:\", x)\n",
    "outer()"
   ]
  },
  {
   "cell_type": "markdown",
   "id": "d1d65bc2-347b-468c-befc-e487d93a5e02",
   "metadata": {},
   "source": [
    "* 闭包（closure）"
   ]
  },
  {
   "cell_type": "code",
   "execution_count": 13,
   "id": "d136bcd8-f841-4821-8999-fbac70d36a50",
   "metadata": {},
   "outputs": [
    {
     "data": {
      "text/plain": [
       "<function __main__.nth_power.<locals>.exponent_of(base)>"
      ]
     },
     "execution_count": 13,
     "metadata": {},
     "output_type": "execute_result"
    }
   ],
   "source": [
    "def nth_power(exponent):\n",
    "    def exponent_of(base):\n",
    "        return base ** exponent\n",
    "    return exponent_of # 返回值是exponent_of函数\n",
    "square = nth_power(2) # 计算一个数的平方\n",
    "cube = nth_power(3) # 计算一个数的立方\n",
    "\n",
    "square"
   ]
  },
  {
   "cell_type": "code",
   "execution_count": 14,
   "id": "022ab003-f3c8-4ba5-b13c-4c5921f77784",
   "metadata": {},
   "outputs": [
    {
     "data": {
      "text/plain": [
       "<function __main__.nth_power.<locals>.exponent_of(base)>"
      ]
     },
     "execution_count": 14,
     "metadata": {},
     "output_type": "execute_result"
    }
   ],
   "source": [
    "cube"
   ]
  },
  {
   "cell_type": "code",
   "execution_count": 16,
   "id": "fef49ad7-f1f8-4c72-91b6-4587d1b855f0",
   "metadata": {},
   "outputs": [
    {
     "name": "stdout",
     "output_type": "stream",
     "text": [
      "4\n",
      "8\n"
     ]
    }
   ],
   "source": [
    "print(square(2)) # 计算2的平方\n",
    "print(cube(2)) # 计算2的立方"
   ]
  },
  {
   "cell_type": "code",
   "execution_count": 17,
   "id": "8a740602-7c51-4499-83b7-29a6a0f4054d",
   "metadata": {},
   "outputs": [],
   "source": [
    "num = 10\n",
    "def foo():\n",
    "    print(num)"
   ]
  },
  {
   "cell_type": "code",
   "execution_count": 18,
   "id": "23be4233-f1de-4592-bdbe-6148a3e6a5aa",
   "metadata": {},
   "outputs": [
    {
     "name": "stdout",
     "output_type": "stream",
     "text": [
      "10\n"
     ]
    }
   ],
   "source": [
    "foo()"
   ]
  },
  {
   "cell_type": "code",
   "execution_count": 19,
   "id": "1cc8e553-0ede-4e7d-b55b-d32028af072a",
   "metadata": {},
   "outputs": [],
   "source": [
    "num2 = 10\n",
    "def foo2():\n",
    "    num2 += 1\n",
    "    print(num2)"
   ]
  },
  {
   "cell_type": "code",
   "execution_count": 20,
   "id": "c85aa66d-f2c2-4736-896f-da3c93ce67cb",
   "metadata": {},
   "outputs": [
    {
     "ename": "UnboundLocalError",
     "evalue": "local variable 'num2' referenced before assignment",
     "output_type": "error",
     "traceback": [
      "\u001b[0;31m---------------------------------------------------------------------------\u001b[0m",
      "\u001b[0;31mUnboundLocalError\u001b[0m                         Traceback (most recent call last)",
      "Input \u001b[0;32mIn [20]\u001b[0m, in \u001b[0;36m<cell line: 1>\u001b[0;34m()\u001b[0m\n\u001b[0;32m----> 1\u001b[0m \u001b[43mfoo2\u001b[49m\u001b[43m(\u001b[49m\u001b[43m)\u001b[49m\n",
      "Input \u001b[0;32mIn [19]\u001b[0m, in \u001b[0;36mfoo2\u001b[0;34m()\u001b[0m\n\u001b[1;32m      2\u001b[0m \u001b[38;5;28;01mdef\u001b[39;00m \u001b[38;5;21mfoo2\u001b[39m():\n\u001b[0;32m----> 3\u001b[0m     num2 \u001b[38;5;241m+\u001b[39m\u001b[38;5;241m=\u001b[39m \u001b[38;5;241m1\u001b[39m\n\u001b[1;32m      4\u001b[0m     \u001b[38;5;28mprint\u001b[39m(num2)\n",
      "\u001b[0;31mUnboundLocalError\u001b[0m: local variable 'num2' referenced before assignment"
     ]
    }
   ],
   "source": [
    "foo2()"
   ]
  },
  {
   "cell_type": "code",
   "execution_count": 21,
   "id": "5d0c9fba-2d8e-4ffd-8d66-690d2889223a",
   "metadata": {},
   "outputs": [
    {
     "data": {
      "text/plain": [
       "0"
      ]
     },
     "execution_count": 21,
     "metadata": {},
     "output_type": "execute_result"
    }
   ],
   "source": [
    "def yield_exam():\n",
    "    for i in range(5):\n",
    "        yield i\n",
    "        print(\"i: {}\".format(i))\n",
    "a = yield_exam() # 这里产生一个生成器对象并命名为a\n",
    "next(a)"
   ]
  },
  {
   "cell_type": "code",
   "execution_count": 22,
   "id": "86100c91-93d0-442a-99f5-c19e1473bc0f",
   "metadata": {},
   "outputs": [
    {
     "name": "stdout",
     "output_type": "stream",
     "text": [
      "i: 0\n"
     ]
    },
    {
     "data": {
      "text/plain": [
       "1"
      ]
     },
     "execution_count": 22,
     "metadata": {},
     "output_type": "execute_result"
    }
   ],
   "source": [
    "next(a)"
   ]
  },
  {
   "cell_type": "code",
   "execution_count": 23,
   "id": "00d7460b-fa3c-4df7-9a0e-3879bf4abad5",
   "metadata": {},
   "outputs": [
    {
     "name": "stdout",
     "output_type": "stream",
     "text": [
      "i: 1\n"
     ]
    },
    {
     "data": {
      "text/plain": [
       "2"
      ]
     },
     "execution_count": 23,
     "metadata": {},
     "output_type": "execute_result"
    }
   ],
   "source": [
    "next(a)"
   ]
  },
  {
   "cell_type": "code",
   "execution_count": 25,
   "id": "ad6f8480-2bf9-4bd3-8c52-25c62ba5f51a",
   "metadata": {},
   "outputs": [
    {
     "data": {
      "text/plain": [
       "0"
      ]
     },
     "execution_count": 25,
     "metadata": {},
     "output_type": "execute_result"
    }
   ],
   "source": [
    "def multi_yield():\n",
    "    yield 0\n",
    "    yield 1\n",
    "    yield 2\n",
    "    yield 3\n",
    "b = multi_yield()\n",
    "\n",
    "next(b)"
   ]
  },
  {
   "cell_type": "code",
   "execution_count": 26,
   "id": "ea191d17-cd59-42d0-a6bc-4bfd8b92dad6",
   "metadata": {},
   "outputs": [
    {
     "data": {
      "text/plain": [
       "1"
      ]
     },
     "execution_count": 26,
     "metadata": {},
     "output_type": "execute_result"
    }
   ],
   "source": [
    "next(b)"
   ]
  },
  {
   "cell_type": "code",
   "execution_count": 27,
   "id": "d8883228-fed2-43d4-bcf8-e1f68982578d",
   "metadata": {},
   "outputs": [
    {
     "data": {
      "text/plain": [
       "2"
      ]
     },
     "execution_count": 27,
     "metadata": {},
     "output_type": "execute_result"
    }
   ],
   "source": [
    "next(b)"
   ]
  },
  {
   "cell_type": "code",
   "execution_count": 28,
   "id": "014b286c-89b1-4926-b0f5-f37571d6bff9",
   "metadata": {},
   "outputs": [
    {
     "data": {
      "text/plain": [
       "3"
      ]
     },
     "execution_count": 28,
     "metadata": {},
     "output_type": "execute_result"
    }
   ],
   "source": [
    "next(b)"
   ]
  },
  {
   "cell_type": "code",
   "execution_count": 29,
   "id": "36e71b3a-58a9-4be8-a152-93b3c4388f1d",
   "metadata": {},
   "outputs": [
    {
     "ename": "StopIteration",
     "evalue": "",
     "output_type": "error",
     "traceback": [
      "\u001b[0;31m---------------------------------------------------------------------------\u001b[0m",
      "\u001b[0;31mStopIteration\u001b[0m                             Traceback (most recent call last)",
      "Input \u001b[0;32mIn [29]\u001b[0m, in \u001b[0;36m<cell line: 1>\u001b[0;34m()\u001b[0m\n\u001b[0;32m----> 1\u001b[0m \u001b[38;5;28;43mnext\u001b[39;49m\u001b[43m(\u001b[49m\u001b[43mb\u001b[49m\u001b[43m)\u001b[49m\n",
      "\u001b[0;31mStopIteration\u001b[0m: "
     ]
    }
   ],
   "source": [
    "next(b)"
   ]
  },
  {
   "cell_type": "code",
   "execution_count": null,
   "id": "41076761-9b4d-46ec-b057-cedf946d103d",
   "metadata": {},
   "outputs": [],
   "source": []
  }
 ],
 "metadata": {
  "kernelspec": {
   "display_name": "Python 3 (ipykernel)",
   "language": "python",
   "name": "python3"
  },
  "language_info": {
   "codemirror_mode": {
    "name": "ipython",
    "version": 3
   },
   "file_extension": ".py",
   "mimetype": "text/x-python",
   "name": "python",
   "nbconvert_exporter": "python",
   "pygments_lexer": "ipython3",
   "version": "3.9.0"
  }
 },
 "nbformat": 4,
 "nbformat_minor": 5
}
