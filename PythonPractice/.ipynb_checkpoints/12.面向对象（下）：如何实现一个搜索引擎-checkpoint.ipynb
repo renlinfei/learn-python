{
 "cells": [
  {
   "cell_type": "code",
   "execution_count": 2,
   "id": "36ebeb57-d936-4fba-b680-06e73968ac65",
   "metadata": {
    "tags": []
   },
   "outputs": [],
   "source": [
    "class SearchEngineBase(object):\n",
    "    def __init__(self):\n",
    "        pass\n",
    "    \n",
    "    def add_corpus(self, file_path):\n",
    "        with open(file_path, 'r') as fin:\n",
    "            text = fin.read()\n",
    "        self.process_corpus(file_path, text)\n",
    "    \n",
    "    def process_corpus(self, id, text):\n",
    "        raise Exception('process_corpus not implemented.')\n",
    "    \n",
    "    def search(self, query):\n",
    "        raise Exception('search not implemented.')\n",
    "\n",
    "def main(search_engine):\n",
    "    for file_path in ['1.txt', '2.txt', '3.txt', '4.txt', '5.txt']:\n",
    "        search_engine.add_corpus(file_path)\n",
    "    \n",
    "    while True:\n",
    "        query = input()\n",
    "        results = search_engine.search(query)\n",
    "        print('found {} result(s)'.format(len(results)))\n",
    "        for result in results:\n",
    "            print(result)\n",
    "\n",
    "class SimpleEngine(SearchEngineBase):\n",
    "    def __init__(self):\n",
    "        super(SimpleEngine, self).__init__()\n",
    "        self.__id_to_texts = {}\n",
    "    \n",
    "    def process_corpus(self, id, text):\n",
    "        self.__id_to_texts[id] = text\n",
    "    \n",
    "    def search(self, query): \n",
    "        results = [] \n",
    "        for id, text in self.__id_to_texts.items(): \n",
    "            if query in text: \n",
    "                results.append(id) \n",
    "        return results\n",
    "\n",
    "# search_engine = SimpleEngine()\n",
    "# main(search_engine)"
   ]
  },
  {
   "cell_type": "code",
   "execution_count": null,
   "id": "cac71b8d-39a7-4f5c-8806-3a92dfc8ef7b",
   "metadata": {},
   "outputs": [
    {
     "name": "stdin",
     "output_type": "stream",
     "text": [
      " i have a dream\n"
     ]
    },
    {
     "name": "stdout",
     "output_type": "stream",
     "text": [
      "found 3 result(s)\n",
      "1.txt\n",
      "2.txt\n",
      "3.txt\n"
     ]
    },
    {
     "name": "stdin",
     "output_type": "stream",
     "text": [
      " I have a dream\n"
     ]
    },
    {
     "name": "stdout",
     "output_type": "stream",
     "text": [
      "found 3 result(s)\n",
      "1.txt\n",
      "2.txt\n",
      "3.txt\n"
     ]
    },
    {
     "name": "stdin",
     "output_type": "stream",
     "text": [
      " I HAVE A DREAM\n"
     ]
    },
    {
     "name": "stdout",
     "output_type": "stream",
     "text": [
      "found 3 result(s)\n",
      "1.txt\n",
      "2.txt\n",
      "3.txt\n"
     ]
    },
    {
     "name": "stdin",
     "output_type": "stream",
     "text": [
      " I HAVES A\n"
     ]
    },
    {
     "name": "stdout",
     "output_type": "stream",
     "text": [
      "found 0 result(s)\n"
     ]
    }
   ],
   "source": [
    "import re\n",
    "\n",
    "class BOWEngine(SearchEngineBase):\n",
    "    def __init__(self):\n",
    "        super().__init__()\n",
    "        self.__id_to_words = {}\n",
    "    \n",
    "    def process_corpus(self, id, text):\n",
    "        self.__id_to_words[id] = self.parse_text_to_words(text)\n",
    "    \n",
    "    def search(self, query):\n",
    "        query_words = self.parse_text_to_words(query)\n",
    "        results = []\n",
    "        for id, words in self.__id_to_words.items():\n",
    "            if self.query_match(query_words, words):\n",
    "                results.append(id)\n",
    "        return results\n",
    "    \n",
    "    @staticmethod\n",
    "    def query_match(query_words, words):\n",
    "        for query_word in query_words:\n",
    "            if query_word not in words:\n",
    "                return False\n",
    "        return True\n",
    "    \n",
    "    @staticmethod\n",
    "    def parse_text_to_words(text):\n",
    "        # 使用正则表达式去除标点符号和换行符\n",
    "        text = re.sub(r'[^\\w]', ' ', text)\n",
    "        # 转化小写\n",
    "        text = text.lower()\n",
    "        # 生成所有单词的列表\n",
    "        word_list = text.split(' ')\n",
    "        # 去除空白单词\n",
    "        word_list = filter(None, word_list)\n",
    "        # 返回单词list\n",
    "        return set(word_list)\n",
    "search_engine = BOWEngine()\n",
    "main(search_engine)"
   ]
  },
  {
   "cell_type": "code",
   "execution_count": 23,
   "id": "6ac38d2f-6704-4a1a-ae4e-980d23ba80f1",
   "metadata": {},
   "outputs": [
    {
     "name": "stdout",
     "output_type": "stream",
     "text": [
      "['I', 'm', 'a', 'good', 'student', 'and_888', '', '9']\n",
      "{'student', '9', 'm', 'a', 'I', 'and_888', 'good'}\n",
      "[(-1, 'a'), (0, 'b'), (1, 'c')]\n",
      "[0, 0, 0, 0]\n"
     ]
    }
   ],
   "source": [
    "import re\n",
    "s = \"I'm a good student.and_888--9\"\n",
    "s = re.sub(r'[^\\w]', ' ', s)\n",
    "print(s.split(' '))\n",
    "print(set(filter(None, s.split(' '))))\n",
    "\n",
    "index = {\n",
    "    \"a\": 1,\n",
    "    \"b\": 2,\n",
    "    \"c\": 3\n",
    "}\n",
    "\n",
    "# print(('a', 1) in index.keys)\n",
    "\n",
    "print(list(enumerate('abc', start=-1)))\n",
    "\n",
    "\n",
    "# results = set() \n",
    "# for idx, query_word in enumerate(query_words): # 获取每一个单词的存在逻辑 \n",
    "#     if idx == 0: \n",
    "#         results = set(self.inverted_index[query_word]) \n",
    "#     results = results.intersection(self.inverted_index[query_word]) \n",
    "# return results\n",
    "\n",
    "\n",
    "query_words = list(['I', 'am', 'a', 'good'])\n",
    "query_words_index = list()\n",
    "for query_word in query_words:\n",
    "    query_words_index.append(0)\n",
    "print(query_words_index)"
   ]
  },
  {
   "cell_type": "code",
   "execution_count": null,
   "id": "af93204c-8433-4d5b-a4e8-50713c0a33c0",
   "metadata": {},
   "outputs": [
    {
     "name": "stdin",
     "output_type": "stream",
     "text": [
      " little\n"
     ]
    },
    {
     "name": "stdout",
     "output_type": "stream",
     "text": [
      "found 2 result(s)\n",
      "1.txt\n",
      "2.txt\n"
     ]
    }
   ],
   "source": [
    "import re\n",
    "\n",
    "class BOWInvertedIndexEngine(SearchEngineBase):\n",
    "    def __init__(self):\n",
    "        super().__init__()\n",
    "        self.__inverted_index = {}\n",
    "    \n",
    "    def process_corpus(self, id, text):\n",
    "        words = self.parse_text_to_words(text)\n",
    "        for word in words:\n",
    "            if word not in self.__inverted_index:\n",
    "                self.__inverted_index[word] = []\n",
    "            self.__inverted_index[word].append(id)\n",
    "                \n",
    "    def search(self, query):\n",
    "        query_words = list(self.parse_text_to_words(query))\n",
    "        query_words_index = list()\n",
    "        for query_word in query_words:\n",
    "            query_words_index.append(0)\n",
    "        # 如果某一个单词的倒序索引为空，立刻返回\n",
    "        for query_word in query_words:\n",
    "            if query_word not in self.__inverted_index:\n",
    "                return []\n",
    "        \n",
    "        result = []\n",
    "        while True:\n",
    "            # 首先获得当前状态下所有倒序索引的index\n",
    "            current_ids = []\n",
    "            \n",
    "            for idx, query_word in enumerate(query_words):\n",
    "                current_index = query_words_index[idx]\n",
    "                current_inverted_list = self.__inverted_index[query_word]\n",
    "                \n",
    "                # 已经遍历到某一个倒序索引的末尾，结束search\n",
    "                if current_index >= len(current_inverted_list):\n",
    "                    return result\n",
    "                current_ids.append(current_inverted_list[current_index])\n",
    "            \n",
    "            # 然后，如果current_ids的所有元素都一样，那么表明这个单词在这个元素对应的文档中都出现了\n",
    "            if all(x == current_ids[0] for x in current_ids):\n",
    "                result.append(current_ids[0])\n",
    "                query_words_index = [x + 1 for x in query_words_index]\n",
    "                continue\n",
    "            # 如果不是，我们就把最小元素加一\n",
    "            min_val = min(current_ids)\n",
    "            min_val_pos = current_ids.index(min_val)\n",
    "            query_words_index[min_val_pos] += 1\n",
    "    \n",
    "    @staticmethod\n",
    "    def parse_text_to_words(text):\n",
    "        # 使用正则去除标点符号和换行符\n",
    "        text = re.sub(r'[^\\w]', ' ', text)\n",
    "        # 转化为小写\n",
    "        text = text.lower()\n",
    "        # 生成所有单词列表\n",
    "        word_list = text.split(' ')\n",
    "        # 去除空白词\n",
    "        word_list = filter(None, word_list)\n",
    "        # 返回单词的set\n",
    "        return set(word_list)\n",
    "\n",
    "search_engine = BOWInvertedIndexEngine()\n",
    "main(search_engine)"
   ]
  },
  {
   "cell_type": "code",
   "execution_count": null,
   "id": "2f3469bf-72a7-408a-902a-49b737b54fd1",
   "metadata": {},
   "outputs": [],
   "source": [
    "# 测试\n",
    "\n",
    "class A():\n",
    "    def __init__(self):\n",
    "        print('enter A')\n",
    "        print('leave A')\n",
    "\n",
    "class B(A):\n",
    "    def __init__(self):\n",
    "        print('enter B')\n",
    "        super().__init__()\n",
    "        print('leave B')\n",
    "\n"
   ]
  }
 ],
 "metadata": {
  "kernelspec": {
   "display_name": "Python 3.9 (XPython)",
   "language": "python",
   "name": "xpython"
  },
  "language_info": {
   "file_extension": ".py",
   "mimetype": "text/x-python",
   "name": "python",
   "version": "3.9.11"
  }
 },
 "nbformat": 4,
 "nbformat_minor": 5
}
