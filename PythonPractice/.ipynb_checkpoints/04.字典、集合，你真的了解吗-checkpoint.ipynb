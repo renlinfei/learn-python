{
 "cells": [
  {
   "cell_type": "code",
   "execution_count": 7,
   "id": "b1257bde-739d-4e7e-a189-2822b1cb5545",
   "metadata": {},
   "outputs": [
    {
     "data": {
      "text/plain": [
       "True"
      ]
     },
     "execution_count": 7,
     "metadata": {},
     "output_type": "execute_result"
    }
   ],
   "source": [
    "d1 = {'name': 'chris', 'age': 34, 'gender': 'male'}\n",
    "d2 = dict({'name': 'chris', 'age': 34, 'gender': 'male'})\n",
    "d3 = dict([('name', 'chris'), ('age', 34), ('gender', 'male')])\n",
    "d4 = dict(name='chris', age=34, gender='male')\n",
    "d1 == d2 == d3 == d4\n"
   ]
  },
  {
   "cell_type": "code",
   "execution_count": 8,
   "id": "a7a4c843-c6ba-482c-b8cc-ab437ab04ed7",
   "metadata": {},
   "outputs": [
    {
     "data": {
      "text/plain": [
       "True"
      ]
     },
     "execution_count": 8,
     "metadata": {},
     "output_type": "execute_result"
    }
   ],
   "source": [
    "s1 = {1, 2, 3}\n",
    "s2 = set([1, 2, 3])\n",
    "s1 == s2"
   ]
  },
  {
   "cell_type": "code",
   "execution_count": 9,
   "id": "b1656337-e3a0-49b2-9022-df43012c0fbc",
   "metadata": {},
   "outputs": [
    {
     "data": {
      "text/plain": [
       "'chris'"
      ]
     },
     "execution_count": 9,
     "metadata": {},
     "output_type": "execute_result"
    }
   ],
   "source": [
    "d = {'name': 'chris', 'age': 34}\n",
    "d['name']"
   ]
  },
  {
   "cell_type": "code",
   "execution_count": 10,
   "id": "ffa8e7de-277a-4f50-9426-17b36cb55b01",
   "metadata": {},
   "outputs": [
    {
     "ename": "KeyError",
     "evalue": "'location'",
     "output_type": "error",
     "traceback": [
      "\u001b[0;31m---------------------------------------------------------------------------\u001b[0m",
      "\u001b[0;31mKeyError\u001b[0m                                  Traceback (most recent call last)",
      "Input \u001b[0;32mIn [10]\u001b[0m, in \u001b[0;36m<cell line: 1>\u001b[0;34m()\u001b[0m\n\u001b[0;32m----> 1\u001b[0m \u001b[43md\u001b[49m\u001b[43m[\u001b[49m\u001b[38;5;124;43m'\u001b[39;49m\u001b[38;5;124;43mlocation\u001b[39;49m\u001b[38;5;124;43m'\u001b[39;49m\u001b[43m]\u001b[49m\n",
      "\u001b[0;31mKeyError\u001b[0m: 'location'"
     ]
    }
   ],
   "source": [
    "d['location']"
   ]
  },
  {
   "cell_type": "code",
   "execution_count": 11,
   "id": "67403674-b739-49e2-8a38-7c798c538dff",
   "metadata": {},
   "outputs": [
    {
     "data": {
      "text/plain": [
       "'null'"
      ]
     },
     "execution_count": 11,
     "metadata": {},
     "output_type": "execute_result"
    }
   ],
   "source": [
    "d.get('location', 'null')"
   ]
  }
 ],
 "metadata": {
  "kernelspec": {
   "display_name": "Python 3 (ipykernel)",
   "language": "python",
   "name": "python3"
  },
  "language_info": {
   "codemirror_mode": {
    "name": "ipython",
    "version": 3
   },
   "file_extension": ".py",
   "mimetype": "text/x-python",
   "name": "python",
   "nbconvert_exporter": "python",
   "pygments_lexer": "ipython3",
   "version": "3.9.0"
  }
 },
 "nbformat": 4,
 "nbformat_minor": 5
}
