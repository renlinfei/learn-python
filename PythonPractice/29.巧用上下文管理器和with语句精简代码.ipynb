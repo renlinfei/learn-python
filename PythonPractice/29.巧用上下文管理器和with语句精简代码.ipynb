{
 "cells": [
  {
   "cell_type": "markdown",
   "id": "81b88015-06ca-4f01-a86f-23d9ade307a0",
   "metadata": {},
   "source": [
    "**什么是上下文管理器**\n",
    "\n",
    "**上下文管理器的实现**\n",
    "**基于类的上下文管理**\n"
   ]
  },
  {
   "cell_type": "code",
   "execution_count": 3,
   "id": "3565c5f9-b483-435c-8901-53552ba42734",
   "metadata": {},
   "outputs": [
    {
     "name": "stdout",
     "output_type": "stream",
     "text": [
      "calling __init__ method\n",
      "calling __enter__ method\n",
      "ready to write to file\n",
      "calling __exit__ method\n"
     ]
    }
   ],
   "source": [
    "class FileManager:\n",
    "    def __init__(self, name, mode):\n",
    "        print('calling __init__ method')\n",
    "        self.name = name\n",
    "        self.mode = mode\n",
    "        self.file = None\n",
    "    \n",
    "    def __enter__(self):\n",
    "        print('calling __enter__ method')\n",
    "        self.file = open(self.name, self.mode)\n",
    "        return self.file\n",
    "    \n",
    "    def __exit__(self, exc_type, exc_val, exc_tb):\n",
    "        print('calling __exit__ method')\n",
    "        if self.file:\n",
    "            self.file.close()\n",
    "\n",
    "with FileManager('test.txt', 'w') as f:\n",
    "    print('ready to write to file')\n",
    "    f.write('hello world')"
   ]
  },
  {
   "cell_type": "code",
   "execution_count": 4,
   "id": "2c677736-4896-40ab-9852-7769f873475e",
   "metadata": {},
   "outputs": [
    {
     "name": "stdout",
     "output_type": "stream",
     "text": [
      "__init__ called\n",
      "__enter__ called\n",
      "__exit__called\n",
      "exc_type: <class 'Exception'>\n",
      "exc_value: exception raised\n",
      "exc_traceback: <traceback object at 0x7f97c79c1980>\n"
     ]
    }
   ],
   "source": [
    "class Foo:\n",
    "    def __init__(self):\n",
    "        print('__init__ called')\n",
    "    \n",
    "    def __enter__(self):\n",
    "        print('__enter__ called')\n",
    "        return self\n",
    "    \n",
    "    def __exit__(self, exc_type, exc_value, exc_tb):\n",
    "        print('__exit__called')\n",
    "        if exc_type:\n",
    "            print(f'exc_type: {exc_type}')\n",
    "            print(f'exc_value: {exc_value}')\n",
    "            print(f'exc_traceback: {exc_tb}')\n",
    "        return True\n",
    "\n",
    "with Foo() as obj:\n",
    "    raise Exception('exception raised').with_traceback(None)"
   ]
  },
  {
   "cell_type": "markdown",
   "id": "c55f5364-27d9-4cf7-ad53-39d249814e7f",
   "metadata": {},
   "source": [
    "**基于生成器的上下文管理器**\n"
   ]
  },
  {
   "cell_type": "code",
   "execution_count": 11,
   "id": "9d2b374c-73ea-4139-82cb-6daedbd878cf",
   "metadata": {},
   "outputs": [],
   "source": [
    "from contextlib import contextmanager\n",
    "\n",
    "@contextmanager\n",
    "def file_manager(name, mode):\n",
    "    try:\n",
    "        f = open(name, mode)\n",
    "        yield f\n",
    "    finally:\n",
    "        f.close()\n",
    "\n",
    "with file_manager('test.txt', 'w') as f:\n",
    "    f.write('hello world2222')"
   ]
  },
  {
   "cell_type": "markdown",
   "id": "1ed03f35-9a8b-4312-983d-aefaff95d8b2",
   "metadata": {},
   "source": [
    "讲完这两种不同原理的上下文管理器后，还需要强调的是，基于类的上下文管理器和基于生成器的上下文管理器，这两者在功能上是一致的。只不过，\n",
    "* 基于类的上下文管理器更加flexible，适用于大型的系统开发；\n",
    "* 而基于生成器的上下文管理器更加方便、简洁，适用于小型程序。"
   ]
  },
  {
   "cell_type": "code",
   "execution_count": null,
   "id": "e6659537-11e1-4ad7-9fac-6514527070f7",
   "metadata": {},
   "outputs": [],
   "source": []
  }
 ],
 "metadata": {
  "kernelspec": {
   "display_name": "Python 3 (ipykernel)",
   "language": "python",
   "name": "python3"
  },
  "language_info": {
   "codemirror_mode": {
    "name": "ipython",
    "version": 3
   },
   "file_extension": ".py",
   "mimetype": "text/x-python",
   "name": "python",
   "nbconvert_exporter": "python",
   "pygments_lexer": "ipython3",
   "version": "3.9.0"
  }
 },
 "nbformat": 4,
 "nbformat_minor": 5
}
