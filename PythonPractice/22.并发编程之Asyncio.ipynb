{
 "cells": [
  {
   "cell_type": "markdown",
   "id": "eaa8e095-452e-4782-9081-7936f299124c",
   "metadata": {},
   "source": [
    "**多线程还是Asyncio**\n",
    "\n",
    "if io_bound:\n",
    "\n",
    "    if io_slow:\n",
    "    \n",
    "        print('Use Asyncio')\n",
    "        \n",
    "    else:\n",
    "    \n",
    "        print('Use multi-threading')\n",
    "        \n",
    "else if cpu_bound:\n",
    "\n",
    "    print('Use multi-processing')"
   ]
  },
  {
   "cell_type": "code",
   "execution_count": 1,
   "id": "4c296a8d-e071-4c27-8db2-68a5c19f157b",
   "metadata": {},
   "outputs": [
    {
     "name": "stdout",
     "output_type": "stream",
     "text": [
      "333333283333335000000\n",
      "333333383333335000000\n",
      "333333483333355000001\n",
      "333333583333395000005\n",
      "333333683333455000014\n",
      "333333783333535000030\n",
      "333333883333635000055\n",
      "333333983333755000091\n",
      "333334083333895000140\n",
      "333334183334055000204\n",
      "333334283334235000285\n",
      "333334383334435000385\n",
      "333334483334655000506\n",
      "333334583334895000650\n",
      "333334683335155000819\n",
      "333334783335435001015\n",
      "333334883335735001240\n",
      "333334983336055001496\n",
      "333335083336395001785\n",
      "333335183336755002109\n",
      "Calculation taks 33.628191049000634 seconds\n"
     ]
    }
   ],
   "source": [
    "# 常规版本\n",
    "import time\n",
    "\n",
    "def cpu_bound(number):\n",
    "    print(sum(i * i for i in range(number)))\n",
    "\n",
    "def calculate_sum(numbers):\n",
    "    for number in numbers:\n",
    "        cpu_bound(number)\n",
    "        \n",
    "def main():\n",
    "    start_time = time.perf_counter()\n",
    "    numbers = [10000000 + x for x in range(20)]\n",
    "    calculate_sum(numbers)\n",
    "    end_time = time.perf_counter()\n",
    "    print('Calculation taks {} seconds'.format(end_time -start_time))\n",
    "    \n",
    "if __name__ == '__main__':\n",
    "    main()"
   ]
  },
  {
   "cell_type": "code",
   "execution_count": 5,
   "id": "d394be81-998e-4069-8071-703e0c78285d",
   "metadata": {},
   "outputs": [
    {
     "name": "stdout",
     "output_type": "stream",
     "text": [
      "333333283333335000000\n",
      "333333383333335000000\n",
      "333333483333355000001\n",
      "333333583333395000005\n",
      "333333683333455000014\n",
      "333333783333535000030\n",
      "333333883333635000055\n",
      "333333983333755000091\n",
      "333334083333895000140\n",
      "333334183334055000204\n",
      "333334283334235000285\n",
      "333334383334435000385\n",
      "333334483334655000506\n",
      "333334583334895000650\n",
      "333334683335155000819\n",
      "333334783335435001015\n",
      "333334883335735001240\n",
      "333334983336055001496\n",
      "333335083336395001785\n",
      "333335183336755002109\n",
      "Calculation taks 33.79774852800256 seconds\n"
     ]
    }
   ],
   "source": [
    "# asyncio版本\n",
    "import time\n",
    "import asyncio\n",
    "import nest_asyncio\n",
    "\n",
    "nest_asyncio.apply()\n",
    "\n",
    "async def cpu_bound(number):\n",
    "    print(sum(i * i for i in range(number)))\n",
    "\n",
    "async def calculate_sum(numbers):\n",
    "    tasks = [asyncio.create_task(cpu_bound(number)) for number in numbers]\n",
    "    await asyncio.gather(*tasks)\n",
    "        \n",
    "async def main():\n",
    "    start_time = time.perf_counter()\n",
    "    numbers = [10000000 + x for x in range(20)]\n",
    "    await calculate_sum(numbers)\n",
    "    end_time = time.perf_counter()\n",
    "    print('Calculation taks {} seconds'.format(end_time - start_time))\n",
    "    \n",
    "if __name__ == '__main__':\n",
    "    asyncio.run(main())\n"
   ]
  },
  {
   "cell_type": "code",
   "execution_count": 10,
   "id": "cd3246e6-79d9-49b9-897c-f265317ed5cf",
   "metadata": {},
   "outputs": [
    {
     "name": "stdout",
     "output_type": "stream",
     "text": [
      "333333583333395000005\n",
      "333333483333355000001\n",
      "333333383333335000000\n",
      "333333283333335000000\n",
      "333333683333455000014\n",
      "333333783333535000030\n",
      "333334083333895000140\n",
      "333333883333635000055\n",
      "333333983333755000091\n",
      "333334183334055000204\n",
      "333334283334235000285\n",
      "333334383334435000385\n",
      "333334583334895000650\n",
      "333334683335155000819\n",
      "333334483334655000506\n",
      "333334783335435001015\n",
      "333334883335735001240\n",
      "333335083336395001785\n",
      "333335183336755002109\n",
      "333334983336055001496\n",
      "Calculation taks 39.01769135699942 seconds\n"
     ]
    }
   ],
   "source": [
    "# 多线程版本\n",
    "import time\n",
    "from concurrent import futures\n",
    "\n",
    "def cpu_bound(number):\n",
    "    print(sum(i * i for i in range(number)))\n",
    "    \n",
    "def calculate_sum(numbers):\n",
    "    with futures.ThreadPoolExecutor(max_workers=5) as executor:\n",
    "        executor.map(cpu_bound, numbers)\n",
    "        \n",
    "def main():\n",
    "    start_time = time.perf_counter()\n",
    "    numbers = [10000000 + x for x in range(20)]\n",
    "    calculate_sum(numbers)\n",
    "    end_time = time.perf_counter()\n",
    "    print('Calculation taks {} seconds'.format(end_time - start_time))\n",
    "    \n",
    "if __name__ == '__main__':\n",
    "    main()"
   ]
  },
  {
   "cell_type": "code",
   "execution_count": null,
   "id": "65087497-a09e-498f-bd08-5e2adf71069b",
   "metadata": {},
   "outputs": [
    {
     "name": "stdout",
     "output_type": "stream",
     "text": [
      "Calculation taks 0.6520256369985873 seconds\n"
     ]
    },
    {
     "name": "stderr",
     "output_type": "stream",
     "text": [
      "Process SpawnProcess-11:\n",
      "Process SpawnProcess-9:\n",
      "Process SpawnProcess-12:\n",
      "Process SpawnProcess-10:\n",
      "Traceback (most recent call last):\n",
      "Traceback (most recent call last):\n",
      "Traceback (most recent call last):\n",
      "  File \"/Library/Frameworks/Python.framework/Versions/3.9/lib/python3.9/multiprocessing/process.py\", line 315, in _bootstrap\n",
      "    self.run()\n",
      "  File \"/Library/Frameworks/Python.framework/Versions/3.9/lib/python3.9/multiprocessing/process.py\", line 108, in run\n",
      "    self._target(*self._args, **self._kwargs)\n",
      "  File \"/Library/Frameworks/Python.framework/Versions/3.9/lib/python3.9/multiprocessing/process.py\", line 315, in _bootstrap\n",
      "    self.run()\n",
      "  File \"/Library/Frameworks/Python.framework/Versions/3.9/lib/python3.9/concurrent/futures/process.py\", line 237, in _process_worker\n",
      "    call_item = call_queue.get(block=True)\n",
      "  File \"/Library/Frameworks/Python.framework/Versions/3.9/lib/python3.9/multiprocessing/process.py\", line 108, in run\n",
      "    self._target(*self._args, **self._kwargs)\n",
      "  File \"/Library/Frameworks/Python.framework/Versions/3.9/lib/python3.9/multiprocessing/queues.py\", line 122, in get\n",
      "    return _ForkingPickler.loads(res)\n",
      "  File \"/Library/Frameworks/Python.framework/Versions/3.9/lib/python3.9/concurrent/futures/process.py\", line 237, in _process_worker\n",
      "    call_item = call_queue.get(block=True)\n",
      "  File \"/Library/Frameworks/Python.framework/Versions/3.9/lib/python3.9/multiprocessing/process.py\", line 315, in _bootstrap\n",
      "    self.run()\n",
      "  File \"/Library/Frameworks/Python.framework/Versions/3.9/lib/python3.9/multiprocessing/queues.py\", line 122, in get\n",
      "    return _ForkingPickler.loads(res)\n",
      "  File \"/Library/Frameworks/Python.framework/Versions/3.9/lib/python3.9/multiprocessing/process.py\", line 108, in run\n",
      "    self._target(*self._args, **self._kwargs)\n",
      "Traceback (most recent call last):\n",
      "  File \"/Library/Frameworks/Python.framework/Versions/3.9/lib/python3.9/concurrent/futures/process.py\", line 237, in _process_worker\n",
      "    call_item = call_queue.get(block=True)\n",
      "AttributeError: Can't get attribute 'cpu_bound' on <module '__main__' (built-in)>\n",
      "  File \"/Library/Frameworks/Python.framework/Versions/3.9/lib/python3.9/multiprocessing/queues.py\", line 122, in get\n",
      "    return _ForkingPickler.loads(res)\n",
      "AttributeError: Can't get attribute 'cpu_bound' on <module '__main__' (built-in)>\n",
      "AttributeError: Can't get attribute 'cpu_bound' on <module '__main__' (built-in)>\n",
      "  File \"/Library/Frameworks/Python.framework/Versions/3.9/lib/python3.9/multiprocessing/process.py\", line 315, in _bootstrap\n",
      "    self.run()\n",
      "  File \"/Library/Frameworks/Python.framework/Versions/3.9/lib/python3.9/multiprocessing/process.py\", line 108, in run\n",
      "    self._target(*self._args, **self._kwargs)\n",
      "  File \"/Library/Frameworks/Python.framework/Versions/3.9/lib/python3.9/concurrent/futures/process.py\", line 237, in _process_worker\n",
      "    call_item = call_queue.get(block=True)\n",
      "  File \"/Library/Frameworks/Python.framework/Versions/3.9/lib/python3.9/multiprocessing/queues.py\", line 122, in get\n",
      "    return _ForkingPickler.loads(res)\n",
      "AttributeError: Can't get attribute 'cpu_bound' on <module '__main__' (built-in)>\n"
     ]
    }
   ],
   "source": [
    "# 多进程版本\n",
    "import time\n",
    "from concurrent import futures\n",
    "\n",
    "def cpu_bound(number):\n",
    "    print(sum(i * i for i in range(number)))\n",
    "    \n",
    "def calculate_sum(numbers):\n",
    "    with futures.ProcessPoolExecutor(max_workers=4) as executor:\n",
    "        executor.map(cpu_bound, numbers)\n",
    "        \n",
    "def main():\n",
    "    start_time = time.perf_counter()\n",
    "    numbers = [10000000 + x for x in range(20)]\n",
    "    calculate_sum(numbers)\n",
    "    end_time = time.perf_counter()\n",
    "    print('Calculation taks {} seconds'.format(end_time - start_time))\n",
    "    \n",
    "if __name__ == '__main__':\n",
    "    main()"
   ]
  },
  {
   "cell_type": "code",
   "execution_count": null,
   "id": "c1b71aec-6279-4c73-a0fe-eae89920b8cd",
   "metadata": {},
   "outputs": [],
   "source": []
  }
 ],
 "metadata": {
  "kernelspec": {
   "display_name": "Python 3 (ipykernel)",
   "language": "python",
   "name": "python3"
  },
  "language_info": {
   "codemirror_mode": {
    "name": "ipython",
    "version": 3
   },
   "file_extension": ".py",
   "mimetype": "text/x-python",
   "name": "python",
   "nbconvert_exporter": "python",
   "pygments_lexer": "ipython3",
   "version": "3.9.0"
  }
 },
 "nbformat": 4,
 "nbformat_minor": 5
}
