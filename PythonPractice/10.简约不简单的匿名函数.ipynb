{
 "cells": [
  {
   "cell_type": "markdown",
   "id": "8eb23927-811e-4510-9c86-26b0b01f2bdd",
   "metadata": {},
   "source": [
    "* 匿名函数基础\n",
    "lambda argument1, argment2,... argmentN: expression\n"
   ]
  },
  {
   "cell_type": "code",
   "execution_count": 1,
   "id": "38fe3758-ae89-4aef-8958-0feeaab31c70",
   "metadata": {},
   "outputs": [
    {
     "data": {
      "text/plain": [
       "9"
      ]
     },
     "execution_count": 1,
     "metadata": {},
     "output_type": "execute_result"
    }
   ],
   "source": [
    "square = lambda x : x ** 2\n",
    "square(3)"
   ]
  },
  {
   "cell_type": "code",
   "execution_count": 2,
   "id": "c41e689e-28ba-4b7f-be4e-727c71cb411b",
   "metadata": {},
   "outputs": [
    {
     "data": {
      "text/plain": [
       "[0, 1, 4, 9, 16, 25, 36, 49, 64, 81]"
      ]
     },
     "execution_count": 2,
     "metadata": {},
     "output_type": "execute_result"
    }
   ],
   "source": [
    "[(lambda x : x * x)(x) for x in range(10)]"
   ]
  },
  {
   "cell_type": "code",
   "execution_count": 3,
   "id": "c0348474-8702-45dc-a549-ac51d8db3bae",
   "metadata": {},
   "outputs": [
    {
     "data": {
      "text/plain": [
       "[0, 1, 4, 9, 16, 25, 36, 49, 64, 81]"
      ]
     },
     "execution_count": 3,
     "metadata": {},
     "output_type": "execute_result"
    }
   ],
   "source": [
    "[x * x for x in range(10)]"
   ]
  },
  {
   "cell_type": "code",
   "execution_count": 4,
   "id": "86c2b40b-e065-4911-b781-1252d92c0f7a",
   "metadata": {},
   "outputs": [],
   "source": [
    "squared = map(lambda x: x ** 2, [2, 3, 4])"
   ]
  },
  {
   "cell_type": "code",
   "execution_count": 5,
   "id": "dc85efab-d99b-4337-b52c-08fe485f093c",
   "metadata": {},
   "outputs": [
    {
     "data": {
      "text/plain": [
       "<map at 0x7f80a050d3d0>"
      ]
     },
     "execution_count": 5,
     "metadata": {},
     "output_type": "execute_result"
    }
   ],
   "source": [
    "squared"
   ]
  },
  {
   "cell_type": "code",
   "execution_count": 6,
   "id": "59cab7e7-6d7d-49b2-b7e4-83e9c0cdd869",
   "metadata": {},
   "outputs": [
    {
     "data": {
      "text/plain": [
       "[4, 9, 16]"
      ]
     },
     "execution_count": 6,
     "metadata": {},
     "output_type": "execute_result"
    }
   ],
   "source": [
    "list(squared)"
   ]
  },
  {
   "cell_type": "markdown",
   "id": "9ea6d674-ef0a-442a-a975-22de46f8d5c2",
   "metadata": {},
   "source": [
    "* Python函数式编程"
   ]
  },
  {
   "cell_type": "markdown",
   "id": "d834d38a-7cb3-4351-8252-d1f73dc0e056",
   "metadata": {},
   "source": [
    "所谓函数式编程，是指代码中每一块都是不可变的（immutable），都是纯函数（pure function）的形式组成。这里的纯函数，是指函数本身相互独立、互不影响，对于相同的输入，总会有相同的输出，没有任何副作用。"
   ]
  },
  {
   "cell_type": "code",
   "execution_count": 7,
   "id": "585ab38a-a250-4ce8-b626-0b00aaad502e",
   "metadata": {},
   "outputs": [
    {
     "name": "stdout",
     "output_type": "stream",
     "text": [
      "[2, 4, 6]\n"
     ]
    }
   ],
   "source": [
    "def multiply_2_pure(l):\n",
    "    new_list = []\n",
    "    for item in l:\n",
    "        new_list.append(item * 2)\n",
    "    return new_list\n",
    "print(multiply_2_pure([1, 2, 3]))"
   ]
  },
  {
   "cell_type": "code",
   "execution_count": 8,
   "id": "39a9d8a6-f5d7-4187-9177-fa9a529e5f09",
   "metadata": {},
   "outputs": [
    {
     "name": "stdout",
     "output_type": "stream",
     "text": [
      "[2, 4, 6, 8, 10]\n"
     ]
    }
   ],
   "source": [
    "l = [1, 2, 3, 4, 5]\n",
    "new_list = map(lambda x: x * 2, l)\n",
    "print(list(new_list))"
   ]
  },
  {
   "cell_type": "code",
   "execution_count": 9,
   "id": "56e1dca5-aa2c-4bdb-9150-fb14a51cbf42",
   "metadata": {},
   "outputs": [],
   "source": [
    "new_list = filter(lambda x: x % 2 == 0, l)"
   ]
  },
  {
   "cell_type": "code",
   "execution_count": 11,
   "id": "b6eb5a1e-0129-40db-a34b-edf537fee0d8",
   "metadata": {},
   "outputs": [
    {
     "name": "stdout",
     "output_type": "stream",
     "text": [
      "[2, 4]\n"
     ]
    }
   ],
   "source": [
    "print(list(new_list))"
   ]
  },
  {
   "cell_type": "code",
   "execution_count": 15,
   "id": "4606ef1f-7079-4756-ae35-0463e5148b4c",
   "metadata": {},
   "outputs": [
    {
     "name": "stdout",
     "output_type": "stream",
     "text": [
      "120\n"
     ]
    }
   ],
   "source": [
    "from functools import reduce\n",
    "l = [1, 2, 3, 4, 5]\n",
    "product = reduce(lambda x, y: x * y, l)\n",
    "print(product)"
   ]
  },
  {
   "cell_type": "code",
   "execution_count": 18,
   "id": "d71995ed-132e-42e7-8586-b320c4440b4a",
   "metadata": {},
   "outputs": [
    {
     "data": {
      "text/plain": [
       "[('mike', 10), ('lucy', 2), ('ben', 30)]"
      ]
     },
     "execution_count": 18,
     "metadata": {},
     "output_type": "execute_result"
    }
   ],
   "source": [
    "d = {\n",
    "    'mike': 10,\n",
    "    'lucy': 2,\n",
    "    'ben': 30\n",
    "}\n",
    "sorted(d.items(), key=lambda x: x[0], reverse=True)"
   ]
  },
  {
   "cell_type": "code",
   "execution_count": 22,
   "id": "3bc8bccd-dd06-4536-9d99-8a23e437a0e4",
   "metadata": {},
   "outputs": [
    {
     "name": "stdout",
     "output_type": "stream",
     "text": [
      "('mike', 10)\n",
      "('lucy', 2)\n",
      "('ben', 30)\n"
     ]
    }
   ],
   "source": [
    "for item in d.items():\n",
    "    print(item)"
   ]
  },
  {
   "cell_type": "code",
   "execution_count": null,
   "id": "2b9260f0-f356-4ca2-b886-ede6ced92d09",
   "metadata": {},
   "outputs": [],
   "source": []
  }
 ],
 "metadata": {
  "kernelspec": {
   "display_name": "Python 3 (ipykernel)",
   "language": "python",
   "name": "python3"
  },
  "language_info": {
   "codemirror_mode": {
    "name": "ipython",
    "version": 3
   },
   "file_extension": ".py",
   "mimetype": "text/x-python",
   "name": "python",
   "nbconvert_exporter": "python",
   "pygments_lexer": "ipython3",
   "version": "3.9.0"
  }
 },
 "nbformat": 4,
 "nbformat_minor": 5
}
