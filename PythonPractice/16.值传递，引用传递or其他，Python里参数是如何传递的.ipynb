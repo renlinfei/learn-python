{
 "cells": [
  {
   "cell_type": "markdown",
   "id": "7e8e5de8-b85e-40a1-9b05-239dd09df28e",
   "metadata": {},
   "source": [
    "* 什么是值传递和引用传递"
   ]
  },
  {
   "cell_type": "code",
   "execution_count": 2,
   "id": "f8102f77-9764-426c-b221-e6497117a965",
   "metadata": {},
   "outputs": [
    {
     "name": "stdout",
     "output_type": "stream",
     "text": [
      "2\n",
      "1\n"
     ]
    }
   ],
   "source": [
    "a = 1\n",
    "b = a\n",
    "a = a + 1\n",
    "\n",
    "print(a)\n",
    "print(b)"
   ]
  },
  {
   "cell_type": "code",
   "execution_count": 4,
   "id": "5cf3b2c4-4ddc-4c47-86cf-2249a9ffcb9a",
   "metadata": {},
   "outputs": [
    {
     "data": {
      "text/plain": [
       "[1, 2, 3, 4]"
      ]
     },
     "execution_count": 4,
     "metadata": {},
     "output_type": "execute_result"
    }
   ],
   "source": [
    "l1 = [1, 2, 3]\n",
    "l2 = l1\n",
    "l1.append(4)\n",
    "l1\n"
   ]
  },
  {
   "cell_type": "code",
   "execution_count": 5,
   "id": "8da6a174-cdda-4805-b5b1-95bfa97bb580",
   "metadata": {},
   "outputs": [
    {
     "data": {
      "text/plain": [
       "[1, 2, 3, 4]"
      ]
     },
     "execution_count": 5,
     "metadata": {},
     "output_type": "execute_result"
    }
   ],
   "source": [
    "l2"
   ]
  },
  {
   "cell_type": "markdown",
   "id": "009c1911-cb07-43b2-befd-c13e06da232b",
   "metadata": {},
   "source": [
    "由此可见，在Python中：\n",
    "* 变量的赋值，只表示让变量指向了某个对象，并不表示拷贝变量给对象；而一个对象，可以被多个变量所指向。\n",
    "* 可变对象（列表，字典，集合等等）的改变，会影响所有指向该对象的变量。\n",
    "* 对于不可变对象（字符串、整型、元组等等），所有指向该对象的变量的值总是一样的，也不会改变。但是通过某些操作（+=等等）更新不可变对象的值时，会返回一个新的对象。\n",
    "* 变量可以被删除，但是对象无法被删除。"
   ]
  },
  {
   "cell_type": "markdown",
   "id": "14207354-e733-413f-85d0-7eb37f5d9c8f",
   "metadata": {},
   "source": [
    "* Python函数的参数传递"
   ]
  },
  {
   "cell_type": "code",
   "execution_count": 6,
   "id": "91b36077-4e0f-4f82-a00a-9e21ca0e0b57",
   "metadata": {},
   "outputs": [
    {
     "data": {
      "text/plain": [
       "1"
      ]
     },
     "execution_count": 6,
     "metadata": {},
     "output_type": "execute_result"
    }
   ],
   "source": [
    "def my_func1(b):\n",
    "    b = 2\n",
    "\n",
    "a = 1\n",
    "my_func1(a)\n",
    "a"
   ]
  },
  {
   "cell_type": "code",
   "execution_count": 7,
   "id": "f698b9d6-f3b9-4c69-bfc9-8a04249f541f",
   "metadata": {},
   "outputs": [
    {
     "data": {
      "text/plain": [
       "[1, 2, 3, 4]"
      ]
     },
     "execution_count": 7,
     "metadata": {},
     "output_type": "execute_result"
    }
   ],
   "source": [
    "def my_func3(l2):\n",
    "    l2.append(4)\n",
    "\n",
    "l1 = [1, 2, 3]\n",
    "my_func3(l1)\n",
    "l1"
   ]
  },
  {
   "cell_type": "code",
   "execution_count": 8,
   "id": "108594ef-97f5-4e3c-a964-fbbbe5d3cb5b",
   "metadata": {},
   "outputs": [
    {
     "data": {
      "text/plain": [
       "[1, 2, 3]"
      ]
     },
     "execution_count": 8,
     "metadata": {},
     "output_type": "execute_result"
    }
   ],
   "source": [
    "def my_func4(l2):\n",
    "    l2 = l2 + [4]\n",
    "\n",
    "l1 = [1, 2, 3]\n",
    "my_func4(l1)\n",
    "l1"
   ]
  },
  {
   "cell_type": "code",
   "execution_count": 9,
   "id": "52681f4f-ed05-45c8-8855-6f8eda17fa6a",
   "metadata": {},
   "outputs": [
    {
     "name": "stdout",
     "output_type": "stream",
     "text": [
      "False\n",
      "True\n"
     ]
    }
   ],
   "source": [
    "l1 = [1, 2, 3]\n",
    "l2 = [1, 2, 3]\n",
    "l3 = l2\n",
    "print(l1 is l2)\n",
    "print(l2 is l3)"
   ]
  },
  {
   "cell_type": "code",
   "execution_count": 10,
   "id": "caa4cac7-c2c5-4be7-91b2-8c051c3bb801",
   "metadata": {},
   "outputs": [
    {
     "name": "stdout",
     "output_type": "stream",
     "text": [
      "{'a': 10, 'b': 20}\n"
     ]
    }
   ],
   "source": [
    "def func(d):\n",
    "    d['a'] = 10\n",
    "    d['b'] = 20\n",
    "d = {\n",
    "    'a': 1,\n",
    "    'b':2\n",
    "}\n",
    "func(d)\n",
    "print(d)"
   ]
  },
  {
   "cell_type": "code",
   "execution_count": null,
   "id": "7a46d65c-19b2-4231-ad9b-8f9459ebfba4",
   "metadata": {},
   "outputs": [],
   "source": []
  }
 ],
 "metadata": {
  "kernelspec": {
   "display_name": "Python 3 (ipykernel)",
   "language": "python",
   "name": "python3"
  },
  "language_info": {
   "codemirror_mode": {
    "name": "ipython",
    "version": 3
   },
   "file_extension": ".py",
   "mimetype": "text/x-python",
   "name": "python",
   "nbconvert_exporter": "python",
   "pygments_lexer": "ipython3",
   "version": "3.9.0"
  }
 },
 "nbformat": 4,
 "nbformat_minor": 5
}
