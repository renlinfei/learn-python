{
 "cells": [
  {
   "cell_type": "code",
   "execution_count": 1,
   "id": "d19d109f-5ff9-44db-829c-3bec79063b9a",
   "metadata": {},
   "outputs": [
    {
     "name": "stdout",
     "output_type": "stream",
     "text": [
      "name\n",
      "dob\n",
      "gender\n"
     ]
    }
   ],
   "source": [
    "d = {\n",
    "    'name': 'chris',\n",
    "    'dob': '2000-01-01',\n",
    "    'gender': 'male'\n",
    "}\n",
    "\n",
    "for k in d: # 遍历字典的键\n",
    "    print(k)"
   ]
  },
  {
   "cell_type": "code",
   "execution_count": 2,
   "id": "25b6a185-4532-4892-824f-601631aef2bc",
   "metadata": {},
   "outputs": [
    {
     "name": "stdout",
     "output_type": "stream",
     "text": [
      "chris\n",
      "2000-01-01\n",
      "male\n"
     ]
    }
   ],
   "source": [
    "for v in d.values(): # 遍历字典的值\n",
    "    print(v)"
   ]
  },
  {
   "cell_type": "code",
   "execution_count": 4,
   "id": "962783b2-0907-487a-8571-e6cf0f92fe9e",
   "metadata": {},
   "outputs": [
    {
     "name": "stdout",
     "output_type": "stream",
     "text": [
      "key: name, value: chris\n",
      "key: dob, value: 2000-01-01\n",
      "key: gender, value: male\n"
     ]
    }
   ],
   "source": [
    "for k, v in d.items(): # 遍历字典的键值对\n",
    "    print('key: {}, value: {}'.format(k, v))"
   ]
  },
  {
   "cell_type": "code",
   "execution_count": 5,
   "id": "03100c0d-43d8-42e9-aebb-ad46905fdd08",
   "metadata": {},
   "outputs": [
    {
     "name": "stdout",
     "output_type": "stream",
     "text": [
      "1\n",
      "2\n",
      "3\n",
      "4\n",
      "5\n"
     ]
    }
   ],
   "source": [
    " l = [1, 2, 3, 4, 5, 6]\n",
    "for index in range(0, len(l)):\n",
    "    if index < 5:\n",
    "        print(l[index])"
   ]
  },
  {
   "cell_type": "code",
   "execution_count": 6,
   "id": "76407f44-1cb1-477f-9a68-eaecf2fd4615",
   "metadata": {},
   "outputs": [
    {
     "name": "stdout",
     "output_type": "stream",
     "text": [
      "index: 0, item: 1\n",
      "index: 1, item: 2\n",
      "index: 2, item: 3\n",
      "index: 3, item: 4\n",
      "index: 4, item: 5\n"
     ]
    }
   ],
   "source": [
    "for index, item in enumerate(l):\n",
    "    if index < 5:\n",
    "        print('index: {}, item: {}'.format(index, item))"
   ]
  },
  {
   "cell_type": "code",
   "execution_count": 7,
   "id": "57b06d57-e68e-4807-9ecd-52ea57b38c3b",
   "metadata": {},
   "outputs": [
    {
     "name": "stdout",
     "output_type": "stream",
     "text": [
      "1\n",
      "2\n",
      "3\n",
      "4\n"
     ]
    }
   ],
   "source": [
    "l = [1, 2, 3, 4]\n",
    "index = 0\n",
    "while index < len(l):\n",
    "    print(l[index])\n",
    "    index += 1"
   ]
  },
  {
   "cell_type": "code",
   "execution_count": 8,
   "id": "e5b6eb69-1c7c-4188-8091-8ab7bdc72200",
   "metadata": {},
   "outputs": [],
   "source": [
    "set1 = {1,2,3,3,4}"
   ]
  },
  {
   "cell_type": "code",
   "execution_count": 9,
   "id": "6061de93-221c-4719-bcde-569da5ed9211",
   "metadata": {},
   "outputs": [
    {
     "data": {
      "text/plain": [
       "{1, 2, 3, 4}"
      ]
     },
     "execution_count": 9,
     "metadata": {},
     "output_type": "execute_result"
    }
   ],
   "source": [
    "set1\n"
   ]
  },
  {
   "cell_type": "markdown",
   "id": "415b4c4d-9c19-48f3-8487-d61acecce2e4",
   "metadata": {},
   "source": [
    "* 条件与循环的复用\n",
    "expresssion1 if condition else espression2 for item in iterable\n",
    "* 如果没有else语句，则需要写成\n",
    "expression for item in iterable if condition"
   ]
  },
  {
   "cell_type": "code",
   "execution_count": 15,
   "id": "06e7e5f2-4196-47f3-989d-00b765134889",
   "metadata": {},
   "outputs": [
    {
     "data": {
      "text/plain": [
       "[{'name': 'jason', 'dob': '2000-01-01', 'gender': 'male'},\n",
       " {'name': 'mike', 'dob': '1999-01-01', 'gender': 'male'},\n",
       " {'name': 'nancy', 'dob': '2001-02-01', 'gender': 'female'}]"
      ]
     },
     "execution_count": 15,
     "metadata": {},
     "output_type": "execute_result"
    }
   ],
   "source": [
    "attributes = ['name', 'dob', 'gender']\n",
    "values = [['jason', '2000-01-01', 'male'], ['mike', '1999-01-01', 'male'],['nancy', '2001-02-01', 'female']]\n",
    "\n",
    "[dict(zip(attributes, value)) for value in values]"
   ]
  },
  {
   "cell_type": "code",
   "execution_count": 18,
   "id": "a5c1babf-e742-4811-98c0-c5bb9d1fe9f6",
   "metadata": {},
   "outputs": [
    {
     "data": {
      "text/plain": [
       "[('a', 1), ('b', 2)]"
      ]
     },
     "execution_count": 18,
     "metadata": {},
     "output_type": "execute_result"
    }
   ],
   "source": [
    "list(zip(['a', 'b'],[1, 2]))"
   ]
  },
  {
   "cell_type": "code",
   "execution_count": null,
   "id": "52f8dcb9-a006-4842-921d-8359f76de176",
   "metadata": {},
   "outputs": [],
   "source": []
  }
 ],
 "metadata": {
  "kernelspec": {
   "display_name": "Python 3 (ipykernel)",
   "language": "python",
   "name": "python3"
  },
  "language_info": {
   "codemirror_mode": {
    "name": "ipython",
    "version": 3
   },
   "file_extension": ".py",
   "mimetype": "text/x-python",
   "name": "python",
   "nbconvert_exporter": "python",
   "pygments_lexer": "ipython3",
   "version": "3.9.0"
  }
 },
 "nbformat": 4,
 "nbformat_minor": 5
}
