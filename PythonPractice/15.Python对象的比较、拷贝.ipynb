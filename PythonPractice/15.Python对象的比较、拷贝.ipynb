{
 "cells": [
  {
   "cell_type": "markdown",
   "id": "db98f51d-7cd1-45b9-a733-72de553e549e",
   "metadata": {},
   "source": [
    "+ l2是l1的浅拷贝（shallow copy）还是深度拷贝（deep copy）呢？\n",
    "- a == b是比较两个对象的值相等，还是两个对象完全相等呢？"
   ]
  },
  {
   "cell_type": "markdown",
   "id": "d296969a-773b-4834-b636-f22176bacb0e",
   "metadata": {},
   "source": [
    "* '=='操作符比较对象之间的值是否相等\n",
    "* is操作符比较的是对象的身份标识是否相等，即它们是否是同一个对象，是否指向同一个内存地址。"
   ]
  },
  {
   "cell_type": "code",
   "execution_count": 1,
   "id": "91a9a751-f64a-4e20-b4e5-3fafd0cfd411",
   "metadata": {},
   "outputs": [
    {
     "data": {
      "text/plain": [
       "True"
      ]
     },
     "execution_count": 1,
     "metadata": {},
     "output_type": "execute_result"
    }
   ],
   "source": [
    "a = 10\n",
    "b = 10\n",
    "\n",
    "a == b"
   ]
  },
  {
   "cell_type": "code",
   "execution_count": 2,
   "id": "01acfb53-7883-4f80-a1c9-2012c747427a",
   "metadata": {},
   "outputs": [
    {
     "data": {
      "text/plain": [
       "140687489243728"
      ]
     },
     "execution_count": 2,
     "metadata": {},
     "output_type": "execute_result"
    }
   ],
   "source": [
    "id(a)"
   ]
  },
  {
   "cell_type": "code",
   "execution_count": 3,
   "id": "253d7c39-edb7-45d8-ab68-14eaac0b0b91",
   "metadata": {},
   "outputs": [
    {
     "data": {
      "text/plain": [
       "140687489243728"
      ]
     },
     "execution_count": 3,
     "metadata": {},
     "output_type": "execute_result"
    }
   ],
   "source": [
    "id(b)"
   ]
  },
  {
   "cell_type": "code",
   "execution_count": 4,
   "id": "6a3459fb-082b-48e5-8f07-8e9901d6ce19",
   "metadata": {},
   "outputs": [
    {
     "data": {
      "text/plain": [
       "True"
      ]
     },
     "execution_count": 4,
     "metadata": {},
     "output_type": "execute_result"
    }
   ],
   "source": [
    "a is b"
   ]
  },
  {
   "cell_type": "markdown",
   "id": "9b0ddbc7-159d-4a55-b613-1dbdfc8436eb",
   "metadata": {},
   "source": [
    "* 不过，需要注意，对于整型数字来说，以上a is b为True的结论，只适用于-5到256范围的数字。"
   ]
  },
  {
   "cell_type": "code",
   "execution_count": 5,
   "id": "b9feabc0-5da1-44fb-b4c0-828b17953db6",
   "metadata": {},
   "outputs": [
    {
     "data": {
      "text/plain": [
       "True"
      ]
     },
     "execution_count": 5,
     "metadata": {},
     "output_type": "execute_result"
    }
   ],
   "source": [
    "a = 257\n",
    "b = 257\n",
    "a == b"
   ]
  },
  {
   "cell_type": "code",
   "execution_count": 6,
   "id": "c0e2166e-5457-4c4b-9053-1bef3bffcfa7",
   "metadata": {},
   "outputs": [
    {
     "data": {
      "text/plain": [
       "140687579999792"
      ]
     },
     "execution_count": 6,
     "metadata": {},
     "output_type": "execute_result"
    }
   ],
   "source": [
    "id(a)"
   ]
  },
  {
   "cell_type": "code",
   "execution_count": 7,
   "id": "5046efdb-2152-4f12-afac-958186c895e1",
   "metadata": {},
   "outputs": [
    {
     "data": {
      "text/plain": [
       "140687579999408"
      ]
     },
     "execution_count": 7,
     "metadata": {},
     "output_type": "execute_result"
    }
   ],
   "source": [
    "id(b)"
   ]
  },
  {
   "cell_type": "code",
   "execution_count": 8,
   "id": "680abbaf-3447-44d9-aa0c-c8c26936f013",
   "metadata": {},
   "outputs": [
    {
     "data": {
      "text/plain": [
       "False"
      ]
     },
     "execution_count": 8,
     "metadata": {},
     "output_type": "execute_result"
    }
   ],
   "source": [
    "a is b"
   ]
  },
  {
   "cell_type": "code",
   "execution_count": 9,
   "id": "310bd75f-0701-47c9-b840-d977206af3c5",
   "metadata": {},
   "outputs": [
    {
     "data": {
      "text/plain": [
       "True"
      ]
     },
     "execution_count": 9,
     "metadata": {},
     "output_type": "execute_result"
    }
   ],
   "source": [
    "t1 = (1, 2, [3, 4])\n",
    "t2 = (1, 2, [3, 4])\n",
    "t1 == t2"
   ]
  },
  {
   "cell_type": "code",
   "execution_count": 10,
   "id": "b886e403-59f0-4598-a243-15df22de5c18",
   "metadata": {},
   "outputs": [
    {
     "data": {
      "text/plain": [
       "False"
      ]
     },
     "execution_count": 10,
     "metadata": {},
     "output_type": "execute_result"
    }
   ],
   "source": [
    "t1[-1].append(5)\n",
    "t1 == t2"
   ]
  },
  {
   "cell_type": "markdown",
   "id": "2f5d12dd-3daf-4e79-8b9a-de0cbc305e3d",
   "metadata": {},
   "source": [
    "* shallow copy浅拷贝"
   ]
  },
  {
   "cell_type": "code",
   "execution_count": 12,
   "id": "a7504955-7a98-4a30-8254-0c2003709378",
   "metadata": {},
   "outputs": [
    {
     "data": {
      "text/plain": [
       "[1, 2, 3]"
      ]
     },
     "execution_count": 12,
     "metadata": {},
     "output_type": "execute_result"
    }
   ],
   "source": [
    "l1 = [1, 2, 3]\n",
    "l2 = list(l1)\n",
    "\n",
    "l2"
   ]
  },
  {
   "cell_type": "code",
   "execution_count": 13,
   "id": "32c45e07-2c6b-4f56-bd07-18630f8bddc8",
   "metadata": {},
   "outputs": [
    {
     "data": {
      "text/plain": [
       "True"
      ]
     },
     "execution_count": 13,
     "metadata": {},
     "output_type": "execute_result"
    }
   ],
   "source": [
    "l1 == l2"
   ]
  },
  {
   "cell_type": "code",
   "execution_count": 14,
   "id": "5262b79b-7300-4c3e-9b73-e71bbd6f0c6b",
   "metadata": {},
   "outputs": [
    {
     "data": {
      "text/plain": [
       "False"
      ]
     },
     "execution_count": 14,
     "metadata": {},
     "output_type": "execute_result"
    }
   ],
   "source": [
    "l1 is l2"
   ]
  },
  {
   "cell_type": "code",
   "execution_count": 15,
   "id": "7aead5b4-6461-479c-b610-184cfa68ea71",
   "metadata": {},
   "outputs": [],
   "source": [
    "s1 = set([1, 2, 3])\n",
    "s2 = set(s1)"
   ]
  },
  {
   "cell_type": "code",
   "execution_count": 16,
   "id": "1cd253ea-3d92-4218-b47d-480a1af8010f",
   "metadata": {},
   "outputs": [
    {
     "data": {
      "text/plain": [
       "{1, 2, 3}"
      ]
     },
     "execution_count": 16,
     "metadata": {},
     "output_type": "execute_result"
    }
   ],
   "source": [
    "s2"
   ]
  },
  {
   "cell_type": "code",
   "execution_count": 17,
   "id": "5114e2db-0874-44dc-8dc6-fb40909a2fc2",
   "metadata": {},
   "outputs": [
    {
     "data": {
      "text/plain": [
       "True"
      ]
     },
     "execution_count": 17,
     "metadata": {},
     "output_type": "execute_result"
    }
   ],
   "source": [
    "s1 == s2"
   ]
  },
  {
   "cell_type": "code",
   "execution_count": 18,
   "id": "05003510-8e05-4c46-91d6-05fc3ea0684f",
   "metadata": {},
   "outputs": [
    {
     "data": {
      "text/plain": [
       "False"
      ]
     },
     "execution_count": 18,
     "metadata": {},
     "output_type": "execute_result"
    }
   ],
   "source": [
    "s1 is s2"
   ]
  },
  {
   "cell_type": "markdown",
   "id": "cd9d2825-8222-40ed-a384-8e74d10180f1",
   "metadata": {},
   "source": [
    "* 不过，需要注意的是，对于元组，使用tuple()或者切片操作':'不会创建一份浅拷贝，相反，它会返回指向相同元组的引用："
   ]
  },
  {
   "cell_type": "code",
   "execution_count": 19,
   "id": "08975168-dff3-43ff-9747-c9a63e5716ef",
   "metadata": {},
   "outputs": [
    {
     "data": {
      "text/plain": [
       "True"
      ]
     },
     "execution_count": 19,
     "metadata": {},
     "output_type": "execute_result"
    }
   ],
   "source": [
    "t1 = (1, 2, 3)\n",
    "t2 = tuple(t1)\n",
    "\n",
    "t1 == t2"
   ]
  },
  {
   "cell_type": "code",
   "execution_count": 20,
   "id": "4b46bbab-e53a-46cc-a57a-18e5b08e59c8",
   "metadata": {},
   "outputs": [
    {
     "data": {
      "text/plain": [
       "True"
      ]
     },
     "execution_count": 20,
     "metadata": {},
     "output_type": "execute_result"
    }
   ],
   "source": [
    "t1 is t2"
   ]
  },
  {
   "cell_type": "code",
   "execution_count": 26,
   "id": "bc29d495-5da1-4f4d-89a0-c1ff2e0b5f9b",
   "metadata": {},
   "outputs": [
    {
     "data": {
      "text/plain": [
       "[[1, 2, 3], (30, 40), 100]"
      ]
     },
     "execution_count": 26,
     "metadata": {},
     "output_type": "execute_result"
    }
   ],
   "source": [
    "l1 = [[1, 2], (30, 40)]\n",
    "l2 = list(l1)\n",
    "\n",
    "l1.append(100)\n",
    "l1[0].append(3)\n",
    "\n",
    "l1"
   ]
  },
  {
   "cell_type": "code",
   "execution_count": 27,
   "id": "8c6f66b1-140c-4db7-a93a-e150d6a4879d",
   "metadata": {},
   "outputs": [
    {
     "data": {
      "text/plain": [
       "[[1, 2, 3], (30, 40)]"
      ]
     },
     "execution_count": 27,
     "metadata": {},
     "output_type": "execute_result"
    }
   ],
   "source": [
    "l2"
   ]
  },
  {
   "cell_type": "code",
   "execution_count": 28,
   "id": "e15ab840-09ef-4ff0-86c2-00542fc47f84",
   "metadata": {},
   "outputs": [],
   "source": [
    "l1[1] += (50, 60)"
   ]
  },
  {
   "cell_type": "code",
   "execution_count": 29,
   "id": "cc94296d-f392-4c0b-afb9-ff990d7aa586",
   "metadata": {},
   "outputs": [
    {
     "data": {
      "text/plain": [
       "[[1, 2, 3], (30, 40, 50, 60), 100]"
      ]
     },
     "execution_count": 29,
     "metadata": {},
     "output_type": "execute_result"
    }
   ],
   "source": [
    "l1"
   ]
  },
  {
   "cell_type": "code",
   "execution_count": 30,
   "id": "114111fd-e4e8-4226-9130-352a619f024c",
   "metadata": {},
   "outputs": [
    {
     "data": {
      "text/plain": [
       "[[1, 2, 3], (30, 40)]"
      ]
     },
     "execution_count": 30,
     "metadata": {},
     "output_type": "execute_result"
    }
   ],
   "source": [
    "l2"
   ]
  },
  {
   "cell_type": "markdown",
   "id": "7792792b-7e3a-4860-a5ed-17d0cfab921a",
   "metadata": {},
   "source": [
    "* 深度拷贝，是指重新分配一块内存，创建一个新的对象，并且将原来对象中的元素，以递归的方式，通过创建新的子对象拷贝到新对象中。因此，新对象和原对象没有任何联系。"
   ]
  },
  {
   "cell_type": "code",
   "execution_count": 31,
   "id": "95ce400d-98f4-4fd0-b054-5c0206307051",
   "metadata": {},
   "outputs": [
    {
     "data": {
      "text/plain": [
       "[[1, 2, 3], (3, 4), 100]"
      ]
     },
     "execution_count": 31,
     "metadata": {},
     "output_type": "execute_result"
    }
   ],
   "source": [
    "import copy\n",
    "\n",
    "l1 = [[1, 2], (3, 4)]\n",
    "l2 = copy.deepcopy(l1)\n",
    "\n",
    "l1.append(100)\n",
    "l1[0].append(3)\n",
    "\n",
    "l1"
   ]
  },
  {
   "cell_type": "code",
   "execution_count": 32,
   "id": "5253a745-88c8-4eda-9b1a-cc06ec8ba6f0",
   "metadata": {},
   "outputs": [
    {
     "data": {
      "text/plain": [
       "[[1, 2], (3, 4)]"
      ]
     },
     "execution_count": 32,
     "metadata": {},
     "output_type": "execute_result"
    }
   ],
   "source": [
    "l2"
   ]
  },
  {
   "cell_type": "code",
   "execution_count": 33,
   "id": "00250b1b-6d85-4540-9926-559b0771166a",
   "metadata": {},
   "outputs": [
    {
     "data": {
      "text/plain": [
       "[1, [...]]"
      ]
     },
     "execution_count": 33,
     "metadata": {},
     "output_type": "execute_result"
    }
   ],
   "source": [
    "import copy\n",
    "\n",
    "x = [1]\n",
    "x.append(x)\n",
    "\n",
    "x"
   ]
  },
  {
   "cell_type": "code",
   "execution_count": 34,
   "id": "b3e0053a-cf9c-4dab-a654-75b252c18761",
   "metadata": {},
   "outputs": [
    {
     "data": {
      "text/plain": [
       "[1, [...]]"
      ]
     },
     "execution_count": 34,
     "metadata": {},
     "output_type": "execute_result"
    }
   ],
   "source": [
    "y = copy.deepcopy(x)\n",
    "y"
   ]
  },
  {
   "cell_type": "code",
   "execution_count": 35,
   "id": "94ba38e1-e14b-462f-b764-113ddb829b0e",
   "metadata": {},
   "outputs": [
    {
     "ename": "RecursionError",
     "evalue": "maximum recursion depth exceeded in comparison",
     "output_type": "error",
     "traceback": [
      "\u001b[0;31m---------------------------------------------------------------------------\u001b[0m",
      "\u001b[0;31mRecursionError\u001b[0m                            Traceback (most recent call last)",
      "Input \u001b[0;32mIn [35]\u001b[0m, in \u001b[0;36m<cell line: 1>\u001b[0;34m()\u001b[0m\n\u001b[0;32m----> 1\u001b[0m \u001b[43mx\u001b[49m\u001b[43m \u001b[49m\u001b[38;5;241;43m==\u001b[39;49m\u001b[43m \u001b[49m\u001b[43my\u001b[49m\n",
      "\u001b[0;31mRecursionError\u001b[0m: maximum recursion depth exceeded in comparison"
     ]
    }
   ],
   "source": [
    "x == y"
   ]
  },
  {
   "cell_type": "code",
   "execution_count": 36,
   "id": "9bf1a410-3128-4bea-acc1-e3c276f6cc75",
   "metadata": {},
   "outputs": [
    {
     "data": {
      "text/plain": [
       "2"
      ]
     },
     "execution_count": 36,
     "metadata": {},
     "output_type": "execute_result"
    }
   ],
   "source": [
    "len(x)"
   ]
  },
  {
   "cell_type": "code",
   "execution_count": null,
   "id": "24a7bdf2-374d-4d77-bc61-f8f0f5455374",
   "metadata": {},
   "outputs": [],
   "source": []
  }
 ],
 "metadata": {
  "kernelspec": {
   "display_name": "Python 3 (ipykernel)",
   "language": "python",
   "name": "python3"
  },
  "language_info": {
   "codemirror_mode": {
    "name": "ipython",
    "version": 3
   },
   "file_extension": ".py",
   "mimetype": "text/x-python",
   "name": "python",
   "nbconvert_exporter": "python",
   "pygments_lexer": "ipython3",
   "version": "3.9.0"
  }
 },
 "nbformat": 4,
 "nbformat_minor": 5
}
