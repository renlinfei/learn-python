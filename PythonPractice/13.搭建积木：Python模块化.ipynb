{
 "cells": [
  {
   "cell_type": "code",
   "execution_count": 1,
   "id": "939e91b0-2080-4773-a07d-951b3e24295a",
   "metadata": {},
   "outputs": [
    {
     "name": "stdout",
     "output_type": "stream",
     "text": [
      "3\n",
      "edcba\n",
      "abcde\n"
     ]
    }
   ],
   "source": [
    "from utils import get_sum\n",
    "from class_utils import *\n",
    "\n",
    "\n",
    "print(get_sum(1, 2))\n",
    "\n",
    "encoder = Encoder()\n",
    "decoder = Decoder()\n",
    "\n",
    "print(encoder.encode('abcde'))\n",
    "print(decoder.decode('edcba'))"
   ]
  },
  {
   "cell_type": "markdown",
   "id": "7322bff9-4ae3-4bba-9436-85a5334371f6",
   "metadata": {},
   "source": [
    "* 神奇的if __name__ = '__main__'"
   ]
  },
  {
   "cell_type": "code",
   "execution_count": 2,
   "id": "549da6de-bf61-4f0a-8219-9eb217e6c288",
   "metadata": {},
   "outputs": [
    {
     "name": "stdout",
     "output_type": "stream",
     "text": [
      "get_sum:  3\n"
     ]
    }
   ],
   "source": [
    "import utils\n",
    "\n",
    "print('get_sum: ', get_sum(1, 2))"
   ]
  },
  {
   "cell_type": "code",
   "execution_count": null,
   "id": "f6a87e70-e967-473e-903a-5c84ea9f837e",
   "metadata": {},
   "outputs": [],
   "source": []
  }
 ],
 "metadata": {
  "kernelspec": {
   "display_name": "Python 3 (ipykernel)",
   "language": "python",
   "name": "python3"
  },
  "language_info": {
   "codemirror_mode": {
    "name": "ipython",
    "version": 3
   },
   "file_extension": ".py",
   "mimetype": "text/x-python",
   "name": "python",
   "nbconvert_exporter": "python",
   "pygments_lexer": "ipython3",
   "version": "3.9.0"
  }
 },
 "nbformat": 4,
 "nbformat_minor": 5
}
