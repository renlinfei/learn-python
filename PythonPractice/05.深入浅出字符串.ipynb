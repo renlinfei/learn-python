{
 "cells": [
  {
   "cell_type": "code",
   "execution_count": 1,
   "id": "8e9919ed-9c59-46b0-abde-91336a3ccc3b",
   "metadata": {},
   "outputs": [
    {
     "data": {
      "text/plain": [
       "True"
      ]
     },
     "execution_count": 1,
     "metadata": {},
     "output_type": "execute_result"
    }
   ],
   "source": [
    "s1 = 'hello'\n",
    "s2 = \"hello\"\n",
    "s3 = \"\"\"hello\"\"\"\n",
    "s1 == s2 == s3"
   ]
  },
  {
   "cell_type": "code",
   "execution_count": 2,
   "id": "f2d279dc-f10f-4332-b247-925c0343ebc2",
   "metadata": {},
   "outputs": [
    {
     "name": "stdout",
     "output_type": "stream",
     "text": [
      "a\n",
      "b\tc\n"
     ]
    }
   ],
   "source": [
    "s = 'a\\nb\\tc'\n",
    "print(s)"
   ]
  },
  {
   "cell_type": "code",
   "execution_count": 3,
   "id": "d6d94b4f-2c6d-4e7a-847a-b74ca2b1e6b5",
   "metadata": {},
   "outputs": [
    {
     "data": {
      "text/plain": [
       "5"
      ]
     },
     "execution_count": 3,
     "metadata": {},
     "output_type": "execute_result"
    }
   ],
   "source": [
    "len(s)"
   ]
  },
  {
   "cell_type": "markdown",
   "id": "32985dc9-b808-4fe6-9210-341f1dfb42f0",
   "metadata": {},
   "source": [
    "* 注意，Python的字符串是不可变的（immutable）。因此，用下面的操作，来改变一个字符串内部的字符是错误的，不允许的。"
   ]
  },
  {
   "cell_type": "code",
   "execution_count": 5,
   "id": "d2735e59-a147-462d-b480-d5742e9bed4d",
   "metadata": {},
   "outputs": [
    {
     "ename": "TypeError",
     "evalue": "'str' object does not support item assignment",
     "output_type": "error",
     "traceback": [
      "\u001b[0;31m---------------------------------------------------------------------------\u001b[0m",
      "\u001b[0;31mTypeError\u001b[0m                                 Traceback (most recent call last)",
      "Input \u001b[0;32mIn [5]\u001b[0m, in \u001b[0;36m<cell line: 2>\u001b[0;34m()\u001b[0m\n\u001b[1;32m      1\u001b[0m s \u001b[38;5;241m=\u001b[39m \u001b[38;5;124m'\u001b[39m\u001b[38;5;124mhello\u001b[39m\u001b[38;5;124m'\u001b[39m\n\u001b[0;32m----> 2\u001b[0m s[\u001b[38;5;241m0\u001b[39m] \u001b[38;5;241m=\u001b[39m \u001b[38;5;124m'\u001b[39m\u001b[38;5;124mH\u001b[39m\u001b[38;5;124m'\u001b[39m\n",
      "\u001b[0;31mTypeError\u001b[0m: 'str' object does not support item assignment"
     ]
    }
   ],
   "source": [
    "s = 'hello'\n",
    "s[0] = 'H'"
   ]
  },
  {
   "cell_type": "code",
   "execution_count": 6,
   "id": "7fd54010-4a36-4f1d-951d-6d68cdf84e0b",
   "metadata": {},
   "outputs": [],
   "source": [
    "s = 'H' + s[1:]"
   ]
  },
  {
   "cell_type": "code",
   "execution_count": 7,
   "id": "61d70804-0349-43f9-b578-b8302898f871",
   "metadata": {},
   "outputs": [
    {
     "data": {
      "text/plain": [
       "'Hello'"
      ]
     },
     "execution_count": 7,
     "metadata": {},
     "output_type": "execute_result"
    }
   ],
   "source": [
    "s"
   ]
  },
  {
   "cell_type": "code",
   "execution_count": 8,
   "id": "e0c56e2a-067e-44b2-9f96-c83779aed726",
   "metadata": {},
   "outputs": [
    {
     "data": {
      "text/plain": [
       "'Hello'"
      ]
     },
     "execution_count": 8,
     "metadata": {},
     "output_type": "execute_result"
    }
   ],
   "source": [
    "s = s.replace('h', 'H')\n",
    "s"
   ]
  },
  {
   "cell_type": "markdown",
   "id": "ada73e2e-4d20-4288-a5c1-64ddd6e5973a",
   "metadata": {},
   "source": [
    "* 这里说下+=的字符串拼接方法。因为他是个例外，打破了字符串不可变的特性"
   ]
  },
  {
   "cell_type": "code",
   "execution_count": 9,
   "id": "9b05de37-3ba1-43b3-aac9-1c8c37af1543",
   "metadata": {},
   "outputs": [
    {
     "data": {
      "text/plain": [
       "'my name is chris'"
      ]
     },
     "execution_count": 9,
     "metadata": {},
     "output_type": "execute_result"
    }
   ],
   "source": [
    "s = ' my name is chris '\n",
    "s.strip()"
   ]
  },
  {
   "cell_type": "markdown",
   "id": "39f616f6-5bee-4295-94aa-a44cb91a9258",
   "metadata": {},
   "source": [
    "* 字符串的格式化"
   ]
  },
  {
   "cell_type": "code",
   "execution_count": 11,
   "id": "68129c35-bcf7-4d72-9033-609990f05579",
   "metadata": {},
   "outputs": [
    {
     "name": "stdout",
     "output_type": "stream",
     "text": [
      "no data available for person with id: 404, name: zhangsan\n"
     ]
    }
   ],
   "source": [
    "id = 404\n",
    "name = 'zhangsan'\n",
    "print('no data available for person with id: {}, name: {}'.format(id, name))"
   ]
  },
  {
   "cell_type": "code",
   "execution_count": null,
   "id": "12971da2-6fa4-41df-8fac-1c233ac6199c",
   "metadata": {},
   "outputs": [],
   "source": []
  }
 ],
 "metadata": {
  "kernelspec": {
   "display_name": "Python 3 (ipykernel)",
   "language": "python",
   "name": "python3"
  },
  "language_info": {
   "codemirror_mode": {
    "name": "ipython",
    "version": 3
   },
   "file_extension": ".py",
   "mimetype": "text/x-python",
   "name": "python",
   "nbconvert_exporter": "python",
   "pygments_lexer": "ipython3",
   "version": "3.9.0"
  }
 },
 "nbformat": 4,
 "nbformat_minor": 5
}
