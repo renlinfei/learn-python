{
 "cells": [
  {
   "cell_type": "code",
   "execution_count": 1,
   "id": "71bfc150-6bbe-404d-8f16-d2797dd11fa5",
   "metadata": {},
   "outputs": [
    {
     "data": {
      "text/plain": [
       "__main__.MyClass"
      ]
     },
     "execution_count": 1,
     "metadata": {},
     "output_type": "execute_result"
    }
   ],
   "source": [
    "class MyClass:\n",
    "    pass\n",
    "\n",
    "instance = MyClass()\n",
    "type(instance)"
   ]
  },
  {
   "cell_type": "code",
   "execution_count": 2,
   "id": "8d42898e-7fcb-433c-95f1-5d89931a465f",
   "metadata": {},
   "outputs": [
    {
     "data": {
      "text/plain": [
       "type"
      ]
     },
     "execution_count": 2,
     "metadata": {},
     "output_type": "execute_result"
    }
   ],
   "source": [
    "type(MyClass)"
   ]
  },
  {
   "cell_type": "code",
   "execution_count": null,
   "id": "95f8a244-11d1-4326-a76a-178ef6c40604",
   "metadata": {},
   "outputs": [],
   "source": [
    "class MyMeta(type):\n",
    "    def __init__(self, ):"
   ]
  },
  {
   "cell_type": "code",
   "execution_count": 2,
   "id": "633e9ccc-df35-4839-9b2a-c626fe5cdda3",
   "metadata": {},
   "outputs": [],
   "source": [
    "class ObjectCreator(object):\n",
    "    pass"
   ]
  },
  {
   "cell_type": "code",
   "execution_count": 4,
   "id": "6868c7a0-095d-476a-8025-cd472ece0744",
   "metadata": {},
   "outputs": [
    {
     "name": "stdout",
     "output_type": "stream",
     "text": [
      "<class '__main__.ObjectCreator'>\n"
     ]
    }
   ],
   "source": [
    "print(ObjectCreator)"
   ]
  },
  {
   "cell_type": "code",
   "execution_count": 4,
   "id": "3b859fd5-48f1-4352-8682-5dec8f927c4c",
   "metadata": {},
   "outputs": [],
   "source": [
    "def echo(o): # 可以将类作为参数传递给函数\n",
    "    print(o)"
   ]
  },
  {
   "cell_type": "code",
   "execution_count": 6,
   "id": "47c761f8-c3f5-425a-8cc6-f71286e99ebd",
   "metadata": {},
   "outputs": [
    {
     "name": "stdout",
     "output_type": "stream",
     "text": [
      "<class '__main__.ObjectCreator'>\n"
     ]
    }
   ],
   "source": [
    "echo(ObjectCreator)"
   ]
  },
  {
   "cell_type": "code",
   "execution_count": 3,
   "id": "2a04fa2c-c394-487a-a95f-e651cc290bb7",
   "metadata": {},
   "outputs": [
    {
     "name": "stdout",
     "output_type": "stream",
     "text": [
      "False\n"
     ]
    }
   ],
   "source": [
    "print(hasattr(ObjectCreator, 'new_attribute'))"
   ]
  },
  {
   "cell_type": "code",
   "execution_count": 5,
   "id": "78a506cb-2714-4056-8e1e-d24cdab0960a",
   "metadata": {},
   "outputs": [
    {
     "name": "stdout",
     "output_type": "stream",
     "text": [
      "True\n"
     ]
    }
   ],
   "source": [
    "ObjectCreator.new_attribute = 'foo' # 你可以为类增加属性\n",
    "print(hasattr(ObjectCreator, 'new_attribute'))"
   ]
  },
  {
   "cell_type": "code",
   "execution_count": 6,
   "id": "7498d743-2b33-4cd6-a072-2d7d551e33ff",
   "metadata": {},
   "outputs": [],
   "source": [
    "ObjectCreatorMirror = ObjectCreator # 你可以将类赋值给一个变量"
   ]
  },
  {
   "cell_type": "code",
   "execution_count": 7,
   "id": "89a45b35-8bb5-4887-8b0f-fd561a8e08f5",
   "metadata": {},
   "outputs": [
    {
     "name": "stdout",
     "output_type": "stream",
     "text": [
      "<__main__.ObjectCreator object at 0x7f7ee267ee20>\n"
     ]
    }
   ],
   "source": [
    "print(ObjectCreatorMirror())"
   ]
  },
  {
   "cell_type": "code",
   "execution_count": 10,
   "id": "3358ad00-f363-4064-bc96-2135e5917176",
   "metadata": {},
   "outputs": [
    {
     "name": "stdout",
     "output_type": "stream",
     "text": [
      "<class '__main__.choose_class.<locals>.Foo'>\n"
     ]
    }
   ],
   "source": [
    "# 动态地创建类\n",
    "def choose_class(name):\n",
    "    if name == 'foo':\n",
    "        class Foo(object):\n",
    "            pass\n",
    "        return Foo # 返回的是类，不是类的对象\n",
    "    else:\n",
    "        class Bar(object):\n",
    "            pass\n",
    "        return Bar\n",
    "\n",
    "MyClass = choose_class('foo')\n",
    "print(MyClass)"
   ]
  },
  {
   "cell_type": "code",
   "execution_count": 11,
   "id": "29fc7b52-7071-4acd-8dfc-4944dd2ded65",
   "metadata": {},
   "outputs": [
    {
     "name": "stdout",
     "output_type": "stream",
     "text": [
      "<__main__.choose_class.<locals>.Foo object at 0x7f7ee24f3a00>\n"
     ]
    }
   ],
   "source": [
    "print(MyClass()) # 也可以通过这个类创建实例，也就是对象"
   ]
  },
  {
   "cell_type": "markdown",
   "id": "382385d9-2669-4160-a31a-33211109224f",
   "metadata": {},
   "source": [
    "这个还是不够动态，因为你仍需要自己编写整个类的代码。由于类也是对象，所以它们必须是通过什么东西来生成的才对。\n",
    "\n",
    "type能动态的创建类，type可以接受一个类的描述作为参数，然后返回一个类。\n",
    "\n",
    "type(类名，父类的元组（针对集成的情况，可以为空），包含属性的字段（名称和值）)"
   ]
  },
  {
   "cell_type": "code",
   "execution_count": 12,
   "id": "0e6faf48-9a9c-4d42-bd7e-dd9548f7c881",
   "metadata": {},
   "outputs": [
    {
     "name": "stdout",
     "output_type": "stream",
     "text": [
      "<class '__main__.MyShinyClass'>\n"
     ]
    }
   ],
   "source": [
    "MyShinyClass = type('MyShinyClass', (), {}) # 返回一个类对象\n",
    "print(MyShinyClass)"
   ]
  },
  {
   "cell_type": "code",
   "execution_count": 13,
   "id": "f25d9235-2d52-43ae-99d2-1d0e72040f39",
   "metadata": {},
   "outputs": [
    {
     "name": "stdout",
     "output_type": "stream",
     "text": [
      "<__main__.MyShinyClass object at 0x7f7ee26f1df0>\n"
     ]
    }
   ],
   "source": [
    "print(MyShinyClass()) # 创建一个该类的实例"
   ]
  },
  {
   "cell_type": "code",
   "execution_count": 20,
   "id": "3accdf9f-638e-4095-a649-241d68666ab7",
   "metadata": {},
   "outputs": [
    {
     "name": "stdout",
     "output_type": "stream",
     "text": [
      "<class '__main__.Foo'>\n"
     ]
    }
   ],
   "source": [
    "# type接受一个字典来为类定义属性，因此\n",
    "class Foo(object):\n",
    "    bar = True\n",
    "# 等同于\n",
    "print(Foo)"
   ]
  },
  {
   "cell_type": "code",
   "execution_count": 26,
   "id": "d41db687-46c7-42b2-89dc-fe62b74088d4",
   "metadata": {},
   "outputs": [],
   "source": [
    "Foo = type('Foo', (object, ), {'bar': True})"
   ]
  },
  {
   "cell_type": "code",
   "execution_count": 27,
   "id": "57483fe6-1f88-43ed-9234-442baddbbd7f",
   "metadata": {},
   "outputs": [
    {
     "name": "stdout",
     "output_type": "stream",
     "text": [
      "<class '__main__.Foo'>\n"
     ]
    }
   ],
   "source": [
    "print(Foo)"
   ]
  },
  {
   "cell_type": "markdown",
   "id": "9a583697-f153-40ad-ab13-cfee19b9253d",
   "metadata": {},
   "source": [
    "在Python中，类也是对象，你可以动态地创建类。这就是当你使用关键字class时Python在幕后做的事情，而这就是通过元类来实现的。\n",
    "\n",
    "**元类**\n",
    "\n",
    "元类就是创建类这种对象的东西。如果你喜欢的话，可以把元类称为“类工厂”。type就是Python内建元类，当然了，你也可以创建自己的元类。\n",
    "\n",
    "***自定义元类***\n",
    "\n",
    "元类的主要目的就是为了创建类时能够自动地改变类。\n",
    "\n",
    "Python3中创建元类的语法：\n",
    "\n",
    "# demo1\n",
    "\n",
    "1. new是一个静态方法，而init是一个实例方法。\n",
    "2. new方法会返回一个创建的实例，而init什么都不返回。\n",
    "3. 只有在new返回一个cls的实例时后面的init才能被调用。\n",
    "4. 当创建一个新的实例时调用new，初始化一个实例时用init。"
   ]
  },
  {
   "cell_type": "code",
   "execution_count": 29,
   "id": "f0c21667-e716-4f83-af4c-c52452779e7f",
   "metadata": {},
   "outputs": [
    {
     "name": "stdout",
     "output_type": "stream",
     "text": [
      "MetaA.__new__\n",
      "MetaA.__init__\n",
      "<__main__.A object at 0x7f7ee0ff5730>\n"
     ]
    }
   ],
   "source": [
    "# 记住，‘type’实际上是一个类，就像‘str’和‘int’一样\n",
    "# 所以，你可以从type继承\n",
    "class MetaA(type):\n",
    "    # __new__是在__init__之前被调用的特殊方法\n",
    "    # __new__是用来创建对象并返回之的方法\n",
    "    # 而__init__只是用来将传入的参数初始化给对象\n",
    "    # 你很少用到__new__，除非你希望能够控制对象的创建\n",
    "    # 这里，创建的对象是类，我们希望能够自定义它，所以我们这里改写__new__\n",
    "    # 如果你希望的话，你也可以在__init__中做些事情\n",
    "    # 还有一些高级的用法会涉及到改写__call__特殊方法，但是我们这里不用\n",
    "    def __new__(cls, name, bases, dct):\n",
    "        print('MetaA.__new__')\n",
    "        # 这种方式不会调用__init__方法\n",
    "        # return type(name, base, dct)\n",
    "        # 这种方式会调用_init__\n",
    "        return type.__new__(cls, name, bases, dct)\n",
    "    \n",
    "    def __init__(cls, name, bases, dct):\n",
    "        print('MetaA.__init__')\n",
    "\n",
    "class A(object, metaclass=MetaA):\n",
    "    pass\n",
    "\n",
    "print(A())"
   ]
  },
  {
   "cell_type": "markdown",
   "id": "8e4215f6-6a9e-4963-90ce-4f96d28e507b",
   "metadata": {},
   "source": [
    "# demo2"
   ]
  },
  {
   "cell_type": "code",
   "execution_count": 31,
   "id": "00d429a9-a042-44ff-ad3c-e9be57159e1b",
   "metadata": {},
   "outputs": [
    {
     "data": {
      "text/plain": [
       "[1]"
      ]
     },
     "execution_count": 31,
     "metadata": {},
     "output_type": "execute_result"
    }
   ],
   "source": [
    "class ListMetaclass(type):\n",
    "    \n",
    "    \"\"\"\n",
    "        元类会自动将你通常传递给‘type’的参数作为自己的参数传入\n",
    "        mcs：表示元类\n",
    "        name：表示创建类的类名（在这里创建类就是继承Model类的子类User）\n",
    "        bases：表示创建类继承的所有父类\n",
    "        namespace：表示创建类的所有属性和方法（以键值对的字典形式）\n",
    "    \"\"\"\n",
    "    def __new__(mcs, name, bases, namespace):\n",
    "        namespace['add_item'] = lambda self, value: self.append(value)\n",
    "        return type.__new__(mcs, name, bases, namespace)\n",
    "\n",
    "# 通过metaclass，给该类动态添加了add方法\n",
    "class MyList(list, metaclass=ListMetaclass):\n",
    "    pass\n",
    "\n",
    "l = MyList()\n",
    "l.add_item(1)\n",
    "l"
   ]
  },
  {
   "cell_type": "markdown",
   "id": "c80cbd82-d2bc-4470-88b6-7db2489b259a",
   "metadata": {
    "tags": []
   },
   "source": [
    "## 究竟为什么要使用元类？\n",
    "\n",
    "现在回到我们的大主题上来，究竟是为什么你会去使用这样一种容易出错且晦涩的特性？好吧，一般说来，你根本用不上它：\n",
    "\n",
    "> \"元类就是深度的魔法，99%的用户应该根本不必为此操心。如果你想搞清楚是否需要用到元类，那么你就不需要它。那些实际用到元类的人都非常清楚地知道他们需要做什么，而且根本不需要解释为什么要用元类。\" --- Python界的领袖 Tim Peters\n",
    "\n",
    "元类的主要用途是创建API。一个典型的例子是Django ORM。它允许你像这样定义\n",
    "\n",
    "**一个简单的ORM demo**"
   ]
  },
  {
   "cell_type": "code",
   "execution_count": 43,
   "id": "2130554e-72c6-4c0c-9645-0d688f9b4119",
   "metadata": {},
   "outputs": [
    {
     "name": "stdout",
     "output_type": "stream",
     "text": [
      "Found Model: User\n",
      "Found mapping: id ==> <Field:id>\n",
      "Found mapping: name ==> <Field:name>\n",
      "Found mapping: email ==> <Field:email>\n",
      "Found mapping: password ==> <Field:password>\n",
      "id------<Field:id>\n",
      "name------<Field:name>\n",
      "email------<Field:email>\n",
      "password------<Field:password>\n",
      "sql: insert into User (`id`,`name`,`email`,`password`) values (?,?,?,?)\n",
      "args: [12345, 'Michael', 'test@orm.org', 'my-pwd']\n"
     ]
    }
   ],
   "source": [
    "class Field:\n",
    "    def __init__(self, name, column_type):\n",
    "        self.name = name\n",
    "        self.column_type = column_type\n",
    "    \n",
    "    def __str__(self):\n",
    "        return '<{}:{}>'.format(__class__.__name__, self.name)\n",
    "    \n",
    "class StringField(Field):\n",
    "    def __init__(self, name):\n",
    "        super().__init__(name, 'varchar(100)')\n",
    "        \n",
    "class IntegerField(Field):\n",
    "    def __init__(self, name):\n",
    "        super().__init__(name, 'bigint')\n",
    "\n",
    "class ModelMetaclass(type):\n",
    "    def __new__(mcs, name, bases, attrs):\n",
    "        if name == 'Model':\n",
    "            return type.__new__(mcs, name, bases, attrs)\n",
    "        print('Found Model: {}'.format(name))\n",
    "        mapping = dict()\n",
    "        fields = list()\n",
    "        # 将属性保存到mapping中\n",
    "        for k, v in attrs.items():\n",
    "            if isinstance(v, Field):\n",
    "                print('Found mapping: {} ==> {}'.format(k, v))\n",
    "                mapping[k] = v\n",
    "                fields.append(k)\n",
    "        # 将Model中的Field删除\n",
    "        for k in mapping.keys():\n",
    "            attrs.pop(k)\n",
    "        \n",
    "        attrs['__fields__'] = list(map(lambda f: '`{}`'.format(f), fields))\n",
    "        attrs['__mapping__'] = mapping\n",
    "        attrs['__table__'] = name\n",
    "        return type.__new__(mcs, name, bases, attrs)\n",
    "\n",
    "class Model(dict, metaclass=ModelMetaclass):\n",
    "    def __init__(self, **kwargs):\n",
    "        super().__init__(kwargs)\n",
    "    \n",
    "    def __getattr__(self, key):\n",
    "        try:\n",
    "            return self[key]\n",
    "        except KeyError:\n",
    "            raise AttributeError(\"'Model' object has no attribute '{}'\".format(key))\n",
    "\n",
    "    def __setattr__(self, key, value):\n",
    "        self[key] = value\n",
    "    \n",
    "    def save(self):\n",
    "        fields = []\n",
    "        params = []\n",
    "        args = []\n",
    "        \n",
    "        for k, v in self.__mapping__.items():\n",
    "            print(\"{}------{}\".format(k, v))\n",
    "            params.append('?')\n",
    "            args.append(getattr(self, k, None))\n",
    "        sql = 'insert into {} ({}) values ({})'.format(self.__table__, ','.join(self.__fields__), ','.join(params))\n",
    "        print('sql: {}'.format(sql))\n",
    "        print('args: {}'.format(args))\n",
    "\n",
    "class User(Model):\n",
    "    id = IntegerField('id')\n",
    "    name = StringField('name')\n",
    "    email = StringField('email')\n",
    "    password = StringField('password')\n",
    "\n",
    "user = User(id=12345, name='Michael', email='test@orm.org', password='my-pwd')\n",
    "user.save()"
   ]
  },
  {
   "cell_type": "code",
   "execution_count": null,
   "id": "dbdd256f-374f-4aa4-bb94-85a28c16565d",
   "metadata": {},
   "outputs": [],
   "source": []
  }
 ],
 "metadata": {
  "kernelspec": {
   "display_name": "Python 3.9 (XPython)",
   "language": "python",
   "name": "xpython"
  },
  "language_info": {
   "file_extension": ".py",
   "mimetype": "text/x-python",
   "name": "python",
   "version": "3.9.11"
  }
 },
 "nbformat": 4,
 "nbformat_minor": 5
}
