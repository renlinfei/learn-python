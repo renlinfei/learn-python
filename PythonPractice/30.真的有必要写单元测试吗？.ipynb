{
 "cells": [
  {
   "cell_type": "code",
   "execution_count": null,
   "id": "5b5aacef-c9de-4be7-a38a-025e6df35aea",
   "metadata": {},
   "outputs": [],
   "source": [
    "import unittest\n",
    "\n",
    "# 将要被测试的排序函数\n",
    "def sort(arr):\n",
    "    l = len(arr)\n",
    "    for i in range(0, l):\n",
    "        for j in range(i + 1, l):\n",
    "            if arr[i] >= arr[j]:\n",
    "                tmp = arr[i]\n",
    "                arr[i] = arr[j]\n",
    "                arr[j] = tmp\n",
    "\n",
    "\n",
    "# 编写子类继承unittest.TestCase\n",
    "class TestSort(unittest.TestCase):\n",
    "    \n",
    "    # 以test开头的函数将会被测试\n",
    "    def test_sort(self):\n",
    "        arr = [3, 4, 1, 5, 6]\n",
    "        sort(arr)\n",
    "        # assert结果跟我们期待的一样\n",
    "        self.assertEqual(arr, [1, 3, 4, 5, 6])\n",
    "\n",
    "if __name__ == '__main__':\n",
    "    ## 如果在Jupter下，请用如下方式运行单元测试\n",
    "    unittest.main(argv=['first-arg-is-ignored'], exit=False)"
   ]
  },
  {
   "cell_type": "markdown",
   "id": "d7117be9-da1d-4914-a0db-c29a00de2fee",
   "metadata": {},
   "source": [
    "**单元测试的几个技巧**\n",
    "\n",
    "接下来，我将会介绍Python单元测试的几个技巧，分别是mock、side_effect和patch。这三者用法不一样，但是一个核心思想，即**用虚假的实现，来替换掉被测试函数的一些依赖项，让我们能把更多的精力放在需要被测试的功能上。**\n",
    "\n",
    "**mock**\n"
   ]
  },
  {
   "cell_type": "code",
   "execution_count": 5,
   "id": "c64ed42e-28dc-4449-ac76-efd780fee9ab",
   "metadata": {},
   "outputs": [
    {
     "name": "stderr",
     "output_type": "stream",
     "text": [
      "..\n",
      "----------------------------------------------------------------------\n",
      "Ran 2 tests in 0.009s\n",
      "\n",
      "OK\n"
     ]
    }
   ],
   "source": [
    "import unittest\n",
    "from unittest.mock import MagicMock\n",
    "\n",
    "class A(unittest.TestCase):\n",
    "    def m1(self):\n",
    "        val = self.m2()\n",
    "        self.m3(val)\n",
    "    \n",
    "    def m2(self):\n",
    "        pass\n",
    "    \n",
    "    def m3(self):\n",
    "        pass\n",
    "    \n",
    "    def test_m1(self):\n",
    "        a = A()\n",
    "        a.m2 = MagicMock(return_value=\"custom_val\")\n",
    "        a.m3 = MagicMock()\n",
    "        a.m1()\n",
    "        self.assertTrue(a.m2.called) # 验证m2被call过\n",
    "        a.m3.assert_called_with(\"custom_val\") # 验证m3被指定参数call过\n",
    "\n",
    "if __name__ == '__main__':\n",
    "    unittest.main(argv=['first-arg-is-ignored'], exit=False)"
   ]
  },
  {
   "cell_type": "markdown",
   "id": "c997f567-2b19-4a4e-8adf-d326556fc28f",
   "metadata": {},
   "source": [
    "**Mock Side Effect**\n",
    "\n",
    "第二个我们看Mock Side Effect，这个概念很好理解，就是mock的函数，属性是可以根据不同的输入，返回不同的数值，而不只是一个return_value。"
   ]
  },
  {
   "cell_type": "code",
   "execution_count": 6,
   "id": "6d10d7e0-9982-4f57-9d53-c3c9494968fb",
   "metadata": {},
   "outputs": [
    {
     "data": {
      "text/plain": [
       "1"
      ]
     },
     "execution_count": 6,
     "metadata": {},
     "output_type": "execute_result"
    }
   ],
   "source": [
    "from unittest.mock import MagicMock\n",
    "\n",
    "def side_effect(arg):\n",
    "    if arg < 0:\n",
    "        return 1\n",
    "    else:\n",
    "        return 2\n",
    "\n",
    "mock = MagicMock()\n",
    "mock.side_effect = side_effect\n",
    "mock(-1)"
   ]
  },
  {
   "cell_type": "code",
   "execution_count": 7,
   "id": "14b77abc-f204-4bd3-a7ff-239ef0663632",
   "metadata": {},
   "outputs": [
    {
     "data": {
      "text/plain": [
       "2"
      ]
     },
     "execution_count": 7,
     "metadata": {},
     "output_type": "execute_result"
    }
   ],
   "source": [
    "mock(2)"
   ]
  },
  {
   "cell_type": "markdown",
   "id": "b3f88001-ffe7-4615-9d37-076d387a8ac6",
   "metadata": {},
   "source": [
    "**patch**\n",
    "\n",
    "至于patch，给开发者提供了便利的函数mock方法。它可以应用Python的decoration模式或是context manager概念，快速日然地mock所需的函数。他的用法也不难，我们看下代码："
   ]
  },
  {
   "cell_type": "code",
   "execution_count": null,
   "id": "ebbb50bd-7788-4b25-9fb5-fc5f113f7cef",
   "metadata": {},
   "outputs": [],
   "source": []
  }
 ],
 "metadata": {
  "kernelspec": {
   "display_name": "Python 3 (ipykernel)",
   "language": "python",
   "name": "python3"
  },
  "language_info": {
   "codemirror_mode": {
    "name": "ipython",
    "version": 3
   },
   "file_extension": ".py",
   "mimetype": "text/x-python",
   "name": "python",
   "nbconvert_exporter": "python",
   "pygments_lexer": "ipython3",
   "version": "3.9.0"
  }
 },
 "nbformat": 4,
 "nbformat_minor": 5
}
