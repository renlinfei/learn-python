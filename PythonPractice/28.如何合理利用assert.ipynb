{
 "cells": [
  {
   "cell_type": "markdown",
   "id": "4b0be4f8-2ef6-40cd-8d95-db492d354c23",
   "metadata": {},
   "source": [
    "**什么是assert**\n",
    "\n",
    "Python的assert语句，可以说是一个debug的好工具，主要用于测试一个条件是否满足。如果测试的条件满足，则什么也不做，相当于执行了pass语句；如果测试条件不满足，便会抛出异常AssertionError，并返回具体的错误信息（optional）。"
   ]
  },
  {
   "cell_type": "code",
   "execution_count": 1,
   "id": "eb474805-5619-4bbb-b713-d3d4e178c0e2",
   "metadata": {},
   "outputs": [
    {
     "name": "stderr",
     "output_type": "stream",
     "text": [
      "<>:1: SyntaxWarning: assertion is always true, perhaps remove parentheses?\n",
      "<>:1: SyntaxWarning: assertion is always true, perhaps remove parentheses?\n",
      "/var/folders/x9/wsv8znhd733_d2nmykjnd9vm0000gn/T/ipykernel_1372/3929615136.py:1: SyntaxWarning: assertion is always true, perhaps remove parentheses?\n",
      "  assert(1 == 2, 'This should fail')\n"
     ]
    }
   ],
   "source": [
    "assert(1 == 2, 'This should fail')"
   ]
  },
  {
   "cell_type": "code",
   "execution_count": 2,
   "id": "e50cd3b2-9c41-408c-ba03-4d211eb2a2ce",
   "metadata": {},
   "outputs": [
    {
     "ename": "AssertionError",
     "evalue": "This should fail",
     "output_type": "error",
     "traceback": [
      "\u001b[0;31m---------------------------------------------------------------------------\u001b[0m",
      "\u001b[0;31mAssertionError\u001b[0m                            Traceback (most recent call last)",
      "Input \u001b[0;32mIn [2]\u001b[0m, in \u001b[0;36m<cell line: 1>\u001b[0;34m()\u001b[0m\n\u001b[0;32m----> 1\u001b[0m \u001b[38;5;28;01massert\u001b[39;00m \u001b[38;5;241m1\u001b[39m \u001b[38;5;241m==\u001b[39m \u001b[38;5;241m2\u001b[39m, \u001b[38;5;124m'\u001b[39m\u001b[38;5;124mThis should fail\u001b[39m\u001b[38;5;124m'\u001b[39m\n",
      "\u001b[0;31mAssertionError\u001b[0m: This should fail"
     ]
    }
   ],
   "source": [
    "assert 1 == 2, 'This should fail'"
   ]
  },
  {
   "cell_type": "markdown",
   "id": "8c8aeb17-5618-483d-a3db-d4aa46fdafa3",
   "metadata": {},
   "source": [
    "* assert检查是可以被关闭的；\n",
    "* assert不适用run-time error的检查"
   ]
  }
 ],
 "metadata": {
  "kernelspec": {
   "display_name": "Python 3 (ipykernel)",
   "language": "python",
   "name": "python3"
  },
  "language_info": {
   "codemirror_mode": {
    "name": "ipython",
    "version": 3
   },
   "file_extension": ".py",
   "mimetype": "text/x-python",
   "name": "python",
   "nbconvert_exporter": "python",
   "pygments_lexer": "ipython3",
   "version": "3.9.0"
  }
 },
 "nbformat": 4,
 "nbformat_minor": 5
}
