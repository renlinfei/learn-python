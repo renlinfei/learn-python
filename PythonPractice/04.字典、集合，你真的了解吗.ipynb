{
 "cells": [
  {
   "cell_type": "code",
   "execution_count": 7,
   "id": "b1257bde-739d-4e7e-a189-2822b1cb5545",
   "metadata": {},
   "outputs": [
    {
     "data": {
      "text/plain": [
       "True"
      ]
     },
     "execution_count": 7,
     "metadata": {},
     "output_type": "execute_result"
    }
   ],
   "source": [
    "d1 = {'name': 'chris', 'age': 34, 'gender': 'male'}\n",
    "d2 = dict({'name': 'chris', 'age': 34, 'gender': 'male'})\n",
    "d3 = dict([('name', 'chris'), ('age', 34), ('gender', 'male')])\n",
    "d4 = dict(name='chris', age=34, gender='male')\n",
    "d1 == d2 == d3 == d4\n"
   ]
  },
  {
   "cell_type": "code",
   "execution_count": 8,
   "id": "a7a4c843-c6ba-482c-b8cc-ab437ab04ed7",
   "metadata": {},
   "outputs": [
    {
     "data": {
      "text/plain": [
       "True"
      ]
     },
     "execution_count": 8,
     "metadata": {},
     "output_type": "execute_result"
    }
   ],
   "source": [
    "s1 = {1, 2, 3}\n",
    "s2 = set([1, 2, 3])\n",
    "s1 == s2"
   ]
  },
  {
   "cell_type": "code",
   "execution_count": 9,
   "id": "b1656337-e3a0-49b2-9022-df43012c0fbc",
   "metadata": {},
   "outputs": [
    {
     "data": {
      "text/plain": [
       "'chris'"
      ]
     },
     "execution_count": 9,
     "metadata": {},
     "output_type": "execute_result"
    }
   ],
   "source": [
    "d = {'name': 'chris', 'age': 34}\n",
    "d['name']"
   ]
  },
  {
   "cell_type": "code",
   "execution_count": 10,
   "id": "ffa8e7de-277a-4f50-9426-17b36cb55b01",
   "metadata": {},
   "outputs": [
    {
     "ename": "KeyError",
     "evalue": "'location'",
     "output_type": "error",
     "traceback": [
      "\u001b[0;31m---------------------------------------------------------------------------\u001b[0m",
      "\u001b[0;31mKeyError\u001b[0m                                  Traceback (most recent call last)",
      "Input \u001b[0;32mIn [10]\u001b[0m, in \u001b[0;36m<cell line: 1>\u001b[0;34m()\u001b[0m\n\u001b[0;32m----> 1\u001b[0m \u001b[43md\u001b[49m\u001b[43m[\u001b[49m\u001b[38;5;124;43m'\u001b[39;49m\u001b[38;5;124;43mlocation\u001b[39;49m\u001b[38;5;124;43m'\u001b[39;49m\u001b[43m]\u001b[49m\n",
      "\u001b[0;31mKeyError\u001b[0m: 'location'"
     ]
    }
   ],
   "source": [
    "d['location']"
   ]
  },
  {
   "cell_type": "code",
   "execution_count": 11,
   "id": "67403674-b739-49e2-8a38-7c798c538dff",
   "metadata": {},
   "outputs": [
    {
     "data": {
      "text/plain": [
       "'null'"
      ]
     },
     "execution_count": 11,
     "metadata": {},
     "output_type": "execute_result"
    }
   ],
   "source": [
    "d.get('location', 'null')"
   ]
  },
  {
   "cell_type": "code",
   "execution_count": 14,
   "id": "6065ee3b-6c8f-49d5-95e8-a22ca0ee764a",
   "metadata": {},
   "outputs": [
    {
     "ename": "TypeError",
     "evalue": "'set' object is not subscriptable",
     "output_type": "error",
     "traceback": [
      "\u001b[0;31m---------------------------------------------------------------------------\u001b[0m",
      "\u001b[0;31mTypeError\u001b[0m                                 Traceback (most recent call last)",
      "Input \u001b[0;32mIn [14]\u001b[0m, in \u001b[0;36m<cell line: 2>\u001b[0;34m()\u001b[0m\n\u001b[1;32m      1\u001b[0m s \u001b[38;5;241m=\u001b[39m {\u001b[38;5;241m1\u001b[39m, \u001b[38;5;241m2\u001b[39m, \u001b[38;5;241m3\u001b[39m}\n\u001b[0;32m----> 2\u001b[0m \u001b[43ms\u001b[49m\u001b[43m[\u001b[49m\u001b[38;5;241;43m0\u001b[39;49m\u001b[43m]\u001b[49m\n",
      "\u001b[0;31mTypeError\u001b[0m: 'set' object is not subscriptable"
     ]
    }
   ],
   "source": [
    "s = {1, 2, 3}\n",
    "s[0]"
   ]
  },
  {
   "cell_type": "code",
   "execution_count": 16,
   "id": "98b876ff-a908-42af-b423-112dda62642f",
   "metadata": {},
   "outputs": [
    {
     "data": {
      "text/plain": [
       "{1, 2, 33}"
      ]
     },
     "execution_count": 16,
     "metadata": {},
     "output_type": "execute_result"
    }
   ],
   "source": [
    "s = {1, 1, 2, 33}\n",
    "s"
   ]
  },
  {
   "cell_type": "code",
   "execution_count": 12,
   "id": "1709769f-a00d-4f1a-a2f2-35ec1f484c2d",
   "metadata": {},
   "outputs": [
    {
     "data": {
      "text/plain": [
       "True"
      ]
     },
     "execution_count": 12,
     "metadata": {},
     "output_type": "execute_result"
    }
   ],
   "source": [
    "s = {1, 2, 3}\n",
    "1 in s"
   ]
  },
  {
   "cell_type": "code",
   "execution_count": 13,
   "id": "b31e2653-45cd-459e-a70f-6b2f74d8cd27",
   "metadata": {},
   "outputs": [
    {
     "data": {
      "text/plain": [
       "False"
      ]
     },
     "execution_count": 13,
     "metadata": {},
     "output_type": "execute_result"
    }
   ],
   "source": [
    "10 in s"
   ]
  },
  {
   "cell_type": "code",
   "execution_count": 17,
   "id": "80b807a0-22b5-4019-b96e-bd48a4b22eae",
   "metadata": {},
   "outputs": [
    {
     "data": {
      "text/plain": [
       "True"
      ]
     },
     "execution_count": 17,
     "metadata": {},
     "output_type": "execute_result"
    }
   ],
   "source": [
    "d = {'name': 'chris', 'age': 34}\n",
    "'name' in d"
   ]
  },
  {
   "cell_type": "code",
   "execution_count": 18,
   "id": "208fd3bf-cd80-4a4c-844e-82660d1cd191",
   "metadata": {},
   "outputs": [
    {
     "data": {
      "text/plain": [
       "False"
      ]
     },
     "execution_count": 18,
     "metadata": {},
     "output_type": "execute_result"
    }
   ],
   "source": [
    "'location' in d"
   ]
  },
  {
   "cell_type": "code",
   "execution_count": 19,
   "id": "16140342-c924-4dd4-a91b-6316c0dbbbe5",
   "metadata": {},
   "outputs": [
    {
     "data": {
      "text/plain": [
       "False"
      ]
     },
     "execution_count": 19,
     "metadata": {},
     "output_type": "execute_result"
    }
   ],
   "source": [
    "'chris' in d"
   ]
  },
  {
   "cell_type": "code",
   "execution_count": 20,
   "id": "a80ee0a6-fe1f-477b-aef1-8199d973c05a",
   "metadata": {},
   "outputs": [
    {
     "data": {
      "text/plain": [
       "{'name': 'chris', 'age': 34, 'gender': 'male', 'dob': '1999-02-01'}"
      ]
     },
     "execution_count": 20,
     "metadata": {},
     "output_type": "execute_result"
    }
   ],
   "source": [
    "d = {'name': 'chris', 'age': 34}\n",
    "d['gender'] = 'male' # 增加元素对'gender': 'male'\n",
    "d['dob'] = '1999-02-01' # 增加元素对'dob': '1999-02-01'\n",
    "d"
   ]
  },
  {
   "cell_type": "code",
   "execution_count": 21,
   "id": "b9a9b626-b783-4c2b-8a6b-2d786bbb1569",
   "metadata": {},
   "outputs": [
    {
     "data": {
      "text/plain": [
       "{'name': 'chris', 'age': 34, 'gender': 'male', 'dob': '2000-01-01'}"
      ]
     },
     "execution_count": 21,
     "metadata": {},
     "output_type": "execute_result"
    }
   ],
   "source": [
    "d['dob'] = '2000-01-01'\n",
    "d"
   ]
  },
  {
   "cell_type": "code",
   "execution_count": 22,
   "id": "88cf3e5d-306b-4b55-8f7e-e117dfe9d16f",
   "metadata": {},
   "outputs": [
    {
     "data": {
      "text/plain": [
       "'2000-01-01'"
      ]
     },
     "execution_count": 22,
     "metadata": {},
     "output_type": "execute_result"
    }
   ],
   "source": [
    "d.pop('dob') # 删除键为'dob'的元素对"
   ]
  },
  {
   "cell_type": "code",
   "execution_count": 23,
   "id": "0d3c3bf3-1d06-42e5-b78f-bb9829817095",
   "metadata": {},
   "outputs": [
    {
     "data": {
      "text/plain": [
       "{'name': 'chris', 'age': 34, 'gender': 'male'}"
      ]
     },
     "execution_count": 23,
     "metadata": {},
     "output_type": "execute_result"
    }
   ],
   "source": [
    "d"
   ]
  },
  {
   "cell_type": "code",
   "execution_count": 24,
   "id": "34fa08eb-4c0b-477e-9590-a0b00a362b4e",
   "metadata": {},
   "outputs": [
    {
     "data": {
      "text/plain": [
       "{1, 2, 3, 4}"
      ]
     },
     "execution_count": 24,
     "metadata": {},
     "output_type": "execute_result"
    }
   ],
   "source": [
    "s = {1, 2, 3}\n",
    "s.add(4)\n",
    "s"
   ]
  },
  {
   "cell_type": "code",
   "execution_count": 25,
   "id": "fff45e89-fefe-4b57-87e4-5b56a5767fed",
   "metadata": {},
   "outputs": [
    {
     "data": {
      "text/plain": [
       "{1, 2, 3}"
      ]
     },
     "execution_count": 25,
     "metadata": {},
     "output_type": "execute_result"
    }
   ],
   "source": [
    "s.remove(4)\n",
    "s"
   ]
  },
  {
   "cell_type": "markdown",
   "id": "85c4cf9a-785d-425c-8c93-cc3060ca65b2",
   "metadata": {},
   "source": [
    "+ 对于字段，我们通常会根据键或值，进行升序或降序排序："
   ]
  },
  {
   "cell_type": "code",
   "execution_count": 28,
   "id": "2ff1bc9a-cca4-47f8-9ef7-61002f037b68",
   "metadata": {},
   "outputs": [
    {
     "data": {
      "text/plain": [
       "[('a', 2), ('b', 1), ('c', 10)]"
      ]
     },
     "execution_count": 28,
     "metadata": {},
     "output_type": "execute_result"
    }
   ],
   "source": [
    "d = {'b': 1, 'a': 2, 'c': 10}\n",
    "d_sorted_by_key = sorted(d.items(), key=lambda x: x[0])\n",
    "d_sorted_by_value = sorted(d.items(), key=lambda x: x[1])\n",
    "d_sorted_by_key"
   ]
  },
  {
   "cell_type": "code",
   "execution_count": 29,
   "id": "eb1a1052-951f-41fd-8411-394d8a22433a",
   "metadata": {},
   "outputs": [
    {
     "data": {
      "text/plain": [
       "[('b', 1), ('a', 2), ('c', 10)]"
      ]
     },
     "execution_count": 29,
     "metadata": {},
     "output_type": "execute_result"
    }
   ],
   "source": [
    "d_sorted_by_value"
   ]
  },
  {
   "cell_type": "code",
   "execution_count": 30,
   "id": "40380bb8-2ebb-4370-a56e-2a775da98a44",
   "metadata": {},
   "outputs": [
    {
     "data": {
      "text/plain": [
       "[1, 2, 3, 4]"
      ]
     },
     "execution_count": 30,
     "metadata": {},
     "output_type": "execute_result"
    }
   ],
   "source": [
    "s = {3, 4, 2, 1}\n",
    "sorted(s)"
   ]
  },
  {
   "cell_type": "markdown",
   "id": "affbceac-d549-4e76-91a9-1dcb1aecdee5",
   "metadata": {},
   "source": [
    "* 字典和集合查找"
   ]
  },
  {
   "cell_type": "code",
   "execution_count": 32,
   "id": "87bea88a-1fae-4d09-a6c0-ff360e6c4b5b",
   "metadata": {},
   "outputs": [
    {
     "name": "stdout",
     "output_type": "stream",
     "text": [
      "The price of product 11111111 is 100\n"
     ]
    }
   ],
   "source": [
    "def find_product_price(products, product_id):\n",
    "    for id, price in products:\n",
    "        if id == product_id:\n",
    "            return price\n",
    "    return None\n",
    "products = [\n",
    "    (11111111, 100),\n",
    "    (22222222, 30),\n",
    "    (33333333, 150)\n",
    "]\n",
    "\n",
    "print('The price of product 11111111 is {}'.format(find_product_price(products, 11111111)))"
   ]
  },
  {
   "cell_type": "markdown",
   "id": "a7cba54c-ee62-4f77-a591-610032d5518f",
   "metadata": {},
   "source": [
    "* 使用列表"
   ]
  },
  {
   "cell_type": "code",
   "execution_count": 10,
   "id": "a5af109f-27ad-4a80-aa64-628e35f46a83",
   "metadata": {},
   "outputs": [
    {
     "name": "stdout",
     "output_type": "stream",
     "text": [
      "number of unique price is: 3\n"
     ]
    }
   ],
   "source": [
    "# list version\n",
    "def find_unique_price_using_list(products):\n",
    "    unique_price_list = []\n",
    "    for _, price in products:\n",
    "        if price not in unique_price_list:\n",
    "            unique_price_list.append(price)\n",
    "    return len(unique_price_list)\n",
    "\n",
    "products = [\n",
    "    (143121312, 100), \n",
    "    (432314553, 30), \n",
    "    (32421912367, 150), \n",
    "    (937153201, 30)\n",
    "]\n",
    "\n",
    "print('number of unique price is: {}'.format(find_unique_price_using_list(products)))"
   ]
  },
  {
   "cell_type": "code",
   "execution_count": 11,
   "id": "014e743f-ad26-4aea-932b-d2c882be62bd",
   "metadata": {},
   "outputs": [
    {
     "name": "stdout",
     "output_type": "stream",
     "text": [
      "number of unique price is: 3\n"
     ]
    }
   ],
   "source": [
    "# set version\n",
    "def find_unique_price_using_set(products):\n",
    "    unique_price_set = set()\n",
    "    for _, price in products:\n",
    "        unique_price_set.add(price)\n",
    "    return len(unique_price_set)\n",
    "products = [\n",
    "    (143121312, 100), \n",
    "    (432314553, 30), \n",
    "    (32421912367, 150), \n",
    "    (937153201, 30)\n",
    "]\n",
    "\n",
    "print('number of unique price is: {}'.format(find_unique_price_using_set(products)))"
   ]
  },
  {
   "cell_type": "markdown",
   "id": "820722ba-42eb-437e-969d-f04449ffc39f",
   "metadata": {},
   "source": [
    "* 列表和集合时间复杂度"
   ]
  },
  {
   "cell_type": "code",
   "execution_count": 13,
   "id": "05a07d9b-2901-4127-9a09-cf34d98fce73",
   "metadata": {},
   "outputs": [
    {
     "name": "stdout",
     "output_type": "stream",
     "text": [
      "time elapse using list:  76.73981236400004\n"
     ]
    }
   ],
   "source": [
    "import time\n",
    "id = [x for x in range(0, 100000)]\n",
    "price = [x for x in range(200000, 300000)]\n",
    "products = list(zip(id, price))\n",
    "\n",
    "# 计算列表版本的时间\n",
    "start_using_list = time.perf_counter()\n",
    "find_unique_price_using_list(products)\n",
    "end_using_list = time.perf_counter()\n",
    "print(\"time elapse using list:  {}\".format(end_using_list - start_using_list))"
   ]
  },
  {
   "cell_type": "code",
   "execution_count": 14,
   "id": "1e0e3f13-f0a4-4f67-ab50-1043c969e5a9",
   "metadata": {},
   "outputs": [
    {
     "name": "stdout",
     "output_type": "stream",
     "text": [
      "time elapse using set:  0.03282618799994452\n"
     ]
    }
   ],
   "source": [
    "# 计算集合版本的时间\n",
    "start_using_set = time.perf_counter()\n",
    "find_unique_price_using_set(products)\n",
    "end_using_set = time.perf_counter()\n",
    "print(\"time elapse using set:  {}\".format(end_using_set - start_using_set))"
   ]
  },
  {
   "cell_type": "markdown",
   "id": "e346f217-0e27-4d31-a422-20d24a1ce7b8",
   "metadata": {},
   "source": [
    "* https://zhuanlan.zhihu.com/p/73426505"
   ]
  },
  {
   "cell_type": "code",
   "execution_count": null,
   "id": "3652e2d3-ca8f-4815-bba7-c7acec31504f",
   "metadata": {},
   "outputs": [],
   "source": []
  }
 ],
 "metadata": {
  "kernelspec": {
   "display_name": "Python 3 (ipykernel)",
   "language": "python",
   "name": "python3"
  },
  "language_info": {
   "codemirror_mode": {
    "name": "ipython",
    "version": 3
   },
   "file_extension": ".py",
   "mimetype": "text/x-python",
   "name": "python",
   "nbconvert_exporter": "python",
   "pygments_lexer": "ipython3",
   "version": "3.9.0"
  }
 },
 "nbformat": 4,
 "nbformat_minor": 5
}
