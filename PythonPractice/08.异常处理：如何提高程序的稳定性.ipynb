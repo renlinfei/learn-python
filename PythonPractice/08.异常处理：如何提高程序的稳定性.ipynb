{
 "cells": [
  {
   "cell_type": "markdown",
   "id": "77c73b2c-2e70-4ecf-b4c9-d55e44b1d464",
   "metadata": {},
   "source": [
    "* 用户自定义异常"
   ]
  },
  {
   "cell_type": "code",
   "execution_count": 1,
   "id": "a0c60622-3074-4964-a72f-8da19cb64fb8",
   "metadata": {},
   "outputs": [
    {
     "name": "stdout",
     "output_type": "stream",
     "text": [
      "error: 1 is invalid input\n"
     ]
    }
   ],
   "source": [
    "class MyInputError(Exception):\n",
    "    \"\"\"Exception raised when there're errors in input\"\"\"\n",
    "    def __init__(self, value): # 自定义异常类型的初始化\n",
    "        self.value = value\n",
    "    def __str__(self): # 自定义异常类型的string表达形式\n",
    "        return (\"{} is invalid input\".format(repr(self.value)))\n",
    "try:\n",
    "    raise MyInputError(1)\n",
    "except MyInputError as err:\n",
    "    print('error: {}'.format(err))"
   ]
  },
  {
   "cell_type": "code",
   "execution_count": null,
   "id": "1cca6636-c0b9-4ace-91da-2272f309ba80",
   "metadata": {},
   "outputs": [],
   "source": []
  }
 ],
 "metadata": {
  "kernelspec": {
   "display_name": "Python 3 (ipykernel)",
   "language": "python",
   "name": "python3"
  },
  "language_info": {
   "codemirror_mode": {
    "name": "ipython",
    "version": 3
   },
   "file_extension": ".py",
   "mimetype": "text/x-python",
   "name": "python",
   "nbconvert_exporter": "python",
   "pygments_lexer": "ipython3",
   "version": "3.9.0"
  }
 },
 "nbformat": 4,
 "nbformat_minor": 5
}
