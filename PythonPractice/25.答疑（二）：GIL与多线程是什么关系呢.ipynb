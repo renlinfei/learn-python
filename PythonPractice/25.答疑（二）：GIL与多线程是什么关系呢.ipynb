{
 "cells": [
  {
   "cell_type": "markdown",
   "id": "d631cc91-eaac-4e53-aaf1-a2b46a5cd8cd",
   "metadata": {},
   "source": [
    "**问题一：列表self append无限嵌套原理**"
   ]
  },
  {
   "cell_type": "code",
   "execution_count": 1,
   "id": "cbf2e467-98aa-4d02-8876-81e044207131",
   "metadata": {},
   "outputs": [
    {
     "data": {
      "text/plain": [
       "[1, [...]]"
      ]
     },
     "execution_count": 1,
     "metadata": {},
     "output_type": "execute_result"
    }
   ],
   "source": [
    "x = [1]\n",
    "x .append(x)\n",
    "x"
   ]
  },
  {
   "cell_type": "code",
   "execution_count": 2,
   "id": "d21a6385-442e-4a6c-a17e-b200834bffb2",
   "metadata": {},
   "outputs": [
    {
     "data": {
      "text/plain": [
       "2"
      ]
     },
     "execution_count": 2,
     "metadata": {},
     "output_type": "execute_result"
    }
   ],
   "source": [
    "len(x)"
   ]
  },
  {
   "cell_type": "markdown",
   "id": "a4c9912e-e1b9-4676-b1a2-1667aa4c8408",
   "metadata": {},
   "source": [
    "**问题二：装饰器的宏观解释**\n",
    "\n",
    "不过也要注意，很多情况下，装饰器并不是唯一的方法。而我这里强调的，主要是使用装饰器带来的好处：\n",
    "\n",
    "* 代码更加简洁\n",
    "* 逻辑更加清晰\n",
    "* 程序的层次化、分离化更加明显"
   ]
  },
  {
   "cell_type": "markdown",
   "id": "f2de17ef-ef67-48c8-a2cc-ac5a1e2d3a2d",
   "metadata": {},
   "source": [
    "**问题三：GIL与多线程的关系**\n",
    "\n",
    "GIL的存在与Python支持多线程并不矛盾。前面我们讲过，GIL是指同一时刻，程序智能有一个线程运行；而Python中的多线程，是指多个线程交替执行，造成一个“伪并行”的结果，但是具体到某一时刻，仍然只有一个线程在运行，并不是真正的多线程并行。"
   ]
  },
  {
   "cell_type": "markdown",
   "id": "58d1f948-0722-447a-aa97-837ed96fc04d",
   "metadata": {},
   "source": [
    "**问题四：多进程与多线程的应用场景**\n",
    "\n"
   ]
  },
  {
   "cell_type": "code",
   "execution_count": null,
   "id": "b2428d76-c890-4fb0-a862-a3433984da3d",
   "metadata": {},
   "outputs": [],
   "source": []
  }
 ],
 "metadata": {
  "kernelspec": {
   "display_name": "Python 3 (ipykernel)",
   "language": "python",
   "name": "python3"
  },
  "language_info": {
   "codemirror_mode": {
    "name": "ipython",
    "version": 3
   },
   "file_extension": ".py",
   "mimetype": "text/x-python",
   "name": "python",
   "nbconvert_exporter": "python",
   "pygments_lexer": "ipython3",
   "version": "3.9.0"
  }
 },
 "nbformat": 4,
 "nbformat_minor": 5
}
