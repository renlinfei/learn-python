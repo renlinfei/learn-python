{
 "cells": [
  {
   "cell_type": "markdown",
   "id": "74638fbb-0a76-4340-9210-41ffa2ffc653",
   "metadata": {},
   "source": [
    "**统一的编程规范为什么重要？**\n",
    "\n",
    "**阅读者的体验>>编程者的体验>>机器的体验**\n",
    "\n",
    "**机器的体验也很重要**"
   ]
  },
  {
   "cell_type": "code",
   "execution_count": 1,
   "id": "5d820af2-70d6-4dbd-9658-85caa90acf5f",
   "metadata": {},
   "outputs": [
    {
     "name": "stdout",
     "output_type": "stream",
     "text": [
      "True\n",
      "False\n"
     ]
    }
   ],
   "source": [
    "x = 27\n",
    "y = 27\n",
    "\n",
    "print(x is y)\n",
    "\n",
    "x = 721\n",
    "y = 721\n",
    "print(x is y)"
   ]
  },
  {
   "cell_type": "code",
   "execution_count": 2,
   "id": "b3783b91-1c6c-4473-974b-52fe9e04a2eb",
   "metadata": {},
   "outputs": [
    {
     "name": "stdout",
     "output_type": "stream",
     "text": [
      "True\n",
      "True\n"
     ]
    }
   ],
   "source": [
    "x = 27\n",
    "y = 27\n",
    "\n",
    "print(x == y)\n",
    "\n",
    "x = 721\n",
    "y = 721\n",
    "print(x == y)"
   ]
  },
  {
   "cell_type": "code",
   "execution_count": 3,
   "id": "42e062ab-e105-4295-aee0-7d9a42ca9199",
   "metadata": {},
   "outputs": [],
   "source": [
    "class MyObject(object):\n",
    "    def __eq__(self, other):\n",
    "        if other:\n",
    "            return self.field == other.field\n",
    "        return True"
   ]
  },
  {
   "cell_type": "code",
   "execution_count": 4,
   "id": "68416d5a-63c3-4a8c-ba24-dc979d55961c",
   "metadata": {},
   "outputs": [
    {
     "name": "stdout",
     "output_type": "stream",
     "text": [
      "True\n"
     ]
    }
   ],
   "source": [
    "# 错误示例\n",
    "x = MyObject()\n",
    "print(x == None)"
   ]
  },
  {
   "cell_type": "code",
   "execution_count": 6,
   "id": "7fbd0bac-9fcf-4758-95c3-b176fd95f0f7",
   "metadata": {},
   "outputs": [
    {
     "name": "stdout",
     "output_type": "stream",
     "text": [
      "False\n"
     ]
    },
    {
     "ename": "AttributeError",
     "evalue": "'MyObject' object has no attribute 'field'",
     "output_type": "error",
     "traceback": [
      "\u001b[0;31m---------------------------------------------------------------------------\u001b[0m",
      "\u001b[0;31mAttributeError\u001b[0m                            Traceback (most recent call last)",
      "Input \u001b[0;32mIn [6]\u001b[0m, in \u001b[0;36m<cell line: 4>\u001b[0;34m()\u001b[0m\n\u001b[1;32m      2\u001b[0m y \u001b[38;5;241m=\u001b[39m MyObject()\n\u001b[1;32m      3\u001b[0m \u001b[38;5;28mprint\u001b[39m(y \u001b[38;5;129;01mis\u001b[39;00m \u001b[38;5;28;01mNone\u001b[39;00m)\n\u001b[0;32m----> 4\u001b[0m \u001b[38;5;28mprint\u001b[39m(\u001b[43mx\u001b[49m\u001b[43m \u001b[49m\u001b[38;5;241;43m==\u001b[39;49m\u001b[43m \u001b[49m\u001b[43my\u001b[49m)\n",
      "Input \u001b[0;32mIn [3]\u001b[0m, in \u001b[0;36mMyObject.__eq__\u001b[0;34m(self, other)\u001b[0m\n\u001b[1;32m      2\u001b[0m \u001b[38;5;28;01mdef\u001b[39;00m \u001b[38;5;21m__eq__\u001b[39m(\u001b[38;5;28mself\u001b[39m, other):\n\u001b[1;32m      3\u001b[0m     \u001b[38;5;28;01mif\u001b[39;00m other:\n\u001b[0;32m----> 4\u001b[0m         \u001b[38;5;28;01mreturn\u001b[39;00m \u001b[38;5;28;43mself\u001b[39;49m\u001b[38;5;241;43m.\u001b[39;49m\u001b[43mfield\u001b[49m \u001b[38;5;241m==\u001b[39m other\u001b[38;5;241m.\u001b[39mfield\n\u001b[1;32m      5\u001b[0m     \u001b[38;5;28;01mreturn\u001b[39;00m \u001b[38;5;28;01mTrue\u001b[39;00m\n",
      "\u001b[0;31mAttributeError\u001b[0m: 'MyObject' object has no attribute 'field'"
     ]
    }
   ],
   "source": [
    "# 正确示例\n",
    "y = MyObject()\n",
    "print(y is None)\n",
    "print(x == y)"
   ]
  },
  {
   "cell_type": "markdown",
   "id": "fd5487fb-f292-422e-96bd-1e6221066371",
   "metadata": {},
   "source": [
    "上面两个例子，我简单介绍了通过编程风格的限制，让is和==的使用更安全。不过，光注意这两点就可以了吗？不要忘记，Python中还有隐式布尔转换。比如："
   ]
  },
  {
   "cell_type": "code",
   "execution_count": 8,
   "id": "af7bacf6-2d40-4145-af44-2ab8dc988691",
   "metadata": {},
   "outputs": [
    {
     "name": "stdout",
     "output_type": "stream",
     "text": [
      "Andrew is compensated 11 dollars\n"
     ]
    }
   ],
   "source": [
    "# 错误示例\n",
    "def pay(name, salary=None):\n",
    "    if not salary:\n",
    "        salary = 11\n",
    "    print(name, \"is compensated\", salary, \"dollars\")\n",
    "pay('Andrew', 0)"
   ]
  },
  {
   "cell_type": "code",
   "execution_count": 10,
   "id": "f2090e37-2709-4ef5-8910-0037fc695fac",
   "metadata": {},
   "outputs": [
    {
     "name": "stdout",
     "output_type": "stream",
     "text": [
      "Andrew is compensated 0 dollars\n"
     ]
    }
   ],
   "source": [
    "# 错误示例\n",
    "def pay(name, salary=None):\n",
    "    if salary is None:\n",
    "        salary = 11\n",
    "    print(name, \"is compensated\", salary, \"dollars\")\n",
    "pay('Andrew', 0)"
   ]
  },
  {
   "cell_type": "code",
   "execution_count": 11,
   "id": "d3fdca12-3a59-4006-b575-27be65eb0c17",
   "metadata": {},
   "outputs": [
    {
     "name": "stdout",
     "output_type": "stream",
     "text": [
      "0 = 0\n",
      "1 = 2\n",
      "2 = 4\n",
      "3 = 6\n",
      "4 = 8\n",
      "5 = 10\n",
      "6 = 12\n",
      "7 = 14\n",
      "8 = 16\n",
      "9 = 18\n",
      "10 = 20\n",
      "11 = 22\n",
      "12 = 24\n",
      "13 = 26\n",
      "14 = 28\n",
      "15 = 30\n",
      "16 = 32\n",
      "17 = 34\n",
      "18 = 36\n",
      "19 = 38\n",
      "20 = 40\n",
      "21 = 42\n",
      "22 = 44\n",
      "23 = 46\n",
      "24 = 48\n",
      "25 = 50\n",
      "26 = 52\n",
      "27 = 54\n",
      "28 = 56\n",
      "29 = 58\n",
      "30 = 60\n",
      "31 = 62\n",
      "32 = 64\n",
      "33 = 66\n",
      "34 = 68\n",
      "35 = 70\n",
      "36 = 72\n",
      "37 = 74\n",
      "38 = 76\n",
      "39 = 78\n",
      "40 = 80\n",
      "41 = 82\n",
      "42 = 84\n",
      "43 = 86\n",
      "44 = 88\n",
      "45 = 90\n",
      "46 = 92\n",
      "47 = 94\n",
      "48 = 96\n",
      "49 = 98\n",
      "50 = 100\n",
      "51 = 102\n",
      "52 = 104\n",
      "53 = 106\n",
      "54 = 108\n",
      "55 = 110\n",
      "56 = 112\n",
      "57 = 114\n",
      "58 = 116\n",
      "59 = 118\n",
      "60 = 120\n",
      "61 = 122\n",
      "62 = 124\n",
      "63 = 126\n",
      "64 = 128\n",
      "65 = 130\n",
      "66 = 132\n",
      "67 = 134\n",
      "68 = 136\n",
      "69 = 138\n",
      "70 = 140\n",
      "71 = 142\n",
      "72 = 144\n",
      "73 = 146\n",
      "74 = 148\n",
      "75 = 150\n",
      "76 = 152\n",
      "77 = 154\n",
      "78 = 156\n",
      "79 = 158\n",
      "80 = 160\n",
      "81 = 162\n",
      "82 = 164\n",
      "83 = 166\n",
      "84 = 168\n",
      "85 = 170\n",
      "86 = 172\n",
      "87 = 174\n",
      "88 = 176\n",
      "89 = 178\n",
      "90 = 180\n",
      "91 = 182\n",
      "92 = 184\n",
      "93 = 186\n",
      "94 = 188\n",
      "95 = 190\n",
      "96 = 192\n",
      "97 = 194\n",
      "98 = 196\n",
      "99 = 198\n"
     ]
    }
   ],
   "source": [
    "# 错误示例\n",
    "adict = {i: i*2 for i in range(100)}\n",
    "\n",
    "for key in adict.keys():\n",
    "    print(\"{0} = {1}\".format(key, adict[key]))"
   ]
  },
  {
   "cell_type": "markdown",
   "id": "8aecd75d-48c0-4dc5-a65c-7f8c1fa3ea84",
   "metadata": {},
   "source": [
    "keys()方法会在遍历前生成一个临时的列表，导致上面的代码消耗大量内存并且运行缓慢。正确的方式，是使用默认的iterator。默认的iterator不会分配新内存，也不会造成上面的性能问题："
   ]
  },
  {
   "cell_type": "code",
   "execution_count": null,
   "id": "6d907fc1-2917-4759-8e38-6bc4a8e5b696",
   "metadata": {},
   "outputs": [],
   "source": [
    "# 正确示例\n",
    "for key in adict:"
   ]
  }
 ],
 "metadata": {
  "kernelspec": {
   "display_name": "Python 3 (ipykernel)",
   "language": "python",
   "name": "python3"
  },
  "language_info": {
   "codemirror_mode": {
    "name": "ipython",
    "version": 3
   },
   "file_extension": ".py",
   "mimetype": "text/x-python",
   "name": "python",
   "nbconvert_exporter": "python",
   "pygments_lexer": "ipython3",
   "version": "3.9.0"
  }
 },
 "nbformat": 4,
 "nbformat_minor": 5
}
