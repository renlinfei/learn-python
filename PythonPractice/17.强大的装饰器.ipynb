{
 "cells": [
  {
   "cell_type": "markdown",
   "id": "e5bb669f-9af5-403a-b25b-3c85cb31e9cf",
   "metadata": {},
   "source": [
    "**函数核心回顾**\n",
    "\n",
    "第一点，在Python中，函数是一等公民（first-class-citizen），函数也是对象。我们可以把函数赋予变量。\n",
    "\n",
    "第二点，我们可以把函数当作参数，传入另一个函数中。\n",
    "\n",
    "第三点，我们可以在函数定义函数，也就是函数的嵌套。\n",
    "\n",
    "第四点，函数的返回值也可以是函数对象（闭包）。\n",
    "\n",
    "***简单的装饰器***"
   ]
  },
  {
   "cell_type": "code",
   "execution_count": 2,
   "id": "896a6cf3-b9cf-43e5-b573-ba54c419bd7d",
   "metadata": {},
   "outputs": [
    {
     "name": "stdout",
     "output_type": "stream",
     "text": [
      "wrapper of decorator\n",
      "hello world\n"
     ]
    }
   ],
   "source": [
    "def my_decorator(func):\n",
    "    def wrapper():\n",
    "        print('wrapper of decorator')\n",
    "        func()\n",
    "    return wrapper\n",
    "\n",
    "def greet():\n",
    "    print('hello world')\n",
    "\n",
    "greet = my_decorator(greet)\n",
    "greet()"
   ]
  },
  {
   "cell_type": "markdown",
   "id": "e5f6bd9a-250f-4f66-9e5f-e7353541a291",
   "metadata": {},
   "source": [
    "这里的函数my_decorator()就是一个装饰器，它把真正需要执行的函数greet()包裹在其中，并且改变了它的行为，但是原函数greet()不变。\n",
    "\n",
    "事实上，上述代码在Python中有更简单、优雅的表示："
   ]
  },
  {
   "cell_type": "code",
   "execution_count": 4,
   "id": "74e03e87-dc5b-417b-a77e-8cb963014e94",
   "metadata": {},
   "outputs": [
    {
     "name": "stdout",
     "output_type": "stream",
     "text": [
      "wrapper of decorator\n",
      "hello world\n"
     ]
    }
   ],
   "source": [
    "def my_decorator(func):\n",
    "    def wrapper():\n",
    "        print('wrapper of decorator')\n",
    "        func()\n",
    "    return wrapper\n",
    "\n",
    "@my_decorator\n",
    "def greet():\n",
    "    print('hello world')\n",
    "    \n",
    "greet()"
   ]
  },
  {
   "cell_type": "markdown",
   "id": "65e5176e-da7c-4f5e-9795-b011070a3191",
   "metadata": {},
   "source": [
    "**带有参数的装饰器**"
   ]
  },
  {
   "cell_type": "code",
   "execution_count": 5,
   "id": "f8c25f6d-d4ce-4c84-9d5d-0001103a9fab",
   "metadata": {},
   "outputs": [
    {
     "name": "stdout",
     "output_type": "stream",
     "text": [
      "wraper of decorator\n",
      "hello hello\n"
     ]
    }
   ],
   "source": [
    "def my_decorator(func):\n",
    "    def wrapper(message):\n",
    "        print('wraper of decorator')\n",
    "        func(message)\n",
    "    return wrapper\n",
    "\n",
    "@my_decorator\n",
    "def greet(message):\n",
    "    print(message)\n",
    "\n",
    "greet('hello hello')"
   ]
  },
  {
   "cell_type": "code",
   "execution_count": 6,
   "id": "6434e59d-394e-4c7c-a16b-a1d0c8e4ef07",
   "metadata": {},
   "outputs": [
    {
     "name": "stdout",
     "output_type": "stream",
     "text": [
      "wrapper of decorator\n",
      "chris: hello\n"
     ]
    }
   ],
   "source": [
    "def my_decorator(func):\n",
    "    def wrapper(*args, **kwargs):\n",
    "        print('wrapper of decorator')\n",
    "        func(*args, **kwargs)\n",
    "    return wrapper\n",
    "\n",
    "@my_decorator\n",
    "def greet(name, message):\n",
    "    print('{}: {}'.format(name, message))\n",
    "\n",
    "greet('chris', 'hello')"
   ]
  },
  {
   "cell_type": "markdown",
   "id": "9d65bc10-7cbc-47a5-867e-1c4d9295c8f0",
   "metadata": {},
   "source": [
    "**带有自定义参数的装饰器**"
   ]
  },
  {
   "cell_type": "code",
   "execution_count": 9,
   "id": "10dce4d2-e6fa-4a23-b890-10a7bebb7f28",
   "metadata": {},
   "outputs": [
    {
     "name": "stdout",
     "output_type": "stream",
     "text": [
      "wrapper of decorator\n",
      "hello\n",
      "wrapper of decorator\n",
      "hello\n",
      "wrapper of decorator\n",
      "hello\n",
      "wrapper of decorator\n",
      "hello\n"
     ]
    }
   ],
   "source": [
    "def repeat(num):\n",
    "    def my_decorator(func):\n",
    "        def wrapper(*args, **kwargs):\n",
    "            for i in range(num):\n",
    "                print('wrapper of decorator')\n",
    "                func(*args, **kwargs)\n",
    "        return wrapper\n",
    "    return my_decorator\n",
    "\n",
    "@repeat(4)\n",
    "def greet(message):\n",
    "    print(message)\n",
    "\n",
    "greet('hello')"
   ]
  },
  {
   "cell_type": "code",
   "execution_count": 10,
   "id": "4d631efa-d5f8-40aa-88eb-2f33e84f947f",
   "metadata": {},
   "outputs": [
    {
     "data": {
      "text/plain": [
       "'wrapper'"
      ]
     },
     "execution_count": 10,
     "metadata": {},
     "output_type": "execute_result"
    }
   ],
   "source": [
    "greet.__name__"
   ]
  },
  {
   "cell_type": "code",
   "execution_count": 11,
   "id": "b4b99311-63ca-4a4d-aace-8537645072a2",
   "metadata": {},
   "outputs": [
    {
     "name": "stdout",
     "output_type": "stream",
     "text": [
      "Help on function wrapper in module __main__:\n",
      "\n",
      "wrapper(*args, **kwargs)\n",
      "\n"
     ]
    }
   ],
   "source": [
    "help(greet)"
   ]
  },
  {
   "cell_type": "code",
   "execution_count": 13,
   "id": "8296d8da-ece5-42dd-b0fe-e57041ddf65d",
   "metadata": {},
   "outputs": [
    {
     "data": {
      "text/plain": [
       "'greet'"
      ]
     },
     "execution_count": 13,
     "metadata": {},
     "output_type": "execute_result"
    }
   ],
   "source": [
    "import functools\n",
    "\n",
    "def my_decorator(func):\n",
    "    @functools.wraps(func)\n",
    "    def wrapper(*args, **kwargs):\n",
    "        print('wrapper of decorator')\n",
    "        func(*args, **kwargs)\n",
    "    return wrapper\n",
    "\n",
    "@my_decorator\n",
    "def greet(message):\n",
    "    print(message)\n",
    "\n",
    "greet.__name__"
   ]
  },
  {
   "cell_type": "markdown",
   "id": "55123a92-e8d6-4cd8-8c85-4ea74f9e64a0",
   "metadata": {},
   "source": [
    "**类装饰器**"
   ]
  },
  {
   "cell_type": "code",
   "execution_count": 15,
   "id": "eb9c936a-7998-489f-bf53-f140378c5fa9",
   "metadata": {},
   "outputs": [
    {
     "name": "stdout",
     "output_type": "stream",
     "text": [
      "num of calls is: 1\n",
      "hello world\n"
     ]
    }
   ],
   "source": [
    "class Count:\n",
    "    def __init__(self, func):\n",
    "        self.func = func\n",
    "        self.num_calls = 0\n",
    "    def __call__(self, *args, **kwargs):\n",
    "        self.num_calls += 1\n",
    "        print('num of calls is: {}'.format(self.num_calls))\n",
    "        return self.func(*args, **kwargs)\n",
    "\n",
    "@Count\n",
    "def example():\n",
    "    print(\"hello world\")\n",
    "\n",
    "example()"
   ]
  },
  {
   "cell_type": "code",
   "execution_count": 16,
   "id": "7f767622-64c2-4489-a1df-3539e97d164c",
   "metadata": {},
   "outputs": [
    {
     "name": "stdout",
     "output_type": "stream",
     "text": [
      "num of calls is: 2\n",
      "hello world\n"
     ]
    }
   ],
   "source": [
    "example()"
   ]
  },
  {
   "cell_type": "markdown",
   "id": "6306f844-f9b7-45bd-ae7e-2a34a88218c2",
   "metadata": {},
   "source": [
    "**装饰器的嵌套**"
   ]
  },
  {
   "cell_type": "code",
   "execution_count": 18,
   "id": "240b5edf-5a40-4a6e-8d9b-7a13126e12c3",
   "metadata": {},
   "outputs": [
    {
     "name": "stdout",
     "output_type": "stream",
     "text": [
      "execute decorator1\n",
      "execute decorator2\n",
      "hello world\n"
     ]
    }
   ],
   "source": [
    "import functools\n",
    "\n",
    "def my_decorator1(func):\n",
    "    @functools.wraps(func)\n",
    "    def wrapper(*args, **kwargs):\n",
    "        print('execute decorator1')\n",
    "        func(*args, **kwargs)\n",
    "    return wrapper\n",
    "\n",
    "def my_decorator2(func):\n",
    "    @functools.wraps(func)\n",
    "    def wrapper(*args, **kwargs):\n",
    "        print('execute decorator2')\n",
    "        func(*args, **kwargs)\n",
    "    return wrapper\n",
    "\n",
    "@my_decorator1\n",
    "@my_decorator2\n",
    "def greet(message):\n",
    "    print(message)\n",
    "\n",
    "greet('hello world')"
   ]
  },
  {
   "cell_type": "code",
   "execution_count": null,
   "id": "0b9c9ad7-e7c0-4164-9cf4-dd0d3a0a5e5a",
   "metadata": {},
   "outputs": [],
   "source": []
  }
 ],
 "metadata": {
  "kernelspec": {
   "display_name": "Python 3 (ipykernel)",
   "language": "python",
   "name": "python3"
  },
  "language_info": {
   "codemirror_mode": {
    "name": "ipython",
    "version": 3
   },
   "file_extension": ".py",
   "mimetype": "text/x-python",
   "name": "python",
   "nbconvert_exporter": "python",
   "pygments_lexer": "ipython3",
   "version": "3.9.0"
  }
 },
 "nbformat": 4,
 "nbformat_minor": 5
}
