{
 "cells": [
  {
   "cell_type": "code",
   "execution_count": 1,
   "id": "7978a5de-b917-4b61-b5f3-0a71bd6ff5be",
   "metadata": {},
   "outputs": [
    {
     "name": "stdout",
     "output_type": "stream",
     "text": [
      "CPU times: user 7.24 s, sys: 46.4 ms, total: 7.28 s\n",
      "Wall time: 7.53 s\n"
     ]
    }
   ],
   "source": [
    "def CountDown(n):\n",
    "    while n > 0:\n",
    "        n -= 1\n",
    "\n",
    "%time CountDown(100000000)"
   ]
  },
  {
   "cell_type": "code",
   "execution_count": 3,
   "id": "23eed106-5787-41d5-a9d0-60f51f6e72ae",
   "metadata": {},
   "outputs": [
    {
     "name": "stdout",
     "output_type": "stream",
     "text": [
      "CPU times: user 6.84 s, sys: 86.8 ms, total: 6.92 s\n",
      "Wall time: 6.92 s\n"
     ]
    }
   ],
   "source": [
    "from threading import Thread\n",
    "\n",
    "def multi_thread_process():\n",
    "    n = 100000000\n",
    "\n",
    "    t1 = Thread(target=CountDown, args=[n // 4])\n",
    "    t2 = Thread(target=CountDown, args=[n // 4])\n",
    "    t3 = Thread(target=CountDown, args=[n // 4])\n",
    "    t4 = Thread(target=CountDown, args=[n // 4])\n",
    "    t1.start()\n",
    "    t2.start()\n",
    "    t3.start()\n",
    "    t4.start()\n",
    "    t1.join()\n",
    "    t2.join()\n",
    "    t3.join()\n",
    "    t4.join()\n",
    "\n",
    "%time multi_thread_process()"
   ]
  },
  {
   "cell_type": "code",
   "execution_count": 4,
   "id": "da988c23-0d65-4848-9265-9ce60395a9e2",
   "metadata": {},
   "outputs": [
    {
     "data": {
      "text/plain": [
       "3"
      ]
     },
     "execution_count": 4,
     "metadata": {},
     "output_type": "execute_result"
    }
   ],
   "source": [
    "import sys\n",
    "\n",
    "a = []\n",
    "b = a\n",
    "sys.getrefcount(a)"
   ]
  },
  {
   "cell_type": "markdown",
   "id": "1082ec9e-0800-4f59-8d08-e1190154c4c8",
   "metadata": {},
   "source": [
    "CPython引进GIL其实主要是这么两个原因：\n",
    "\n",
    "* 一是设计者为了规避类似于内存管理这样的复杂的竞争风险问题（race condition）；\n",
    "* 二是因为CPython大量使用C语言库，但大部分C语言库都不是原生线程安全的（线程安全会降低性\n",
    "能和增加复杂度）"
   ]
  },
  {
   "cell_type": "markdown",
   "id": "de1ac3e9-6a46-45a7-9744-a71067caef6b",
   "metadata": {},
   "source": [
    "**Python 的线程安全**"
   ]
  },
  {
   "cell_type": "code",
   "execution_count": 9,
   "id": "ef49174e-4030-46cb-91e0-ec19923e5822",
   "metadata": {},
   "outputs": [
    {
     "name": "stdout",
     "output_type": "stream",
     "text": [
      "100\n"
     ]
    }
   ],
   "source": [
    "import threading\n",
    "\n",
    "n = 0\n",
    "\n",
    "def foo():\n",
    "    global n\n",
    "    n += 1\n",
    "\n",
    "threads = []\n",
    "\n",
    "for i in range(100):\n",
    "    t = threading.Thread(target=foo)\n",
    "    threads.append(t)\n",
    "\n",
    "for thread in threads:\n",
    "    thread.start()\n",
    "\n",
    "for t in threads:\n",
    "    t.join()\n",
    "\n",
    "print(n)"
   ]
  },
  {
   "cell_type": "markdown",
   "id": "c918fceb-9cec-4497-be1f-db519f6e1bf2",
   "metadata": {},
   "source": [
    "所以，千万别想着，有了GIL你的程序就可以高枕无忧了，我们仍需要去注意线程安全。正如我开头所说，**GIL的设计，主要是为了方便CPython解释器层面的编写者，而不是Python应用层面的程序员。**作为Python的使用者，我们还是需要lock等工具，用来确保线程安全；"
   ]
  },
  {
   "cell_type": "code",
   "execution_count": 10,
   "id": "f6c1ee6c-4d8d-4b71-918e-fc819bb5fdfc",
   "metadata": {},
   "outputs": [],
   "source": [
    "import threading\n",
    "\n",
    "n = 0\n",
    "lock = threading.Lock()\n",
    "\n",
    "def foo():\n",
    "    global n\n",
    "    with lock:\n",
    "        n += 1"
   ]
  },
  {
   "cell_type": "markdown",
   "id": "0bb07366-e5ce-4f77-982d-fe88d2fd0f46",
   "metadata": {},
   "source": [
    "**如何绕过GIL**\n",
    "\n",
    "总的来说，你只需要重点记住，绕过GIL的大致思路有这么两种就够了：\n",
    "\n",
    "1. 绕过CPython，使用JPython（Java实现的Python解释器）等别的实现；\n",
    "2. 把关键性能代码，放到逼得语言（一般是C++）中实现。"
   ]
  },
  {
   "cell_type": "code",
   "execution_count": null,
   "id": "527d17f3-ffb7-48c0-a10c-07ef6ac1af12",
   "metadata": {},
   "outputs": [],
   "source": []
  }
 ],
 "metadata": {
  "kernelspec": {
   "display_name": "Python 3 (ipykernel)",
   "language": "python",
   "name": "python3"
  },
  "language_info": {
   "codemirror_mode": {
    "name": "ipython",
    "version": 3
   },
   "file_extension": ".py",
   "mimetype": "text/x-python",
   "name": "python",
   "nbconvert_exporter": "python",
   "pygments_lexer": "ipython3",
   "version": "3.9.0"
  }
 },
 "nbformat": 4,
 "nbformat_minor": 5
}
