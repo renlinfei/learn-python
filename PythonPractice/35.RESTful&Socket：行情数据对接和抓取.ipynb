{
 "cells": [
  {
   "cell_type": "markdown",
   "id": "46165140-c6d9-444c-a3ad-fc1e64c1910d",
   "metadata": {},
   "source": [
    "**WebSocket介绍**"
   ]
  },
  {
   "cell_type": "code",
   "execution_count": 4,
   "id": "20524ed6-c90f-4923-b5e6-f20d0a0933dc",
   "metadata": {},
   "outputs": [],
   "source": [
    "import websocket\n",
    "import _thread\n",
    "\n",
    "# 在接收到服务器发送消息时调用\n",
    "def on_message(ws, message):\n",
    "    print(f'Received: {message}')\n",
    "\n",
    "# 在和服务器建立完成连接时调用\n",
    "def on_open(ws):\n",
    "    # 线程运行函数\n",
    "    def gao():\n",
    "        # 往服务器依次发送0-4，每次发送完休息0.01秒\n",
    "        for i in range(5):\n",
    "            time.sleep(0.01)\n",
    "            msg = \"{0}\".format(i)\n",
    "            ws.send(msg)\n",
    "            print('Sent: ' + msg)\n",
    "        # 休息1秒用于接收服务器回复的消息\n",
    "        time.sleep(1)\n",
    "        \n",
    "        # 关闭Websocket的连接\n",
    "        ws.close()\n",
    "        print(\"Webscoket closed\")\n",
    "        \n",
    "    # 在另一个线程运行gao()函数\n",
    "    _thread.start_new_thread(gao, ())\n",
    "\n",
    "if __name__ == '__main__':\n",
    "    ws = websocket.WebSocketApp(\"ws://echo.websocket.org/\",\n",
    "                               on_message = on_message,\n",
    "                               on_open = on_open)\n",
    "    ws.run_forever()"
   ]
  },
  {
   "cell_type": "code",
   "execution_count": null,
   "id": "af2bb085-bd7f-496c-b4f8-048ee7c8d65f",
   "metadata": {},
   "outputs": [],
   "source": []
  }
 ],
 "metadata": {
  "kernelspec": {
   "display_name": "Python 3 (ipykernel)",
   "language": "python",
   "name": "python3"
  },
  "language_info": {
   "codemirror_mode": {
    "name": "ipython",
    "version": 3
   },
   "file_extension": ".py",
   "mimetype": "text/x-python",
   "name": "python",
   "nbconvert_exporter": "python",
   "pygments_lexer": "ipython3",
   "version": "3.9.0"
  }
 },
 "nbformat": 4,
 "nbformat_minor": 5
}
