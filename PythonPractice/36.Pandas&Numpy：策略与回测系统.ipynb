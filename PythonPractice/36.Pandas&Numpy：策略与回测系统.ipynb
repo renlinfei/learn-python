{
 "cells": [
  {
   "cell_type": "markdown",
   "id": "5d58aceb-b826-47e4-91c3-253440de0f4a",
   "metadata": {},
   "source": [
    "**OHLCV数据**\n",
    "* Open：开盘价\n",
    "* High：最高价\n",
    "* Low：最低价\n",
    "* Close：收盘价\n",
    "* Volum：成交量"
   ]
  },
  {
   "cell_type": "code",
   "execution_count": 6,
   "id": "c0b05f3d-8fab-4424-8f1f-6b4ed99b30b2",
   "metadata": {},
   "outputs": [
    {
     "name": "stdout",
     "output_type": "stream",
     "text": [
      "                     Symbol      Open      High       Low     Close     Volume\n",
      "Date                                                                          \n",
      "2019-07-08 00:00:00  BTCUSD  11475.07  11540.33  11469.53  11506.43  10.770731\n",
      "2019-07-07 23:00:00  BTCUSD  11423.00  11482.72  11423.00  11475.07  32.996559\n",
      "2019-07-07 22:00:00  BTCUSD  11526.25  11572.74  11333.59  11423.00  48.937730\n",
      "2019-07-07 21:00:00  BTCUSD  11515.80  11562.65  11478.20  11526.25  25.323908\n",
      "2019-07-07 20:00:00  BTCUSD  11547.98  11624.88  11423.94  11515.80  63.211972\n"
     ]
    }
   ],
   "source": [
    "import pandas as pd\n",
    "import os\n",
    "\n",
    "def assert_msg(condition, msg):\n",
    "    if not condition:\n",
    "        raise Exception(msg)\n",
    "\n",
    "def read_file(filename):\n",
    "    # 获得文件绝对路径\n",
    "    filepath = os.path.join(os.path.dirname(filename), filename)\n",
    "    \n",
    "    # 判定文件是否存在\n",
    "    assert_msg(os.path.exists(filename), \"文件不存在\")\n",
    "    \n",
    "    # 读取CSV文件并返回\n",
    "    return pd.read_csv(filepath,\n",
    "                      index_col = 0,\n",
    "                      parse_dates = True,\n",
    "                      infer_datetime_format = True)\n",
    "\n",
    "BTCUSD = read_file('BTCUSD_GEMINI.csv')\n",
    "assert_msg(BTCUSD.__len__() > 0, '读取失败')\n",
    "print(BTCUSD.head())"
   ]
  },
  {
   "cell_type": "markdown",
   "id": "7b5d67e1-71fc-4b92-aea5-2b8849c22d00",
   "metadata": {},
   "source": [
    "**回测框架**\n",
    "\n",
    "1. 读取OHLC数据；\n",
    "2. 对OHLC进行指标运算；\n",
    "3. 策略根据指标向量决定买卖；\n",
    "4. 发给模拟的“交易所”进行交易；\n",
    "5. 最后，统计结果。"
   ]
  },
  {
   "cell_type": "code",
   "execution_count": null,
   "id": "6054835b-160c-498d-827b-353222fc80aa",
   "metadata": {},
   "outputs": [],
   "source": []
  }
 ],
 "metadata": {
  "kernelspec": {
   "display_name": "Python 3 (ipykernel)",
   "language": "python",
   "name": "python3"
  },
  "language_info": {
   "codemirror_mode": {
    "name": "ipython",
    "version": 3
   },
   "file_extension": ".py",
   "mimetype": "text/x-python",
   "name": "python",
   "nbconvert_exporter": "python",
   "pygments_lexer": "ipython3",
   "version": "3.9.0"
  }
 },
 "nbformat": 4,
 "nbformat_minor": 5
}
