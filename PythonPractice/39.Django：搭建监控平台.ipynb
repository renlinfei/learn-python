{
 "cells": [
  {
   "cell_type": "markdown",
   "id": "97744319-7448-4f56-8050-1d37fd909dcf",
   "metadata": {},
   "source": [
    "**Django简介和安装**\n",
    "\n",
    "Django是用Python开发的一个免费开源的Web框架，可以用来快速搭建优雅的高性能网站。它采用的是“MVC”的框架模式，即模型M、视图V和控制器C。"
   ]
  },
  {
   "cell_type": "code",
   "execution_count": null,
   "id": "e9d48d14-ebab-4e49-8928-c36f57d94a78",
   "metadata": {},
   "outputs": [],
   "source": []
  }
 ],
 "metadata": {
  "kernelspec": {
   "display_name": "Python 3 (ipykernel)",
   "language": "python",
   "name": "python3"
  },
  "language_info": {
   "codemirror_mode": {
    "name": "ipython",
    "version": 3
   },
   "file_extension": ".py",
   "mimetype": "text/x-python",
   "name": "python",
   "nbconvert_exporter": "python",
   "pygments_lexer": "ipython3",
   "version": "3.9.0"
  }
 },
 "nbformat": 4,
 "nbformat_minor": 5
}
