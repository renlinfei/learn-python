{
 "cells": [
  {
   "cell_type": "markdown",
   "id": "3598e410-fc58-48e3-96a1-6fea4e8dfcb5",
   "metadata": {},
   "source": [
    "**你肯定用过的容器、可迭代对象和迭代器**"
   ]
  },
  {
   "cell_type": "code",
   "execution_count": 1,
   "id": "9026fe41-c98f-4472-970a-da79c32096b3",
   "metadata": {},
   "outputs": [
    {
     "name": "stdout",
     "output_type": "stream",
     "text": [
      "1234 is iterable? False\n",
      "1234 is iterable? True\n",
      "[1, 2, 3, 4] is iterable? True\n",
      "{1, 2, 3, 4} is iterable? True\n",
      "{1: 1, 2: 2, 3: 3, 4: 4} is iterable? True\n",
      "(1, 2, 3, 4) is iterable? True\n"
     ]
    }
   ],
   "source": [
    "def is_iterable(param):\n",
    "    try:\n",
    "        iter(param)\n",
    "        return True\n",
    "    except TypeError:\n",
    "        return False\n",
    "\n",
    "params = [\n",
    "    1234,\n",
    "    '1234',\n",
    "    [1, 2, 3, 4],\n",
    "    set([1, 2, 3, 4]),\n",
    "    {1: 1, 2: 2, 3: 3, 4: 4},\n",
    "    (1, 2, 3, 4)\n",
    "]\n",
    "\n",
    "for param in params:\n",
    "    print('{} is iterable? {}'.format(param, is_iterable(param)))"
   ]
  },
  {
   "cell_type": "markdown",
   "id": "6ca4a73d-8e28-4396-8a9c-eede2fe2e61e",
   "metadata": {},
   "source": [
    "**生成器，又是什么？**\n",
    "\n",
    "这里，你只需要记着一点：**生成器是懒人版本的迭代器**。"
   ]
  },
  {
   "cell_type": "markdown",
   "id": "f33a09b6-5ae6-4d34-8600-6f1872d6e279",
   "metadata": {},
   "source": [
    "于是，生成器的概念运用而生，在你调用next()函数的时候，才会生成下一个变量。生成器在Python的写法是用小括号括起来，（i for i in range(100000000)），即初始化了一个生成器。\n",
    "\n",
    "**生成器，还能玩什么花样？**\n"
   ]
  },
  {
   "cell_type": "code",
   "execution_count": 3,
   "id": "a459fcde-aefd-46f0-a602-5e1adcd535cf",
   "metadata": {},
   "outputs": [
    {
     "name": "stdout",
     "output_type": "stream",
     "text": [
      "<generator object generator at 0x7fcd6d1205f0>\n",
      "<generator object generator at 0x7fcd6d120a50>\n",
      "next_1 = 1, next_3 = 1\n",
      "next_1 = 2, next_3 = 8\n",
      "next_1 = 3, next_3 = 27\n",
      "next_1 = 4, next_3 = 64\n",
      "next_1 = 5, next_3 = 125\n",
      "next_1 = 6, next_3 = 216\n",
      "next_1 = 7, next_3 = 343\n",
      "next_1 = 8, next_3 = 512\n",
      "1296 1296\n"
     ]
    }
   ],
   "source": [
    "def generator(k):\n",
    "    i = 1\n",
    "    while True:\n",
    "        yield i ** k\n",
    "        i += 1\n",
    "gen_1 = generator(1)\n",
    "gen_3 = generator(3)\n",
    "\n",
    "print(gen_1)\n",
    "print(gen_3)\n",
    "\n",
    "def get_sum(n):\n",
    "    sum_1, sum_3 = 0, 0\n",
    "    for i in range(n):\n",
    "        next_1 = next(gen_1)\n",
    "        next_3 = next(gen_3)\n",
    "        print('next_1 = {}, next_3 = {}'.format(next_1, next_3))\n",
    "        sum_1 += next_1\n",
    "        sum_3 += next_3\n",
    "    print(sum_1 * sum_1, sum_3)\n",
    "\n",
    "get_sum(8)"
   ]
  },
  {
   "cell_type": "markdown",
   "id": "7be7f315-70c5-4e99-b82d-bc95d1a7cacd",
   "metadata": {},
   "source": [
    "聪明的你应该注意到了，这个生成器居然可以一直运行下去！没错，事实上，迭代器是一个有限集合，生成器则可以成为一个无限集合。我只管调用next（），生成器根据运算会自动生成新的元素，然后返回给你，非常便捷。\n"
   ]
  },
  {
   "cell_type": "code",
   "execution_count": 5,
   "id": "84ac3e39-7798-410e-8577-49ecc87d5a5d",
   "metadata": {},
   "outputs": [
    {
     "name": "stdout",
     "output_type": "stream",
     "text": [
      "[2, 4, 8]\n"
     ]
    }
   ],
   "source": [
    "def index_normal(L, target):\n",
    "    result = []\n",
    "    for i, num in enumerate(L):\n",
    "        if num == target:\n",
    "            result.append(i)\n",
    "    return result\n",
    "\n",
    "print(index_normal([1, 6, 2, 5, 2, 8, 6, 3, 2], 2))"
   ]
  },
  {
   "cell_type": "code",
   "execution_count": 6,
   "id": "4ccbc632-8924-4eb6-b849-2ca23d1183c4",
   "metadata": {},
   "outputs": [
    {
     "name": "stdout",
     "output_type": "stream",
     "text": [
      "True\n",
      "False\n"
     ]
    }
   ],
   "source": [
    "def is_subsequence(a, b):\n",
    "    b = iter(b)\n",
    "    return all(i in b for i in a)\n",
    "\n",
    "print(is_subsequence([1, 3, 5], [1, 2, 3, 4, 5]))\n",
    "print(is_subsequence([1, 4, 3], [1, 2, 3, 4, 5]))"
   ]
  },
  {
   "cell_type": "code",
   "execution_count": 8,
   "id": "1618e484-7aa5-4dee-afb5-518b9255c58c",
   "metadata": {},
   "outputs": [
    {
     "name": "stdout",
     "output_type": "stream",
     "text": [
      "<list_iterator object at 0x7fcd6e233c40>\n",
      "<generator object is_subsequence.<locals>.<genexpr> at 0x7fcd6d117200>\n",
      "1\n",
      "3\n",
      "5\n",
      "<generator object is_subsequence.<locals>.<genexpr> at 0x7fcd6d11ae40>\n",
      "True\n",
      "True\n",
      "True\n",
      "False\n",
      "<list_iterator object at 0x7fcd6e0f60a0>\n",
      "<generator object is_subsequence.<locals>.<genexpr> at 0x7fcd6d11ae40>\n",
      "1\n",
      "4\n",
      "3\n",
      "<generator object is_subsequence.<locals>.<genexpr> at 0x7fcd6d117200>\n",
      "True\n",
      "True\n",
      "False\n",
      "False\n"
     ]
    }
   ],
   "source": [
    "def is_subsequence(a, b):\n",
    "    b = iter(b)\n",
    "    print(b)\n",
    "    \n",
    "    gen = (i for i in a)\n",
    "    print(gen)\n",
    "    \n",
    "    for i in gen:\n",
    "        print(i)\n",
    "    \n",
    "    gen = ((i in b) for i in a)\n",
    "    print(gen)\n",
    "    \n",
    "    for i in gen:\n",
    "        print(i)\n",
    "    \n",
    "    return all((i in b) for i in a)\n",
    "print(is_subsequence([1, 3, 5], [1, 2, 3, 4, 5]))\n",
    "print(is_subsequence([1, 4, 3], [1, 2, 3, 4, 5]))"
   ]
  },
  {
   "cell_type": "code",
   "execution_count": null,
   "id": "0cc57e02-4bfe-491d-bbf6-c01dc82a84ca",
   "metadata": {},
   "outputs": [],
   "source": [
    "while True:\n",
    "    val = next(b)\n",
    "    if val == i:\n",
    "        yield True"
   ]
  }
 ],
 "metadata": {
  "kernelspec": {
   "display_name": "Python 3 (ipykernel)",
   "language": "python",
   "name": "python3"
  },
  "language_info": {
   "codemirror_mode": {
    "name": "ipython",
    "version": 3
   },
   "file_extension": ".py",
   "mimetype": "text/x-python",
   "name": "python",
   "nbconvert_exporter": "python",
   "pygments_lexer": "ipython3",
   "version": "3.9.0"
  }
 },
 "nbformat": 4,
 "nbformat_minor": 5
}
