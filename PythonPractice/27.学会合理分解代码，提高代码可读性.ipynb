{
 "cells": [
  {
   "cell_type": "markdown",
   "id": "d78bfa18-e4a6-4b34-881d-2ce814ebb5ba",
   "metadata": {},
   "source": [
    "**PEP8规范**\n",
    "\n",
    "Python Enhancement Proposal \n",
    "\n",
    "**缩进规范**\n",
    "* 请选择四个空格的缩进，不要使用Tab，更不要Tab和空格混着用\n",
    "* 每行最大长度请限制在79个字符\n",
    "\n",
    "**空行规范**\n",
    "* 全局的类和函数的上方需要空两个空行，而类的函数之前要空一个空行。\n",
    "\n",
    "**空格规范**\n",
    "* 函数的参数列表中，调用函数的参数列表中会出现逗号，请注意逗号后面跟一个空格，这是英语的使用习惯，也能让每个参数独立阅读，更清晰。\n",
    "* 冒号经常被用来初始化字段，冒号后面也要跟一个空格。\n",
    "* #后面、注释前加一个空格。\n",
    "* 对于操作符，例如+，-，*，/，&，|，=，==，！=，请在两边都保留空格。不过与此同时对应，括号内的两端并不需要空格。\n",
    "\n",
    "**换行规范**\n",
    "* 第一种通过括号将过长的运算进行封装，此时虽然跨行，但是仍处于一个逻辑引用之中；\n",
    "* 通过换行符；\n",
    "\n",
    "**文档规范**\n",
    "\n",
    "**注释规范**\n",
    "\n",
    "**文档描述**\n",
    "\n",
    "**命名规范**\n",
    "* 一般来说，变量使用小写，通过下划线串联起来\n",
    "* 唯一可以使用单字符的地方是迭代，比如for i in range(n)\n",
    "* 如果是私有变量，记得前面增加两个下划线\n",
    "* 对于常量，全部大写，通过下划线连接\n",
    "* 函数名，同样也请使用小写的方式，通过下划线连接起来\n",
    "* 对于类名，应该首字母大写，然后合并起来\n",
    "\n",
    "**代码分解技巧**\n",
    "* 不写重复代码。重复代码大概率可以通过使用条件、循环、构造函数和类来解决\n",
    "* 减少代码层数，尽可能让Python代码扁平化\n"
   ]
  },
  {
   "cell_type": "code",
   "execution_count": null,
   "id": "9f57413d-bc8f-48c8-8f0d-8381a084b7fe",
   "metadata": {},
   "outputs": [],
   "source": []
  }
 ],
 "metadata": {
  "kernelspec": {
   "display_name": "Python 3 (ipykernel)",
   "language": "python",
   "name": "python3"
  },
  "language_info": {
   "codemirror_mode": {
    "name": "ipython",
    "version": 3
   },
   "file_extension": ".py",
   "mimetype": "text/x-python",
   "name": "python",
   "nbconvert_exporter": "python",
   "pygments_lexer": "ipython3",
   "version": "3.9.0"
  }
 },
 "nbformat": 4,
 "nbformat_minor": 5
}
