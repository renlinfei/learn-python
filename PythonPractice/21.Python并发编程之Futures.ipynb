{
 "cells": [
  {
   "cell_type": "markdown",
   "id": "8ed33ac2-a8c2-42a5-9dc6-98993cb84037",
   "metadata": {},
   "source": [
    "thread和task两种切换顺序的不同方式，分别对应Python中并发的两种形式---threading和asyncio。\n",
    "\n",
    "**并发编程之Futures**"
   ]
  },
  {
   "cell_type": "code",
   "execution_count": null,
   "id": "6448e0f2-7fea-4cb0-9bb6-01beb9a57b3e",
   "metadata": {},
   "outputs": [],
   "source": [
    "import concurrent.futures\n",
    "import requests\n",
    "import threading\n",
    "import time\n",
    "\n",
    "def download_one(url):\n",
    "    resp = requests.get(url)\n",
    "    print('Read {} characters from {}'.format(len(resp.content), url))\n",
    "\n",
    "def download_all(urls):\n",
    "    with concurrent.futures.ThreadPoolExecutor(max_workers=5) as executor:\n",
    "        executor.map(download_one, urls)\n",
    "\n",
    "def main():\n",
    "    sites = [ \n",
    "        'https://www.baidu.com/', \n",
    "        'https://pypi.org/', \n",
    "        'https://www.sina.com.cn/', \n",
    "        'https://www.163.com/', \n",
    "        'https://news.qq.com/', \n",
    "        'http://www.ifeng.com/', \n",
    "        'http://www.ce.cn/', \n",
    "        'https://news.baidu.com/', \n",
    "        'http://www.people.com.cn/', \n",
    "        'http://www.ce.cn/', \n",
    "        'https://news.163.com/', \n",
    "        'http://news.sohu.com/' \n",
    "    ]\n",
    "    start_time = time.perf_counter()\n",
    "    download_all(sites)\n",
    "    end_time = time.perf_counter()\n",
    "    print('Downloads {} sites in {} seconds'.format(len(sites), end_time - start_time))\n",
    "    \n",
    "\n",
    "main()"
   ]
  },
  {
   "cell_type": "code",
   "execution_count": 12,
   "id": "15b85313-e38a-4512-8f82-1cb50d5f055a",
   "metadata": {},
   "outputs": [
    {
     "name": "stdout",
     "output_type": "stream",
     "text": [
      "2\n"
     ]
    }
   ],
   "source": [
    "print(len('ab'))"
   ]
  },
  {
   "cell_type": "markdown",
   "id": "8287c0c0-abae-4568-af43-36b3bb398e4e",
   "metadata": {},
   "source": [
    "Futures中还有一个重要的函数result()，它表示当future完成后，返回其对应的结果或异常。而as_completed(fs)，则是针对给定的future迭代器fs，在其完成后，返回完成的迭代器。"
   ]
  },
  {
   "cell_type": "code",
   "execution_count": null,
   "id": "b1dbd0d2-0d18-44fa-87ff-3607bf25d26a",
   "metadata": {},
   "outputs": [],
   "source": []
  },
  {
   "cell_type": "code",
   "execution_count": 19,
   "id": "ad9a182f-418b-4090-9482-49fabdf7d6bf",
   "metadata": {},
   "outputs": [
    {
     "name": "stdout",
     "output_type": "stream",
     "text": [
      "start returnNumber 0<Future at 0x7ff3cd0b1ee0 state=running>\n",
      "\n",
      "start returnNumber 1\n",
      "<Future at 0x7ff3cd550c70 state=running>\n",
      "start returnNumber 2\n",
      "<Future at 0x7ff3cd550e80 state=running>\n",
      "start returnNumber 3\n",
      "<Future at 0x7ff3cd53edc0 state=running>\n",
      "start returnNumber 4\n",
      "<Future at 0x7ff3cbe70a60 state=running>\n",
      "<Future at 0x7ff3cd550d90 state=pending>\n",
      "<Future at 0x7ff3cd54fd90 state=pending>\n",
      "<Future at 0x7ff3cd54fac0 state=pending>\n",
      "<Future at 0x7ff3cd54f880 state=pending>\n",
      "<Future at 0x7ff3cd54f1f0 state=pending>\n",
      "---middle---\n",
      "end returnNumber 3\n",
      "start returnNumber 5\n",
      "3\n",
      "end returnNumber 0\n",
      "start returnNumber 6\n",
      "0\n",
      "end returnNumber 4\n",
      "start returnNumber 7\n",
      "4\n",
      "end returnNumber 1end returnNumber 2\n",
      "start returnNumber 8\n",
      "2\n",
      "\n",
      "start returnNumber 9\n",
      "1\n",
      "end returnNumber 5\n",
      "5\n",
      "end returnNumber 7\n",
      "7\n",
      "end returnNumber 9\n",
      "9\n",
      "end returnNumber 6\n",
      "6\n",
      "end returnNumber 8\n",
      "8\n",
      "end\n"
     ]
    }
   ],
   "source": [
    "from concurrent import futures\n",
    "import time\n",
    "import random\n",
    "\n",
    "def returnNumber(number: int):\n",
    "    print(\"start returnNumber {}\".format(number))\n",
    "    time.sleep(random.randint(10, 20))\n",
    "    print(\"end returnNumber {}\".format(number))\n",
    "    return number\n",
    "\n",
    "if __name__ == \"__main__\":\n",
    "    with futures.ThreadPoolExecutor(5) as executor:\n",
    "        to_do = []\n",
    "        for number in range(0, 10):\n",
    "            future = executor.submit(returnNumber, number) # 添加到futures的任务队列，等待排队执行\n",
    "            print(future)\n",
    "            to_do.append(future)\n",
    "        print(\"---middle---\")\n",
    "        for future in futures.as_completed(to_do): # 当某一个future任务执行完毕，执行下面的代码。会堵塞，等待线程完成后执行\n",
    "            res = future.result() # 获取线程的返回结果\n",
    "            print(res)\n",
    "    print(\"end\")\n",
    "                 "
   ]
  },
  {
   "cell_type": "code",
   "execution_count": 21,
   "id": "6436dcac-d207-4862-bffb-4c0f38e7ca70",
   "metadata": {},
   "outputs": [
    {
     "name": "stdout",
     "output_type": "stream",
     "text": [
      "Read 2443 from https://www.baidu.com/\n",
      "res: None\n",
      "Read 7751 from https://news.qq.com/\n",
      "Read 613992 from https://www.163.com/\n",
      "Read 346384 from http://www.ifeng.com/\n",
      "Read 120284 from http://www.ce.cn/\n",
      "Read 493100 from https://www.sina.com.cn/\n",
      "Read 98517 from http://www.people.com.cn/\n",
      "Read 151882 from http://news.sohu.com/\n",
      "Read 120284 from http://www.ce.cn/\n",
      "Read 79199 from https://news.baidu.com/\n",
      "Read 328436 from https://news.163.com/\n",
      "Read 28698 from https://pypi.org/\n",
      "res: None\n",
      "res: None\n",
      "res: None\n",
      "res: None\n",
      "res: None\n",
      "res: None\n",
      "res: None\n",
      "res: None\n",
      "res: None\n",
      "res: None\n",
      "res: None\n",
      "Download 12 sites in 0.8258417280012509 seconds\n"
     ]
    }
   ],
   "source": [
    "import concurrent.futures\n",
    "import requests\n",
    "import time\n",
    "\n",
    "def download_one(url):\n",
    "    resp = requests.get(url)\n",
    "    print('Read {} from {}'.format(len(resp.content), url))\n",
    "\n",
    "def download_all(sites):\n",
    "    with futures.ThreadPoolExecutor(max_workers=5) as executor:\n",
    "        to_do = []\n",
    "        for site in sites:\n",
    "            future = executor.submit(download_one, site)\n",
    "            to_do.append(future)\n",
    "        \n",
    "        for future in to_do:\n",
    "            res = future.result()\n",
    "            print(\"res: {}\".format(res))\n",
    "\n",
    "def main():\n",
    "    sites = [ \n",
    "        'https://www.baidu.com/', \n",
    "        'https://pypi.org/', \n",
    "        'https://www.sina.com.cn/', \n",
    "        'https://www.163.com/', \n",
    "        'https://news.qq.com/', \n",
    "        'http://www.ifeng.com/', \n",
    "        'http://www.ce.cn/', \n",
    "        'https://news.baidu.com/', \n",
    "        'http://www.people.com.cn/', \n",
    "        'http://www.ce.cn/', \n",
    "        'https://news.163.com/', \n",
    "        'http://news.sohu.com/' \n",
    "    ]\n",
    "    start_time = time.perf_counter()\n",
    "    download_all(sites)\n",
    "    end_time = time.perf_counter()\n",
    "    print('Download {} sites in {} seconds'.format(len(sites), end_time - start_time))\n",
    "\n",
    "if __name__ == '__main__':\n",
    "    main()"
   ]
  },
  {
   "cell_type": "markdown",
   "id": "12dfddfc-3a4e-4921-920b-27b7e04c9fe8",
   "metadata": {},
   "source": [
    "**总结**\n",
    "\n",
    "* 并发，通过线程和任务之间相互切换的方式实现，但同一时刻，只允许有一个线程或任务执行。\n",
    "* 而并行，则是只多个进程同时执行。\n",
    "\n",
    "并发通常用于I/O操作频繁的场景，而并行则适用于CPU heavy的场景。"
   ]
  },
  {
   "cell_type": "code",
   "execution_count": null,
   "id": "d4cdc713-cabd-496f-a3d2-5fac0808f38a",
   "metadata": {},
   "outputs": [],
   "source": []
  }
 ],
 "metadata": {
  "kernelspec": {
   "display_name": "Python 3 (ipykernel)",
   "language": "python",
   "name": "python3"
  },
  "language_info": {
   "codemirror_mode": {
    "name": "ipython",
    "version": 3
   },
   "file_extension": ".py",
   "mimetype": "text/x-python",
   "name": "python",
   "nbconvert_exporter": "python",
   "pygments_lexer": "ipython3",
   "version": "3.9.0"
  }
 },
 "nbformat": 4,
 "nbformat_minor": 5
}
