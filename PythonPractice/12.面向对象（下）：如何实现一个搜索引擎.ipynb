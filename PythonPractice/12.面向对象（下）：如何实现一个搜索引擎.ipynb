{
 "cells": [
  {
   "cell_type": "code",
   "execution_count": 22,
   "id": "36ebeb57-d936-4fba-b680-06e73968ac65",
   "metadata": {
    "tags": []
   },
   "outputs": [],
   "source": [
    "class SearchEngineBase(object):\n",
    "    def __init__(self):\n",
    "        pass\n",
    "    \n",
    "    def add_corpus(self, file_path):\n",
    "        with open(file_path, 'r') as fin:\n",
    "            text = fin.read()\n",
    "        self.process_corpus(file_path, text)\n",
    "    \n",
    "    def process_corpus(self, id, text):\n",
    "        raise Exception('process_corpus not implemented.')\n",
    "    \n",
    "    def search(self, query):\n",
    "        raise Exception('search not implemented.')\n",
    "\n",
    "def main(search_engine):\n",
    "    for file_path in ['1.txt', '2.txt', '3.txt', '4.txt', '5.txt']:\n",
    "        search_engine.add_corpus(file_path)\n",
    "    \n",
    "    while True:\n",
    "        query = input()\n",
    "        results = search_engine.search(query)\n",
    "        print('found {} result(s)'.format(len(results)))\n",
    "        for result in results:\n",
    "            print(result)\n",
    "\n",
    "class SimpleEngine(SearchEngineBase):\n",
    "    def __init__(self):\n",
    "        super(SimpleEngine, self).__init__()\n",
    "        self.__id_to_texts = {}\n",
    "    \n",
    "    def process_corpus(self, id, text):\n",
    "        self.__id_to_texts[id] = text\n",
    "    \n",
    "    def search(self, query): \n",
    "        results = [] \n",
    "        for id, text in self.__id_to_texts.items(): \n",
    "            if query in text: \n",
    "                results.append(id) \n",
    "        return results\n",
    "\n",
    "# search_engine = SimpleEngine()\n",
    "# main(search_engine)"
   ]
  },
  {
   "cell_type": "code",
   "execution_count": null,
   "id": "cac71b8d-39a7-4f5c-8806-3a92dfc8ef7b",
   "metadata": {},
   "outputs": [
    {
     "name": "stdin",
     "output_type": "stream",
     "text": [
      " i have a dream\n"
     ]
    },
    {
     "name": "stdout",
     "output_type": "stream",
     "text": [
      "found 3 result(s)\n",
      "1.txt\n",
      "2.txt\n",
      "3.txt\n"
     ]
    },
    {
     "name": "stdin",
     "output_type": "stream",
     "text": [
      " I have a dream\n"
     ]
    },
    {
     "name": "stdout",
     "output_type": "stream",
     "text": [
      "found 3 result(s)\n",
      "1.txt\n",
      "2.txt\n",
      "3.txt\n"
     ]
    },
    {
     "name": "stdin",
     "output_type": "stream",
     "text": [
      " I HAVE A DREAM\n"
     ]
    },
    {
     "name": "stdout",
     "output_type": "stream",
     "text": [
      "found 3 result(s)\n",
      "1.txt\n",
      "2.txt\n",
      "3.txt\n"
     ]
    },
    {
     "name": "stdin",
     "output_type": "stream",
     "text": [
      " I HAVES A\n"
     ]
    },
    {
     "name": "stdout",
     "output_type": "stream",
     "text": [
      "found 0 result(s)\n"
     ]
    }
   ],
   "source": [
    "import re\n",
    "\n",
    "class BOWEngine(SearchEngineBase):\n",
    "    def __init__(self):\n",
    "        super().__init__()\n",
    "        self.__id_to_words = {}\n",
    "    \n",
    "    def process_corpus(self, id, text):\n",
    "        self.__id_to_words[id] = self.parse_text_to_words(text)\n",
    "    \n",
    "    def search(self, query):\n",
    "        query_words = self.parse_text_to_words(query)\n",
    "        results = []\n",
    "        for id, words in self.__id_to_words.items():\n",
    "            if self.query_match(query_words, words):\n",
    "                results.append(id)\n",
    "        return results\n",
    "    \n",
    "    @staticmethod\n",
    "    def query_match(query_words, words):\n",
    "        for query_word in query_words:\n",
    "            if query_word not in words:\n",
    "                return False\n",
    "        return True\n",
    "    \n",
    "    @staticmethod\n",
    "    def parse_text_to_words(text):\n",
    "        # 使用正则表达式去除标点符号和换行符\n",
    "        text = re.sub(r'[^\\w]', ' ', text)\n",
    "        # 转化小写\n",
    "        text = text.lower()\n",
    "        # 生成所有单词的列表\n",
    "        word_list = text.split(' ')\n",
    "        # 去除空白单词\n",
    "        word_list = filter(None, word_list)\n",
    "        # 返回单词list\n",
    "        return set(word_list)\n",
    "search_engine = BOWEngine()\n",
    "main(search_engine)"
   ]
  },
  {
   "cell_type": "code",
   "execution_count": 23,
   "id": "6ac38d2f-6704-4a1a-ae4e-980d23ba80f1",
   "metadata": {},
   "outputs": [
    {
     "name": "stdout",
     "output_type": "stream",
     "text": [
      "['I', 'm', 'a', 'good', 'student', 'and_888', '', '9']\n",
      "{'student', '9', 'm', 'a', 'I', 'and_888', 'good'}\n",
      "[(-1, 'a'), (0, 'b'), (1, 'c')]\n",
      "[0, 0, 0, 0]\n"
     ]
    }
   ],
   "source": [
    "import re\n",
    "s = \"I'm a good student.and_888--9\"\n",
    "s = re.sub(r'[^\\w]', ' ', s)\n",
    "print(s.split(' '))\n",
    "print(set(filter(None, s.split(' '))))\n",
    "\n",
    "index = {\n",
    "    \"a\": 1,\n",
    "    \"b\": 2,\n",
    "    \"c\": 3\n",
    "}\n",
    "\n",
    "# print(('a', 1) in index.keys)\n",
    "\n",
    "print(list(enumerate('abc', start=-1)))\n",
    "\n",
    "\n",
    "results = set() \n",
    "for idx, query_word in enumerate(query_words): # 获取每一个单词的存在逻辑 \n",
    "    if idx == 0: \n",
    "        results = set(self.inverted_index[query_word]) \n",
    "    results = results.intersection(self.inverted_index[query_word]) \n",
    "return results\n",
    "\n",
    "\n",
    "query_words = list(['I', 'am', 'a', 'good'])\n",
    "query_words_index = list()\n",
    "for query_word in query_words:\n",
    "    query_words_index.append(0)\n",
    "print(query_words_index)"
   ]
  },
  {
   "cell_type": "code",
   "execution_count": 24,
   "id": "af93204c-8433-4d5b-a4e8-50713c0a33c0",
   "metadata": {},
   "outputs": [
    {
     "name": "stdin",
     "output_type": "stream",
     "text": [
      " little a\n"
     ]
    },
    {
     "name": "stdout",
     "output_type": "stream",
     "text": [
      "found 2 result(s)\n",
      "1.txt\n",
      "2.txt\n"
     ]
    },
    {
     "name": "stdin",
     "output_type": "stream",
     "text": [
      " little aaaaaaaaaa\n"
     ]
    },
    {
     "ename": "<class 'KeyError'>",
     "evalue": "'aaaaaaaaaa'",
     "output_type": "error",
     "traceback": [
      "\u001b[0;31m---------------------------------------------------------------------------\u001b[0m",
      "\u001b[0;31mKeyError\u001b[0m                                  Traceback (most recent call last)",
      "Input \u001b[0;32mIn [24]\u001b[0m, in \u001b[0;36m<cell line: 72>\u001b[0;34m()\u001b[0m\n\u001b[1;32m     69\u001b[0m         \u001b[38;5;28;01mreturn\u001b[39;00m \u001b[38;5;28mset\u001b[39m(word_list)\n\u001b[1;32m     71\u001b[0m search_engine \u001b[38;5;241m=\u001b[39m BOWInvertedIndexEngine()\n\u001b[0;32m---> 72\u001b[0m main(search_engine)\n",
      "Input \u001b[0;32mIn [22]\u001b[0m, in \u001b[0;36mmain\u001b[0;34m(search_engine)\u001b[0m\n\u001b[1;32m     20\u001b[0m \u001b[38;5;28;01mwhile\u001b[39;00m \u001b[38;5;28;01mTrue\u001b[39;00m:\n\u001b[1;32m     21\u001b[0m     query \u001b[38;5;241m=\u001b[39m \u001b[38;5;28minput\u001b[39m()\n\u001b[0;32m---> 22\u001b[0m     results \u001b[38;5;241m=\u001b[39m \u001b[43msearch_engine\u001b[49m\u001b[38;5;241;43m.\u001b[39;49m\u001b[43msearch\u001b[49m\u001b[43m(\u001b[49m\u001b[43mquery\u001b[49m\u001b[43m)\u001b[49m\n\u001b[1;32m     23\u001b[0m     \u001b[38;5;28mprint\u001b[39m(\u001b[38;5;124m'\u001b[39m\u001b[38;5;124mfound \u001b[39m\u001b[38;5;132;01m{}\u001b[39;00m\u001b[38;5;124m result(s)\u001b[39m\u001b[38;5;124m'\u001b[39m\u001b[38;5;241m.\u001b[39mformat(\u001b[38;5;28mlen\u001b[39m(results)))\n\u001b[1;32m     24\u001b[0m     \u001b[38;5;28;01mfor\u001b[39;00m result \u001b[38;5;129;01min\u001b[39;00m results:\n",
      "Input \u001b[0;32mIn [24]\u001b[0m, in \u001b[0;36mBOWInvertedIndexEngine.search\u001b[0;34m(self, query)\u001b[0m\n\u001b[1;32m     19\u001b[0m     \u001b[38;5;28;01mif\u001b[39;00m idx \u001b[38;5;241m==\u001b[39m \u001b[38;5;241m0\u001b[39m: \n\u001b[1;32m     20\u001b[0m         results \u001b[38;5;241m=\u001b[39m \u001b[38;5;28mset\u001b[39m(\u001b[38;5;28mself\u001b[39m\u001b[38;5;241m.\u001b[39m__inverted_index[query_word]) \n\u001b[0;32m---> 21\u001b[0m     results \u001b[38;5;241m=\u001b[39m results\u001b[38;5;241m.\u001b[39mintersection(\u001b[38;5;28;43mself\u001b[39;49m\u001b[38;5;241;43m.\u001b[39;49m\u001b[43m__inverted_index\u001b[49m\u001b[43m[\u001b[49m\u001b[43mquery_word\u001b[49m\u001b[43m]\u001b[49m) \n\u001b[1;32m     22\u001b[0m \u001b[38;5;28;01mreturn\u001b[39;00m results\n",
      "\u001b[0;31mKeyError\u001b[0m: 'aaaaaaaaaa'"
     ]
    }
   ],
   "source": [
    "import re\n",
    "\n",
    "class BOWInvertedIndexEngine(SearchEngineBase):\n",
    "    def __init__(self):\n",
    "        super().__init__()\n",
    "        self.__inverted_index = {}\n",
    "    \n",
    "    def process_corpus(self, id, text):\n",
    "        words = self.parse_text_to_words(text)\n",
    "        for word in words:\n",
    "            if word not in self.__inverted_index:\n",
    "                self.__inverted_index[word] = []\n",
    "            self.__inverted_index[word].append(id)\n",
    "            \n",
    "    def search(self, query):\n",
    "        query_words = list(self.parse_text_to_words(query))\n",
    "        results = set() \n",
    "        for idx, query_word in enumerate(query_words): # 获取每一个单词的存在逻辑 \n",
    "            if idx == 0: \n",
    "                results = set(self.__inverted_index[query_word]) \n",
    "            results = results.intersection(self.__inverted_index[query_word]) \n",
    "        return results\n",
    "                \n",
    "    def search2(self, query):\n",
    "        query_words = list(self.parse_text_to_words(query))\n",
    "        query_words_index = list()\n",
    "        for query_word in query_words:\n",
    "            query_words_index.append(0)\n",
    "        # 如果某一个单词的倒序索引为空，立刻返回\n",
    "        for query_word in query_words:\n",
    "            if query_word not in self.__inverted_index:\n",
    "                return []\n",
    "        \n",
    "        result = []\n",
    "        while True:\n",
    "            # 首先获得当前状态下所有倒序索引的index\n",
    "            current_ids = []\n",
    "            \n",
    "            for idx, query_word in enumerate(query_words):\n",
    "                current_index = query_words_index[idx]\n",
    "                current_inverted_list = self.__inverted_index[query_word]\n",
    "                \n",
    "                # 已经遍历到某一个倒序索引的末尾，结束search\n",
    "                if current_index >= len(current_inverted_list):\n",
    "                    return result\n",
    "                current_ids.append(current_inverted_list[current_index])\n",
    "            \n",
    "            # 然后，如果current_ids的所有元素都一样，那么表明这个单词在这个元素对应的文档中都出现了\n",
    "            if all(x == current_ids[0] for x in current_ids):\n",
    "                result.append(current_ids[0])\n",
    "                query_words_index = [x + 1 for x in query_words_index]\n",
    "                continue\n",
    "            # 如果不是，我们就把最小元素加一\n",
    "            min_val = min(current_ids)\n",
    "            min_val_pos = current_ids.index(min_val)\n",
    "            query_words_index[min_val_pos] += 1\n",
    "    \n",
    "    @staticmethod\n",
    "    def parse_text_to_words(text):\n",
    "        # 使用正则去除标点符号和换行符\n",
    "        text = re.sub(r'[^\\w]', ' ', text)\n",
    "        # 转化为小写\n",
    "        text = text.lower()\n",
    "        # 生成所有单词列表\n",
    "        word_list = text.split(' ')\n",
    "        # 去除空白词\n",
    "        word_list = filter(None, word_list)\n",
    "        # 返回单词的set\n",
    "        return set(word_list)\n",
    "\n",
    "search_engine = BOWInvertedIndexEngine()\n",
    "main(search_engine)"
   ]
  },
  {
   "cell_type": "code",
   "execution_count": null,
   "id": "fbc706f4-e5ab-4337-8c4d-98445ab62340",
   "metadata": {},
   "outputs": [
    {
     "name": "stdin",
     "output_type": "stream",
     "text": [
      " little a\n"
     ]
    },
    {
     "name": "stdout",
     "output_type": "stream",
     "text": [
      "found 2 result(s)\n",
      "1.txt\n",
      "2.txt\n"
     ]
    },
    {
     "name": "stdin",
     "output_type": "stream",
     "text": [
      " little a\n"
     ]
    },
    {
     "name": "stdout",
     "output_type": "stream",
     "text": [
      "cache hit\n",
      "found 2 result(s)\n",
      "1.txt\n",
      "2.txt\n"
     ]
    }
   ],
   "source": [
    "import pylru\n",
    "\n",
    "class LRUCache(object):\n",
    "    def __init__(self, size=32):\n",
    "        self.cache = pylru.lrucache(size)\n",
    "    \n",
    "    def has(self, key):\n",
    "        return key in self.cache\n",
    "\n",
    "    def get(self, key):\n",
    "        return self.cache[key]\n",
    "    \n",
    "    def set(self, key, value):\n",
    "        self.cache[key] = value\n",
    "\n",
    "class BOWInvertedIndexEngineWithCache(BOWInvertedIndexEngine, LRUCache):\n",
    "    def __init__(self):\n",
    "        BOWInvertedIndexEngine.__init__(self)\n",
    "        LRUCache.__init__(self)\n",
    "    \n",
    "    def search(self, query):\n",
    "        if self.has(query):\n",
    "            print('cache hit')\n",
    "            return self.get(query)\n",
    "        result = super().search(query)\n",
    "        self.set(query, result)\n",
    "        return result\n",
    "\n",
    "search_engine = BOWInvertedIndexEngineWithCache()\n",
    "main(search_engine)\n",
    "            "
   ]
  },
  {
   "cell_type": "code",
   "execution_count": 13,
   "id": "2f3469bf-72a7-408a-902a-49b737b54fd1",
   "metadata": {},
   "outputs": [
    {
     "name": "stdout",
     "output_type": "stream",
     "text": [
      "enter D\n",
      "enter B\n",
      "enter C\n",
      "leave C\n",
      "leave B\n",
      "enter C\n",
      "leave C\n",
      "leave D\n"
     ]
    },
    {
     "data": {
      "text/plain": [
       "<__main__.D at 0x7ff422a20790>"
      ]
     },
     "execution_count": 13,
     "metadata": {},
     "output_type": "execute_result"
    }
   ],
   "source": [
    "# 测试\n",
    "\n",
    "class A():\n",
    "    def __init__(self):\n",
    "        print('enter A')\n",
    "        print('leave A')\n",
    "\n",
    "class B(A):\n",
    "    def __init__(self):\n",
    "        print('enter B')\n",
    "        super().__init__()\n",
    "        print('leave B')\n",
    "\n",
    "class C(A):\n",
    "    def __init__(self):\n",
    "        print('enter C')\n",
    "        # super().__init__()\n",
    "        print('leave C')\n",
    "\n",
    "class D(B, C):\n",
    "    def __init__(self):\n",
    "        print('enter D')\n",
    "        super().__init__()\n",
    "        C.__init__(self)\n",
    "        print('leave D') \n",
    "\n",
    "D()\n"
   ]
  },
  {
   "cell_type": "code",
   "execution_count": 14,
   "id": "43244d86-b14f-41ec-8324-d3746bf48d34",
   "metadata": {},
   "outputs": [
    {
     "name": "stdout",
     "output_type": "stream",
     "text": [
      "调用父类的方法\n"
     ]
    },
    {
     "data": {
      "text/plain": [
       "'aaa'"
      ]
     },
     "execution_count": 14,
     "metadata": {},
     "output_type": "execute_result"
    }
   ],
   "source": [
    "# 调用父类属性方法\n",
    "class Father():\n",
    "    def __init__(self):\n",
    "        self.a = 'aaa'\n",
    "    def action(self):\n",
    "        print('调用父类的方法')\n",
    "        \n",
    "class Son(Father):\n",
    "    pass\n",
    "\n",
    "son = Son()\n",
    "son.action()\n",
    "son.a"
   ]
  },
  {
   "cell_type": "code",
   "execution_count": 15,
   "id": "33e18209-6273-4e1e-a1df-9071c54f35c0",
   "metadata": {},
   "outputs": [
    {
     "name": "stdout",
     "output_type": "stream",
     "text": [
      "子类重写父类的方法\n"
     ]
    },
    {
     "data": {
      "text/plain": [
       "'bbb'"
      ]
     },
     "execution_count": 15,
     "metadata": {},
     "output_type": "execute_result"
    }
   ],
   "source": [
    "# 重写父类的属性\n",
    "class Son(Father):\n",
    "    def __init__(self):\n",
    "        self.a = 'bbb'\n",
    "    def action(self):\n",
    "        print('子类重写父类的方法')\n",
    "son = Son()\n",
    "son.action()\n",
    "son.a"
   ]
  },
  {
   "cell_type": "code",
   "execution_count": 18,
   "id": "fb75ada5-0e06-47b9-9bfc-cc5c445a5032",
   "metadata": {},
   "outputs": [
    {
     "name": "stdout",
     "output_type": "stream",
     "text": [
      "a\n"
     ]
    }
   ],
   "source": [
    "class Father():\n",
    "    def __init__(self):\n",
    "        self.a = 'a'\n",
    "class Son(Father):\n",
    "    def __init__(self):\n",
    "        super().__init__()\n",
    "\n",
    "son = Son()\n",
    "print(son.a)"
   ]
  },
  {
   "cell_type": "code",
   "execution_count": 19,
   "id": "f5445da7-9836-4a32-8804-b8d9d2ad75b0",
   "metadata": {},
   "outputs": [
    {
     "name": "stdout",
     "output_type": "stream",
     "text": [
      "Base.__init__\n",
      "A.__init__\n",
      "Base.__init__\n",
      "B.__init__\n",
      "C.__init__\n"
     ]
    }
   ],
   "source": [
    "class Base:\n",
    "    def __init__(self):\n",
    "        print('Base.__init__')\n",
    "class A(Base):\n",
    "    def __init__(self):\n",
    "        Base.__init__(self)\n",
    "        print('A.__init__')\n",
    "class B(Base):\n",
    "    def __init__(self):\n",
    "        Base.__init__(self)\n",
    "        print('B.__init__')\n",
    "class C(A, B):\n",
    "    def __init__(self):\n",
    "        A.__init__(self)\n",
    "        B.__init__(self)\n",
    "        print('C.__init__')\n",
    "c = C()\n",
    "\n",
    "# 从左到右\n",
    "# 深度优先"
   ]
  },
  {
   "cell_type": "code",
   "execution_count": 20,
   "id": "79c6d0c9-b87f-40de-9110-e08788f9aeef",
   "metadata": {},
   "outputs": [
    {
     "name": "stdout",
     "output_type": "stream",
     "text": [
      "Base.__init__\n",
      "B.__init__\n",
      "A.__init__\n",
      "C.__init__\n"
     ]
    }
   ],
   "source": [
    "class Base:\n",
    "    def __init__(self):\n",
    "        print('Base.__init__')\n",
    "class A(Base):\n",
    "    def __init__(self):\n",
    "        super().__init__()\n",
    "        print('A.__init__')\n",
    "class B(Base):\n",
    "    def __init__(self):\n",
    "        super().__init__()\n",
    "        print('B.__init__')\n",
    "class C(A, B):\n",
    "    def __init__(self):\n",
    "        super().__init__()\n",
    "        print('C.__init__')\n",
    "c = C()"
   ]
  },
  {
   "cell_type": "code",
   "execution_count": null,
   "id": "dc30844f-0d68-4483-ba7b-4ceb10962024",
   "metadata": {},
   "outputs": [],
   "source": []
  }
 ],
 "metadata": {
  "kernelspec": {
   "display_name": "Python 3.9 (XPython)",
   "language": "python",
   "name": "xpython"
  },
  "language_info": {
   "file_extension": ".py",
   "mimetype": "text/x-python",
   "name": "python",
   "version": "3.9.11"
  }
 },
 "nbformat": 4,
 "nbformat_minor": 5
}
